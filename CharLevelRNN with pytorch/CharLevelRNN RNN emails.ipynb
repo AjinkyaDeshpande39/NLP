{
 "cells": [
  {
   "cell_type": "code",
   "execution_count": 1,
   "metadata": {},
   "outputs": [],
   "source": [
    "import numpy as np\n",
    "import time"
   ]
  },
  {
   "cell_type": "code",
   "execution_count": 2,
   "metadata": {},
   "outputs": [],
   "source": [
    "import torch\n",
    "import torchvision\n",
    "import torch.nn as nn\n",
    "import torch.optim as optim\n",
    "import matplotlib.pyplot as plt\n",
    "import torch.nn.functional as F"
   ]
  },
  {
   "cell_type": "code",
   "execution_count": 3,
   "metadata": {},
   "outputs": [],
   "source": [
    "device = 'cuda'"
   ]
  },
  {
   "cell_type": "code",
   "execution_count": 13,
   "metadata": {},
   "outputs": [],
   "source": [
    "emails = np.loadtxt('Fake email2.txt',dtype='object')"
   ]
  },
  {
   "cell_type": "code",
   "execution_count": 14,
   "metadata": {},
   "outputs": [
    {
     "name": "stdout",
     "output_type": "stream",
     "text": [
      "guialbu@comcast.net\n",
      "sjmuir@gmail.com\n",
      "iapetus@att.net\n",
      "iamcal@yahoo.ca\n",
      "fraser@yahoo.ca\n",
      "bryam@gmail.com\n",
      "mastinfo@yahoo.com\n",
      "marioph@aol.com\n",
      "bowmanbs@hotmail.com\n",
      "mhanoh@hotmail.com\n",
      ".\n",
      ".\n",
      ".\n",
      "(5000,)\n",
      "<class 'numpy.ndarray'>\n"
     ]
    }
   ],
   "source": [
    "for i in range(20,30):\n",
    "    print(names[i])\n",
    "print('.\\n.\\n.')\n",
    "print(names.shape)\n",
    "print(type(names))"
   ]
  },
  {
   "cell_type": "code",
   "execution_count": 15,
   "metadata": {},
   "outputs": [],
   "source": [
    "alphabets = {'.':0,'a':1,'b':2,'c':3,'d':4,'e':5,'f':6,'g':7,'h':8,'i':9,'j':10,'k':11,'l':12,'m':13,'n':14,'o':15,'p':16,'q':17,\n",
    "            'r':18,'s':19,'t':20,'u':21,'v':22,'w':23,'x':24,'y':25,'z':26,'1':27,'2':28,'3':29,'4':30,'5':31,'6':32,'7':33,\n",
    "             '8':34,'9':35,'0':36,'@':37,'-':38,'#':39,'$':40,';':41}"
   ]
  },
  {
   "cell_type": "code",
   "execution_count": 16,
   "metadata": {},
   "outputs": [
    {
     "data": {
      "text/plain": [
       "{0: '.',\n",
       " 1: 'a',\n",
       " 2: 'b',\n",
       " 3: 'c',\n",
       " 4: 'd',\n",
       " 5: 'e',\n",
       " 6: 'f',\n",
       " 7: 'g',\n",
       " 8: 'h',\n",
       " 9: 'i',\n",
       " 10: 'j',\n",
       " 11: 'k',\n",
       " 12: 'l',\n",
       " 13: 'm',\n",
       " 14: 'n',\n",
       " 15: 'o',\n",
       " 16: 'p',\n",
       " 17: 'q',\n",
       " 18: 'r',\n",
       " 19: 's',\n",
       " 20: 't',\n",
       " 21: 'u',\n",
       " 22: 'v',\n",
       " 23: 'w',\n",
       " 24: 'x',\n",
       " 25: 'y',\n",
       " 26: 'z',\n",
       " 27: '1',\n",
       " 28: '2',\n",
       " 29: '3',\n",
       " 30: '4',\n",
       " 31: '5',\n",
       " 32: '6',\n",
       " 33: '7',\n",
       " 34: '8',\n",
       " 35: '9',\n",
       " 36: '0',\n",
       " 37: '@',\n",
       " 38: '-',\n",
       " 39: '#',\n",
       " 40: '$',\n",
       " 41: ';'}"
      ]
     },
     "execution_count": 16,
     "metadata": {},
     "output_type": "execute_result"
    }
   ],
   "source": [
    "rev_alphabets={}\n",
    "for i in alphabets:\n",
    "    rev_alphabets[alphabets[i]] = i\n",
    "\n",
    "rev_alphabets"
   ]
  },
  {
   "cell_type": "code",
   "execution_count": 23,
   "metadata": {},
   "outputs": [],
   "source": [
    "input_size = output_size = len(alphabets)\n",
    "hidden_size = 64\n",
    "num_layers = 2\n",
    "learning_rate = 0.001\n",
    "num_epochs = 9"
   ]
  },
  {
   "cell_type": "code",
   "execution_count": 27,
   "metadata": {},
   "outputs": [],
   "source": [
    "def encodings(word,alphabets):\n",
    "    op_word = word[1:] + ';'\n",
    "    l = len(word)\n",
    "    ip_word_enc = torch.zeros([l,input_size])\n",
    "    op_word_enc = torch.zeros([l],dtype=torch.long)\n",
    "    \n",
    "    for i in range(l):\n",
    "        ip_word_enc[i,alphabets[word[i]]] = 1\n",
    "        op_word_enc[i] = alphabets[op_word[i]]\n",
    "    return(ip_word_enc,op_word_enc)"
   ]
  },
  {
   "cell_type": "code",
   "execution_count": 28,
   "metadata": {},
   "outputs": [
    {
     "data": {
      "text/plain": [
       "tensor([ 1, 19,  1, 18,  9, 21, 19, 37, 13, 19, 14,  0,  3, 15, 13, 41])"
      ]
     },
     "execution_count": 28,
     "metadata": {},
     "output_type": "execute_result"
    }
   ],
   "source": [
    "a,b = encodings(names[0].lower(),alphabets)\n",
    "b"
   ]
  },
  {
   "cell_type": "code",
   "execution_count": 29,
   "metadata": {},
   "outputs": [],
   "source": [
    "class RNN(nn.Module):\n",
    "    def __init__(self,input_size,hidden_size,num_layers,output_size):\n",
    "        super(RNN,self).__init__()\n",
    "        self.input_size = input_size\n",
    "        self.hidden_size = hidden_size\n",
    "        self.num_layers = num_layers\n",
    "        self.rnn = nn.RNN(input_size,hidden_size,batch_first=True,num_layers=self.num_layers)\n",
    "        self.fc = nn.Linear(hidden_size,output_size)\n",
    "        \n",
    "    def forward(self,input,hidden):\n",
    "        output,hidden = self.rnn(input,hidden)\n",
    "        output = self.fc(output)\n",
    "        return(output,hidden)\n",
    "    \n",
    "    def initHidden(self):\n",
    "        return torch.zeros([self.num_layers,1,self.hidden_size])"
   ]
  },
  {
   "cell_type": "code",
   "execution_count": null,
   "metadata": {},
   "outputs": [],
   "source": []
  },
  {
   "cell_type": "code",
   "execution_count": 30,
   "metadata": {},
   "outputs": [],
   "source": [
    "\n",
    "model = RNN(input_size,hidden_size,num_layers,output_size).to(device)\n",
    "criterion = nn.CrossEntropyLoss()\n",
    "optimizer = optim.Adam(model.parameters(),lr=learning_rate)\n"
   ]
  },
  {
   "cell_type": "code",
   "execution_count": 31,
   "metadata": {},
   "outputs": [
    {
     "name": "stdout",
     "output_type": "stream",
     "text": [
      "epoch_loss : 1.4919370681166648  |  time : 18.41920232772827 sec\n",
      "epoch_loss : 1.1728842446684837  |  time : 18.849705696105957 sec\n",
      "epoch_loss : 1.1100815404236317  |  time : 18.336405992507935 sec\n",
      "epoch_loss : 1.055498334401846  |  time : 18.58018684387207 sec\n",
      "epoch_loss : 1.0026205590605737  |  time : 19.246757745742798 sec\n",
      "epoch_loss : 0.9524698462843895  |  time : 18.78185725212097 sec\n",
      "epoch_loss : 0.9086216472506523  |  time : 18.830697059631348 sec\n",
      "epoch_loss : 0.8691530362606048  |  time : 19.74009132385254 sec\n",
      "epoch_loss : 0.8358511376738549  |  time : 18.93321394920349 sec\n"
     ]
    }
   ],
   "source": [
    "loss_list = []\n",
    "for i in range(num_epochs):\n",
    "    t1 = time.time()\n",
    "    loss_list1 = []\n",
    "    for word in emails :\n",
    "        ip_word_enc, op_word_enc = encodings(word.lower(),alphabets)\n",
    "        \n",
    "        ip_word_enc = ip_word_enc.reshape([1,ip_word_enc.shape[0],ip_word_enc.shape[1]])\n",
    "        #op_word_enc = op_word_enc.reshape([1,op_word_enc.shape[0],op_word_enc.shape[1]])\n",
    "\n",
    "        ip_word_enc = ip_word_enc.to(device)\n",
    "        op_word_enc = op_word_enc.to(device)\n",
    "\n",
    "        #print(ip_word_enc.shape)\n",
    "        model.zero_grad()\n",
    "        optimizer.zero_grad()\n",
    "\n",
    "        hidden = model.initHidden().to(device)\n",
    "        out,hidden = model(ip_word_enc,hidden)\n",
    "        out = out.reshape(-1,output_size)\n",
    "        #print(out.shape)\n",
    "        loss = criterion(out,op_word_enc)\n",
    "        loss_list1.append(loss.item())\n",
    "        loss.backward()\n",
    "        optimizer.step()\n",
    "    t2 = time.time()\n",
    "    print(\"epoch_loss :\",np.mean(loss_list1),\" |  time :\",t2-t1,\"sec\")\n",
    "    loss_list += loss_list1"
   ]
  },
  {
   "cell_type": "code",
   "execution_count": 32,
   "metadata": {},
   "outputs": [
    {
     "data": {
      "text/plain": [
       "[<matplotlib.lines.Line2D at 0x1f586e02be0>]"
      ]
     },
     "execution_count": 32,
     "metadata": {},
     "output_type": "execute_result"
    },
    {
     "data": {
      "image/png": "[encoded data removed]",
      "text/plain": [
       "<Figure size 432x288 with 1 Axes>"
      ]
     },
     "metadata": {
      "needs_background": "light"
     },
     "output_type": "display_data"
    }
   ],
   "source": [
    "plt.plot(loss_list)"
   ]
  },
  {
   "cell_type": "code",
   "execution_count": 33,
   "metadata": {},
   "outputs": [],
   "source": [
    "torch.save(model.state_dict(),'CharLevelRNN_RNN_emails.pth')"
   ]
  },
  {
   "cell_type": "markdown",
   "metadata": {},
   "source": [
    "### Loading model"
   ]
  },
  {
   "cell_type": "code",
   "execution_count": 86,
   "metadata": {},
   "outputs": [
    {
     "data": {
      "text/plain": [
       "RNN(\n",
       "  (rnn): RNN(27, 64, num_layers=2, batch_first=True)\n",
       "  (fc): Linear(in_features=64, out_features=27, bias=True)\n",
       ")"
      ]
     },
     "execution_count": 86,
     "metadata": {},
     "output_type": "execute_result"
    }
   ],
   "source": [
    "\n",
    "model.load_state_dict(torch.load('CharLevelRNN_RNN_emails.pth'))\n",
    "model.eval()"
   ]
  },
  {
   "cell_type": "markdown",
   "metadata": {},
   "source": [
    "### Sampling\n"
   ]
  },
  {
   "cell_type": "code",
   "execution_count": 34,
   "metadata": {},
   "outputs": [],
   "source": [
    "def generate(a):\n",
    "\n",
    "    a_enc = torch.zeros([1,1,input_size]).to(device)\n",
    "\n",
    "    a_enc[0,0,alphabets[a]] = 1\n",
    "    hidden = model.initHidden().to(device)\n",
    "    \n",
    "    output,hidden = model(a_enc,hidden)\n",
    "    #print(output)\n",
    "    letter = rev_alphabets[torch.argmax(output).item()]\n",
    "    output = torch.zeros(1,1,input_size).to(device)\n",
    "    output[0,0,alphabets[letter]] = 1\n",
    "    #output = F.softmax(output,dim=-1)\n",
    "    #print(output)\n",
    "    a += letter\n",
    "    \n",
    "    while letter!=';':\n",
    "        #print(output)\n",
    "        output,hidden = model(output,hidden)\n",
    "        \n",
    "        letter = rev_alphabets[torch.argmax(output).item()]\n",
    "        #output = F.softmax(output,dim=-1)\n",
    "        output = torch.zeros(1,1,input_size).to(device)\n",
    "        output[0,0,alphabets[letter]] = 1\n",
    "        a += letter\n",
    "        \n",
    "    return(a)"
   ]
  },
  {
   "cell_type": "code",
   "execution_count": null,
   "metadata": {},
   "outputs": [],
   "source": []
  },
  {
   "cell_type": "code",
   "execution_count": null,
   "metadata": {},
   "outputs": [],
   "source": []
  },
  {
   "cell_type": "code",
   "execution_count": 35,
   "metadata": {},
   "outputs": [
    {
     "name": "stdout",
     "output_type": "stream",
     "text": [
      "for . : .cottearki@msn.com;\n",
      "for a : ardarsel@me.com;\n",
      "for b : brick@msn.com;\n",
      "for c : carroll@msn.com;\n",
      "for d : dones@msn.com;\n",
      "for e : evilopie@live.com;\n",
      "for f : fraser@me.com;\n",
      "for g : grewa@msn.com;\n",
      "for h : hakineli@msn.com;\n",
      "for i : ilikered@me.com;\n",
      "for j : jamila@msn.com;\n",
      "for k : konit@msn.com;\n",
      "for l : liercer@me.com;\n",
      "for m : martan@msn.com;\n",
      "for n : notin@msn.com;\n",
      "for o : overbo@me.com;\n",
      "for p : parner@me.com;\n",
      "for q : quinn@msn.com;\n",
      "for r : reeds@msn.com;\n",
      "for s : sterseak@me.com;\n",
      "for t : trofter@att.net;\n",
      "for u : unreal@msn.com;\n",
      "for v : vilre@msn.com;\n",
      "for w : willer@msn.com;\n",
      "for x : xtang@att.net;\n",
      "for y : yzheng@att.net;\n",
      "for z : zilla@msn.com;\n",
      "for @ : @gmail.com;\n",
      "for - : -rakler@att.net;\n"
     ]
    }
   ],
   "source": [
    "for i in alphabets:\n",
    "    if i==';' or i.isdigit() or i=='#' or i=='$':\n",
    "        continue\n",
    "    word = generate(i)\n",
    "    print(\"for {} : {}\".format(i,word))"
   ]
  },
  {
   "cell_type": "code",
   "execution_count": null,
   "metadata": {},
   "outputs": [],
   "source": []
  }
 ],
 "metadata": {
  "kernelspec": {
   "display_name": "Python 3",
   "language": "python",
   "name": "python3"
  },
  "language_info": {
   "codemirror_mode": {
    "name": "ipython",
    "version": 3
   },
   "file_extension": ".py",
   "mimetype": "text/x-python",
   "name": "python",
   "nbconvert_exporter": "python",
   "pygments_lexer": "ipython3",
   "version": "3.8.5"
  }
 },
 "nbformat": 4,
 "nbformat_minor": 4
}
