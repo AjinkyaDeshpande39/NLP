{
 "cells": [
  {
   "cell_type": "markdown",
   "metadata": {},
   "source": [
    "# Attention is all you need\n",
    "## Transformers from scratch"
   ]
  },
  {
   "cell_type": "code",
   "execution_count": null,
   "metadata": {},
   "outputs": [],
   "source": []
  },
  {
   "cell_type": "markdown",
   "metadata": {},
   "source": [
    "## Importing some libraries and dataset "
   ]
  },
  {
   "cell_type": "code",
   "execution_count": null,
   "metadata": {
    "colab": {
     "base_uri": "https://localhost:8080/"
    },
    "id": "BRX8eJ8fgg0E",
    "outputId": "119405a2-014c-4feb-9b56-f0f8650e77c5"
   },
   "outputs": [
    {
     "name": "stdout",
     "output_type": "stream",
     "text": [
      "Collecting torchtext==0.6.0\n",
      "\u001b[?25l  Downloading https://files.pythonhosted.org/packages/f2/17/e7c588245aece7aa93f360894179374830daf60d7ed0bbb59332de3b3b61/torchtext-0.6.0-py3-none-any.whl (64kB)\n",
      "\r",
      "\u001b[K     |█████                           | 10kB 18.6MB/s eta 0:00:01\r",
      "\u001b[K     |██████████▏                     | 20kB 26.2MB/s eta 0:00:01\r",
      "\u001b[K     |███████████████▎                | 30kB 23.6MB/s eta 0:00:01\r",
      "\u001b[K     |████████████████████▍           | 40kB 17.7MB/s eta 0:00:01\r",
      "\u001b[K     |█████████████████████████▌      | 51kB 10.5MB/s eta 0:00:01\r",
      "\u001b[K     |██████████████████████████████▋ | 61kB 11.9MB/s eta 0:00:01\r",
      "\u001b[K     |████████████████████████████████| 71kB 6.5MB/s \n",
      "\u001b[?25hRequirement already satisfied: torch in /usr/local/lib/python3.7/dist-packages (from torchtext==0.6.0) (1.8.1+cu101)\n",
      "Requirement already satisfied: numpy in /usr/local/lib/python3.7/dist-packages (from torchtext==0.6.0) (1.19.5)\n",
      "Requirement already satisfied: six in /usr/local/lib/python3.7/dist-packages (from torchtext==0.6.0) (1.15.0)\n",
      "Collecting sentencepiece\n",
      "\u001b[?25l  Downloading https://files.pythonhosted.org/packages/f5/99/e0808cb947ba10f575839c43e8fafc9cc44e4a7a2c8f79c60db48220a577/sentencepiece-0.1.95-cp37-cp37m-manylinux2014_x86_64.whl (1.2MB)\n",
      "\u001b[K     |████████████████████████████████| 1.2MB 12.2MB/s \n",
      "\u001b[?25hRequirement already satisfied: requests in /usr/local/lib/python3.7/dist-packages (from torchtext==0.6.0) (2.23.0)\n",
      "Requirement already satisfied: tqdm in /usr/local/lib/python3.7/dist-packages (from torchtext==0.6.0) (4.41.1)\n",
      "Requirement already satisfied: typing-extensions in /usr/local/lib/python3.7/dist-packages (from torch->torchtext==0.6.0) (3.7.4.3)\n",
      "Requirement already satisfied: certifi>=2017.4.17 in /usr/local/lib/python3.7/dist-packages (from requests->torchtext==0.6.0) (2020.12.5)\n",
      "Requirement already satisfied: urllib3!=1.25.0,!=1.25.1,<1.26,>=1.21.1 in /usr/local/lib/python3.7/dist-packages (from requests->torchtext==0.6.0) (1.24.3)\n",
      "Requirement already satisfied: idna<3,>=2.5 in /usr/local/lib/python3.7/dist-packages (from requests->torchtext==0.6.0) (2.10)\n",
      "Requirement already satisfied: chardet<4,>=3.0.2 in /usr/local/lib/python3.7/dist-packages (from requests->torchtext==0.6.0) (3.0.4)\n",
      "Installing collected packages: sentencepiece, torchtext\n",
      "  Found existing installation: torchtext 0.9.1\n",
      "    Uninstalling torchtext-0.9.1:\n",
      "      Successfully uninstalled torchtext-0.9.1\n",
      "Successfully installed sentencepiece-0.1.95 torchtext-0.6.0\n"
     ]
    }
   ],
   "source": [
    "import torch\n",
    "import spacy\n",
    "!pip install torchtext==0.6.0\n",
    "from torchtext.datasets import Multi30k\n",
    "from torchtext.data import Field,BucketIterator"
   ]
  },
  {
   "cell_type": "code",
   "execution_count": null,
   "metadata": {
    "colab": {
     "base_uri": "https://localhost:8080/"
    },
    "id": "ccLfwus9gwQL",
    "outputId": "e237b7fc-4844-4c8e-fc37-e96710f89899",
    "scrolled": true
   },
   "outputs": [
    {
     "name": "stdout",
     "output_type": "stream",
     "text": [
      "Requirement already satisfied: en_core_web_sm==2.2.5 from https://github.com/explosion/spacy-models/releases/download/en_core_web_sm-2.2.5/en_core_web_sm-2.2.5.tar.gz#egg=en_core_web_sm==2.2.5 in /usr/local/lib/python3.7/dist-packages (2.2.5)\n",
      "Requirement already satisfied: spacy>=2.2.2 in /usr/local/lib/python3.7/dist-packages (from en_core_web_sm==2.2.5) (2.2.4)\n",
      "Requirement already satisfied: catalogue<1.1.0,>=0.0.7 in /usr/local/lib/python3.7/dist-packages (from spacy>=2.2.2->en_core_web_sm==2.2.5) (1.0.0)\n",
      "Requirement already satisfied: srsly<1.1.0,>=1.0.2 in /usr/local/lib/python3.7/dist-packages (from spacy>=2.2.2->en_core_web_sm==2.2.5) (1.0.5)\n",
      "Requirement already satisfied: tqdm<5.0.0,>=4.38.0 in /usr/local/lib/python3.7/dist-packages (from spacy>=2.2.2->en_core_web_sm==2.2.5) (4.41.1)\n",
      "Requirement already satisfied: wasabi<1.1.0,>=0.4.0 in /usr/local/lib/python3.7/dist-packages (from spacy>=2.2.2->en_core_web_sm==2.2.5) (0.8.2)\n",
      "Requirement already satisfied: murmurhash<1.1.0,>=0.28.0 in /usr/local/lib/python3.7/dist-packages (from spacy>=2.2.2->en_core_web_sm==2.2.5) (1.0.5)\n",
      "Requirement already satisfied: blis<0.5.0,>=0.4.0 in /usr/local/lib/python3.7/dist-packages (from spacy>=2.2.2->en_core_web_sm==2.2.5) (0.4.1)\n",
      "Requirement already satisfied: requests<3.0.0,>=2.13.0 in /usr/local/lib/python3.7/dist-packages (from spacy>=2.2.2->en_core_web_sm==2.2.5) (2.23.0)\n",
      "Requirement already satisfied: thinc==7.4.0 in /usr/local/lib/python3.7/dist-packages (from spacy>=2.2.2->en_core_web_sm==2.2.5) (7.4.0)\n",
      "Requirement already satisfied: cymem<2.1.0,>=2.0.2 in /usr/local/lib/python3.7/dist-packages (from spacy>=2.2.2->en_core_web_sm==2.2.5) (2.0.5)\n",
      "Requirement already satisfied: plac<1.2.0,>=0.9.6 in /usr/local/lib/python3.7/dist-packages (from spacy>=2.2.2->en_core_web_sm==2.2.5) (1.1.3)\n",
      "Requirement already satisfied: numpy>=1.15.0 in /usr/local/lib/python3.7/dist-packages (from spacy>=2.2.2->en_core_web_sm==2.2.5) (1.19.5)\n",
      "Requirement already satisfied: preshed<3.1.0,>=3.0.2 in /usr/local/lib/python3.7/dist-packages (from spacy>=2.2.2->en_core_web_sm==2.2.5) (3.0.5)\n",
      "Requirement already satisfied: setuptools in /usr/local/lib/python3.7/dist-packages (from spacy>=2.2.2->en_core_web_sm==2.2.5) (54.2.0)\n",
      "Requirement already satisfied: importlib-metadata>=0.20; python_version < \"3.8\" in /usr/local/lib/python3.7/dist-packages (from catalogue<1.1.0,>=0.0.7->spacy>=2.2.2->en_core_web_sm==2.2.5) (3.8.1)\n",
      "Requirement already satisfied: idna<3,>=2.5 in /usr/local/lib/python3.7/dist-packages (from requests<3.0.0,>=2.13.0->spacy>=2.2.2->en_core_web_sm==2.2.5) (2.10)\n",
      "Requirement already satisfied: certifi>=2017.4.17 in /usr/local/lib/python3.7/dist-packages (from requests<3.0.0,>=2.13.0->spacy>=2.2.2->en_core_web_sm==2.2.5) (2020.12.5)\n",
      "Requirement already satisfied: chardet<4,>=3.0.2 in /usr/local/lib/python3.7/dist-packages (from requests<3.0.0,>=2.13.0->spacy>=2.2.2->en_core_web_sm==2.2.5) (3.0.4)\n",
      "Requirement already satisfied: urllib3!=1.25.0,!=1.25.1,<1.26,>=1.21.1 in /usr/local/lib/python3.7/dist-packages (from requests<3.0.0,>=2.13.0->spacy>=2.2.2->en_core_web_sm==2.2.5) (1.24.3)\n",
      "Requirement already satisfied: zipp>=0.5 in /usr/local/lib/python3.7/dist-packages (from importlib-metadata>=0.20; python_version < \"3.8\"->catalogue<1.1.0,>=0.0.7->spacy>=2.2.2->en_core_web_sm==2.2.5) (3.4.1)\n",
      "Requirement already satisfied: typing-extensions>=3.6.4; python_version < \"3.8\" in /usr/local/lib/python3.7/dist-packages (from importlib-metadata>=0.20; python_version < \"3.8\"->catalogue<1.1.0,>=0.0.7->spacy>=2.2.2->en_core_web_sm==2.2.5) (3.7.4.3)\n",
      "\u001b[38;5;2m✔ Download and installation successful\u001b[0m\n",
      "You can now load the model via spacy.load('en_core_web_sm')\n",
      "\u001b[38;5;2m✔ Linking successful\u001b[0m\n",
      "/usr/local/lib/python3.7/dist-packages/en_core_web_sm -->\n",
      "/usr/local/lib/python3.7/dist-packages/spacy/data/en\n",
      "You can now load the model via spacy.load('en')\n",
      "Collecting de_core_news_sm==2.2.5\n",
      "\u001b[?25l  Downloading https://github.com/explosion/spacy-models/releases/download/de_core_news_sm-2.2.5/de_core_news_sm-2.2.5.tar.gz (14.9MB)\n",
      "\u001b[K     |████████████████████████████████| 14.9MB 7.7MB/s \n",
      "\u001b[?25hRequirement already satisfied: spacy>=2.2.2 in /usr/local/lib/python3.7/dist-packages (from de_core_news_sm==2.2.5) (2.2.4)\n",
      "Requirement already satisfied: blis<0.5.0,>=0.4.0 in /usr/local/lib/python3.7/dist-packages (from spacy>=2.2.2->de_core_news_sm==2.2.5) (0.4.1)\n",
      "Requirement already satisfied: tqdm<5.0.0,>=4.38.0 in /usr/local/lib/python3.7/dist-packages (from spacy>=2.2.2->de_core_news_sm==2.2.5) (4.41.1)\n",
      "Requirement already satisfied: numpy>=1.15.0 in /usr/local/lib/python3.7/dist-packages (from spacy>=2.2.2->de_core_news_sm==2.2.5) (1.19.5)\n",
      "Requirement already satisfied: requests<3.0.0,>=2.13.0 in /usr/local/lib/python3.7/dist-packages (from spacy>=2.2.2->de_core_news_sm==2.2.5) (2.23.0)\n",
      "Requirement already satisfied: murmurhash<1.1.0,>=0.28.0 in /usr/local/lib/python3.7/dist-packages (from spacy>=2.2.2->de_core_news_sm==2.2.5) (1.0.5)\n",
      "Requirement already satisfied: thinc==7.4.0 in /usr/local/lib/python3.7/dist-packages (from spacy>=2.2.2->de_core_news_sm==2.2.5) (7.4.0)\n",
      "Requirement already satisfied: preshed<3.1.0,>=3.0.2 in /usr/local/lib/python3.7/dist-packages (from spacy>=2.2.2->de_core_news_sm==2.2.5) (3.0.5)\n",
      "Requirement already satisfied: cymem<2.1.0,>=2.0.2 in /usr/local/lib/python3.7/dist-packages (from spacy>=2.2.2->de_core_news_sm==2.2.5) (2.0.5)\n",
      "Requirement already satisfied: setuptools in /usr/local/lib/python3.7/dist-packages (from spacy>=2.2.2->de_core_news_sm==2.2.5) (54.2.0)\n",
      "Requirement already satisfied: plac<1.2.0,>=0.9.6 in /usr/local/lib/python3.7/dist-packages (from spacy>=2.2.2->de_core_news_sm==2.2.5) (1.1.3)\n",
      "Requirement already satisfied: srsly<1.1.0,>=1.0.2 in /usr/local/lib/python3.7/dist-packages (from spacy>=2.2.2->de_core_news_sm==2.2.5) (1.0.5)\n",
      "Requirement already satisfied: catalogue<1.1.0,>=0.0.7 in /usr/local/lib/python3.7/dist-packages (from spacy>=2.2.2->de_core_news_sm==2.2.5) (1.0.0)\n",
      "Requirement already satisfied: wasabi<1.1.0,>=0.4.0 in /usr/local/lib/python3.7/dist-packages (from spacy>=2.2.2->de_core_news_sm==2.2.5) (0.8.2)\n",
      "Requirement already satisfied: urllib3!=1.25.0,!=1.25.1,<1.26,>=1.21.1 in /usr/local/lib/python3.7/dist-packages (from requests<3.0.0,>=2.13.0->spacy>=2.2.2->de_core_news_sm==2.2.5) (1.24.3)\n",
      "Requirement already satisfied: chardet<4,>=3.0.2 in /usr/local/lib/python3.7/dist-packages (from requests<3.0.0,>=2.13.0->spacy>=2.2.2->de_core_news_sm==2.2.5) (3.0.4)\n",
      "Requirement already satisfied: idna<3,>=2.5 in /usr/local/lib/python3.7/dist-packages (from requests<3.0.0,>=2.13.0->spacy>=2.2.2->de_core_news_sm==2.2.5) (2.10)\n",
      "Requirement already satisfied: certifi>=2017.4.17 in /usr/local/lib/python3.7/dist-packages (from requests<3.0.0,>=2.13.0->spacy>=2.2.2->de_core_news_sm==2.2.5) (2020.12.5)\n",
      "Requirement already satisfied: importlib-metadata>=0.20; python_version < \"3.8\" in /usr/local/lib/python3.7/dist-packages (from catalogue<1.1.0,>=0.0.7->spacy>=2.2.2->de_core_news_sm==2.2.5) (3.8.1)\n",
      "Requirement already satisfied: typing-extensions>=3.6.4; python_version < \"3.8\" in /usr/local/lib/python3.7/dist-packages (from importlib-metadata>=0.20; python_version < \"3.8\"->catalogue<1.1.0,>=0.0.7->spacy>=2.2.2->de_core_news_sm==2.2.5) (3.7.4.3)\n",
      "Requirement already satisfied: zipp>=0.5 in /usr/local/lib/python3.7/dist-packages (from importlib-metadata>=0.20; python_version < \"3.8\"->catalogue<1.1.0,>=0.0.7->spacy>=2.2.2->de_core_news_sm==2.2.5) (3.4.1)\n",
      "Building wheels for collected packages: de-core-news-sm\n",
      "  Building wheel for de-core-news-sm (setup.py) ... \u001b[?25l\u001b[?25hdone\n",
      "  Created wheel for de-core-news-sm: filename=de_core_news_sm-2.2.5-cp37-none-any.whl size=14907057 sha256=7384beaecc7988f79b2c4479c7d4ce077e5c70289e7df9c8245705aede8f9b83\n",
      "  Stored in directory: /tmp/pip-ephem-wheel-cache-p10l345j/wheels/ba/3f/ed/d4aa8e45e7191b7f32db4bfad565e7da1edbf05c916ca7a1ca\n",
      "Successfully built de-core-news-sm\n",
      "Installing collected packages: de-core-news-sm\n",
      "Successfully installed de-core-news-sm-2.2.5\n",
      "\u001b[38;5;2m✔ Download and installation successful\u001b[0m\n",
      "You can now load the model via spacy.load('de_core_news_sm')\n",
      "\u001b[38;5;2m✔ Linking successful\u001b[0m\n",
      "/usr/local/lib/python3.7/dist-packages/de_core_news_sm -->\n",
      "/usr/local/lib/python3.7/dist-packages/spacy/data/de\n",
      "You can now load the model via spacy.load('de')\n"
     ]
    }
   ],
   "source": [
    "!python -m spacy download en\n",
    "!python -m spacy download de"
   ]
  },
  {
   "cell_type": "code",
   "execution_count": null,
   "metadata": {
    "id": "7MSsjy0YgyJg"
   },
   "outputs": [],
   "source": [
    "spacy_eng = spacy.load('en')\n",
    "spacy_ger = spacy.load('de')"
   ]
  },
  {
   "cell_type": "code",
   "execution_count": null,
   "metadata": {
    "id": "zhnTzZCJg6q6"
   },
   "outputs": [],
   "source": [
    "def tokenize_eng(text):\n",
    "    return([tok.text for tok in spacy_eng.tokenizer(text)])\n",
    "def tokenize_ger(text):\n",
    "    return([tok.text for tok in spacy_ger.tokenizer(text)])"
   ]
  },
  {
   "cell_type": "code",
   "execution_count": null,
   "metadata": {
    "colab": {
     "base_uri": "https://localhost:8080/"
    },
    "id": "9flo9Puag_bS",
    "outputId": "1b12606b-66a3-479f-d16a-79fba22c7c1a"
   },
   "outputs": [
    {
     "name": "stdout",
     "output_type": "stream",
     "text": [
      "downloading training.tar.gz\n"
     ]
    },
    {
     "name": "stderr",
     "output_type": "stream",
     "text": [
      "training.tar.gz: 100%|██████████| 1.21M/1.21M [00:02<00:00, 559kB/s]\n"
     ]
    },
    {
     "name": "stdout",
     "output_type": "stream",
     "text": [
      "downloading validation.tar.gz\n"
     ]
    },
    {
     "name": "stderr",
     "output_type": "stream",
     "text": [
      "validation.tar.gz: 100%|██████████| 46.3k/46.3k [00:00<00:00, 169kB/s]\n"
     ]
    },
    {
     "name": "stdout",
     "output_type": "stream",
     "text": [
      "downloading mmt_task1_test2016.tar.gz\n"
     ]
    },
    {
     "name": "stderr",
     "output_type": "stream",
     "text": [
      "mmt_task1_test2016.tar.gz: 100%|██████████| 66.2k/66.2k [00:00<00:00, 167kB/s]\n"
     ]
    }
   ],
   "source": [
    "english = Field(sequential=True, use_vocab=True, tokenize=tokenize_eng, lower=True,init_token='<sos>',eos_token='<eos>',batch_first=True)\n",
    "german = Field(sequential=True, use_vocab=True, tokenize=tokenize_ger, lower=True,init_token='<sos>',eos_token='<eos>',batch_first=True)\n",
    "\n",
    "train_data, validation_data, test_data = Multi30k.splits(exts=('.de','.en'),fields=(german,english))\n",
    "\n",
    "english.build_vocab(train_data,max_size=10000,min_freq=2)\n",
    "german.build_vocab(train_data,max_size=10000,min_freq=2)"
   ]
  },
  {
   "cell_type": "code",
   "execution_count": null,
   "metadata": {
    "colab": {
     "base_uri": "https://localhost:8080/"
    },
    "id": "YT7d8K0uTZOx",
    "outputId": "162f8bfa-89e0-4807-e549-6199e5a05b02"
   },
   "outputs": [
    {
     "data": {
      "text/plain": [
       "1"
      ]
     },
     "execution_count": 6,
     "metadata": {
      "tags": []
     },
     "output_type": "execute_result"
    }
   ],
   "source": [
    "english.vocab.stoi['<pad>']\n",
    "german.vocab.stoi['<pad>']"
   ]
  },
  {
   "cell_type": "code",
   "execution_count": null,
   "metadata": {
    "id": "wiIiIfozhEmy"
   },
   "outputs": [],
   "source": [
    "import torch\n",
    "import torch.nn as nn\n",
    "import torch.nn.functional as f\n",
    "import torch.optim as optim\n",
    "import numpy as np\n",
    "import matplotlib.pyplot as plt\n",
    "import time"
   ]
  },
  {
   "cell_type": "markdown",
   "metadata": {},
   "source": [
    "## Model building and some helper functions "
   ]
  },
  {
   "cell_type": "code",
   "execution_count": null,
   "metadata": {
    "id": "4_-vFHVhWz_s"
   },
   "outputs": [],
   "source": [
    "def validation_loss(model,validation_iterator):\n",
    "    epoch_loss = []\n",
    "    for batch in validation_iterator:\n",
    "        batch_loss = []\n",
    "        source = batch.src\n",
    "        target = batch.trg   #target = encseq_len, batch\n",
    "            #print(target.shape)\n",
    "        batch_size = source.shape[0]\n",
    "        enc,out = model(source,target[:,:-1])   # out = dec_seq_len, batch, output_size    \n",
    "            #print(out.shape)\n",
    "            #print(target.shape)    \n",
    "        model.zero_grad()\n",
    "        optimizer.zero_grad()\n",
    "                \n",
    "        out = out.view(-1,out_vocab_size)\n",
    "        target = target[:,1:].reshape(-1)\n",
    "            #print(out.shape)\n",
    "            #print(target.shape)  \n",
    "        loss = criterion(out,target)\n",
    "        batch_loss.append(loss.item())\n",
    "        epoch_loss += batch_loss\n",
    "    return (epoch_loss)"
   ]
  },
  {
   "cell_type": "markdown",
   "metadata": {},
   "source": [
    "Encoder class is the block which takes source sentences , mapps their attention and applies a add and norm layer at the end"
   ]
  },
  {
   "cell_type": "markdown",
   "metadata": {},
   "source": [
    "Here , Linear layers are used for creating distinct attention heads. These will be used to calculate attention outputs and these outputs will be concatenated . Here , number of heads were kept 4 to obtained the best results."
   ]
  },
  {
   "cell_type": "markdown",
   "metadata": {},
   "source": [
    "After applying residual connections , normalization is done. It was observed that dropout of 0.22 was giving best results over this structure.\n",
    "We tryied creating only one linear layer such that its output can be reshaped as multiple heads but making distinct heads were able to build perfect mapping between words in sentences."
   ]
  },
  {
   "cell_type": "markdown",
   "metadata": {},
   "source": [
    "You can see function for calculating multihead attention are methods of Encoder and Decoder class."
   ]
  },
  {
   "cell_type": "code",
   "execution_count": 157,
   "metadata": {
    "id": "ZKRdJhXXhHQz"
   },
   "outputs": [],
   "source": [
    "class Encoder(nn.Module):\n",
    "\n",
    "    def __init__(self,batch_size,d_model,d_k,n_dk):\n",
    "        super(Encoder,self).__init__()\n",
    "        self.batch_size = batch_size\n",
    "        self.d_model = d_model                 #embedding_dim\n",
    "        self.d_k = d_k                         #querries and keys dimension.\n",
    "        self.n_dk = n_dk\n",
    "\n",
    "        self.dropout = nn.Dropout(0.22)\n",
    "        self.norm1 = nn.LayerNorm(d_model)\n",
    "        self.norm2 = nn.LayerNorm(d_model)\n",
    "\n",
    "\n",
    "        self.WQ1 =  nn.Linear(d_model,d_k)\n",
    "        self.WK1 = nn.Linear(d_model,d_k)\n",
    "        self.WV1 = nn.Linear(d_model,d_k)\n",
    "\n",
    "        self.WQ2 =  nn.Linear(d_model,d_k)\n",
    "        self.WK2 = nn.Linear(d_model,d_k)\n",
    "        self.WV2 = nn.Linear(d_model,d_k)\n",
    "\n",
    "        self.WQ3 =  nn.Linear(d_model,d_k)\n",
    "        self.WK3 = nn.Linear(d_model,d_k)\n",
    "        self.WV3 = nn.Linear(d_model,d_k)\n",
    "\n",
    "        self.WQ4 =  nn.Linear(d_model,d_k)\n",
    "        self.WK4 = nn.Linear(d_model,d_k)\n",
    "        self.WV4 = nn.Linear(d_model,d_k)\n",
    "\n",
    "        \n",
    "        self.W0 = nn.Linear(n_dk*d_k,d_model)\n",
    "\n",
    "        self.softmax = nn.Softmax(dim=-1)\n",
    "        self.ff_enc1 = nn.Linear(d_model,d_model*2)\n",
    "        self.ff_enc2 = nn.Linear(d_model*2,d_model)\n",
    "        self.relu = nn.ReLU()\n",
    "\n",
    "    def multihead(self,x,mask):\n",
    "        q1 = self.WQ1(x)\n",
    "        k1 = self.WK1(x)\n",
    "        v1 = self.WV1(x)\n",
    "\n",
    "        q2 = self.WQ2(x)\n",
    "        k2 = self.WK2(x)\n",
    "        v2 = self.WV2(x)\n",
    "\n",
    "        q3 = self.WQ3(x)\n",
    "        k3 = self.WK3(x)\n",
    "        v3 = self.WV3(x)\n",
    "\n",
    "        q4 = self.WQ4(x)\n",
    "        k4 = self.WK4(x)\n",
    "        v4 = self.WV4(x)\n",
    "        \n",
    "        z1=torch.matmul(self.softmax((torch.matmul(q1,torch.transpose(k1,1,2))/(self.d_k**0.5)).masked_fill(mask==False,-1e10)),v1)\n",
    "        z2=torch.matmul(self.softmax((torch.matmul(q2,torch.transpose(k2,1,2))/(self.d_k**0.5)).masked_fill(mask==False,-1e10)),v2)\n",
    "        z3=torch.matmul(self.softmax((torch.matmul(q3,torch.transpose(k3,1,2))/(self.d_k**0.5)).masked_fill(mask==False,-1e10)),v3)\n",
    "        z4=torch.matmul(self.softmax((torch.matmul(q4,torch.transpose(k4,1,2))/(self.d_k**0.5)).masked_fill(mask==False,-1e10)),v4)\n",
    "\n",
    "        z = torch.cat((z1,z2,z3,z4),dim=-1)\n",
    "        z = self.W0(z)\n",
    "        return (z)\n",
    "\n",
    "    def forward(self,x,mask):\n",
    "          \n",
    "        x = self.dropout(self.multihead(x,mask)) + x\n",
    "        x = self.norm1(x)\n",
    "        x = self.dropout(self.relu(self.ff_enc2(self.dropout(self.relu(self.ff_enc1(x)))))) + x\n",
    "        x = self.norm2(x)\n",
    "        \n",
    "        return (x)"
   ]
  },
  {
   "cell_type": "markdown",
   "metadata": {},
   "source": [
    "Decoder block takes target sentence embeddings ,finds self attention , finds attention with encoder's last layer, and then feed forward layer. After every operation, residual connection is obtained and layer normalization is applied. Here also distict heads were giving good results. Number of heads is kept 4 to obtain best results."
   ]
  },
  {
   "cell_type": "code",
   "execution_count": null,
   "metadata": {
    "id": "8taHGlva50rR"
   },
   "outputs": [],
   "source": [
    "class Decoder(nn.Module):\n",
    "  \n",
    "    def __init__(self,batch_size,d_model,d_k,n_d_k):\n",
    "        super(Decoder,self).__init__()\n",
    "        self.batch_size = batch_size\n",
    "        self.d_model = d_model                 #embedding_dim\n",
    "        self.d_k = d_k                         #querries and keys dimension.\n",
    "        self.n_dk = n_dk\n",
    "\n",
    "        self.norm1 = nn.LayerNorm(d_model)\n",
    "        self.norm2 = nn.LayerNorm(d_model)\n",
    "        self.norm3 = nn.LayerNorm(d_model)\n",
    "\n",
    "\n",
    "        self.dropout = nn.Dropout(0.22)\n",
    "        self.WQ1 =  nn.Linear(d_model,d_k)\n",
    "        self.WK1 = nn.Linear(d_model,d_k)\n",
    "        self.WV1 = nn.Linear(d_model,d_k)\n",
    "\n",
    "        self.WQ2 =  nn.Linear(d_model,d_k)\n",
    "        self.WK2 = nn.Linear(d_model,d_k)\n",
    "        self.WV2 = nn.Linear(d_model,d_k)\n",
    "\n",
    "        self.WQ3 =  nn.Linear(d_model,d_k)\n",
    "        self.WK3 = nn.Linear(d_model,d_k)\n",
    "        self.WV3 = nn.Linear(d_model,d_k)\n",
    "\n",
    "        self.WQ4 =  nn.Linear(d_model,d_k)\n",
    "        self.WK4 = nn.Linear(d_model,d_k)\n",
    "        self.WV4 = nn.Linear(d_model,d_k)\n",
    "\n",
    "        self.W0 = nn.Linear(n_dk*d_k,d_model)\n",
    "\n",
    "        self.EDWQ1 =  nn.Linear(d_model,d_k)\n",
    "        self.EDWK1 = nn.Linear(d_model,d_k)\n",
    "        self.EDWV1 = nn.Linear(d_model,d_k)\n",
    "\n",
    "        self.EDWQ2 =  nn.Linear(d_model,d_k)\n",
    "        self.EDWK2 = nn.Linear(d_model,d_k)\n",
    "        self.EDWV2 = nn.Linear(d_model,d_k)\n",
    "\n",
    "        self.EDWQ3 =  nn.Linear(d_model,d_k)\n",
    "        self.EDWK3 = nn.Linear(d_model,d_k)\n",
    "        self.EDWV3 = nn.Linear(d_model,d_k)\n",
    "\n",
    "        self.EDWQ4 =  nn.Linear(d_model,d_k)\n",
    "        self.EDWK4 = nn.Linear(d_model,d_k)\n",
    "        self.EDWV4 = nn.Linear(d_model,d_k)\n",
    "\n",
    "        self.EDW0 = nn.Linear(n_dk*d_k,d_model)\n",
    "\n",
    "        self.softmax = nn.Softmax(dim=-1)\n",
    "        self.ff_dec1 = nn.Linear(d_model,2*d_model)\n",
    "        self.ff_dec2 = nn.Linear(2*d_model,d_model)\n",
    "        self.relu = nn.ReLU()\n",
    "\n",
    "    def masked_multihead(self,x,mask):\n",
    "        q1 = self.WQ1(x)\n",
    "        k1 = self.WK1(x)\n",
    "        v1 = self.WV1(x)\n",
    "\n",
    "        q2 = self.WQ2(x)\n",
    "        k2 = self.WK2(x)\n",
    "        v2 = self.WV2(x)\n",
    "\n",
    "        q3 = self.WQ3(x)\n",
    "        k3 = self.WK3(x)\n",
    "        v3 = self.WV3(x)\n",
    "\n",
    "        q4 = self.WQ4(x)\n",
    "        k4 = self.WK4(x)\n",
    "        v4 = self.WV4(x)\n",
    "        \n",
    "        z1=torch.matmul(self.softmax((torch.matmul(q1,torch.transpose(k1,1,2))/(self.d_k**0.5)).masked_fill(mask==False,-1e10)),v1)\n",
    "        z2=torch.matmul(self.softmax((torch.matmul(q2,torch.transpose(k2,1,2))/(self.d_k**0.5)).masked_fill(mask==False,-1e10)),v2)\n",
    "        z3=torch.matmul(self.softmax((torch.matmul(q3,torch.transpose(k3,1,2))/(self.d_k**0.5)).masked_fill(mask==False,-1e10)),v3)\n",
    "        z4=torch.matmul(self.softmax((torch.matmul(q4,torch.transpose(k4,1,2))/(self.d_k**0.5)).masked_fill(mask==False,-1e10)),v4)\n",
    "\n",
    "        z = torch.cat((z1,z2,z3,z4),dim=-1)\n",
    "        z = self.W0(z)\n",
    "        return (z)\n",
    "        \n",
    "\n",
    "    def multihead(self,x,enc,mask):\n",
    "        q1 = self.EDWQ1(x)\n",
    "        k1 = self.EDWK1(enc)\n",
    "        v1 = self.EDWV1(enc)\n",
    "\n",
    "        q2 = self.EDWQ2(x)\n",
    "        k2 = self.EDWK2(enc)\n",
    "        v2 = self.EDWV2(enc)\n",
    "\n",
    "        q3 = self.EDWQ3(x)\n",
    "        k3 = self.EDWK3(enc)\n",
    "        v3 = self.EDWV3(enc)\n",
    "\n",
    "        q4 = self.EDWQ4(x)\n",
    "        k4 = self.EDWK4(enc)\n",
    "        v4 = self.EDWV4(enc)\n",
    "        \n",
    "        # print(q1.shape,k1.shape)\n",
    "        z1 = torch.matmul(q1,torch.transpose(k1,1,2))/(self.d_k**0.5)\n",
    "        z1=torch.matmul(self.softmax(z1.masked_fill(mask==False,-1e10)),v1)\n",
    "        z2=torch.matmul(self.softmax((torch.matmul(q2,torch.transpose(k2,1,2))/(self.d_k**0.5)).masked_fill(mask==False,-1e10)),v2)\n",
    "        z3=torch.matmul(self.softmax((torch.matmul(q3,torch.transpose(k3,1,2))/(self.d_k**0.5)).masked_fill(mask==False,-1e10)),v3)\n",
    "        z4=torch.matmul(self.softmax((torch.matmul(q4,torch.transpose(k4,1,2))/(self.d_k**0.5)).masked_fill(mask==False,-1e10)),v4)\n",
    "\n",
    "        z = torch.cat((z1,z2,z3,z4),dim=-1)\n",
    "        z = self.EDW0(z)\n",
    "        return (z)\n",
    "\n",
    "    def forward(self,x,enc,trg_mask,src_mask):\n",
    "        \n",
    "        x = self.dropout(self.masked_multihead(x,trg_mask)) + x\n",
    "        x = self.norm1(x)\n",
    "        x = self.dropout(self.multihead(x,enc,src_mask)) + x\n",
    "        x = self.norm2(x)\n",
    "        x = self.dropout(self.relu(self.ff_dec2(self.dropout(self.relu(self.ff_dec1(x)))))) + x\n",
    "        x = self.norm3(x)\n",
    "        return (x)\n"
   ]
  },
  {
   "cell_type": "markdown",
   "metadata": {},
   "source": [
    "Transformer block takes source and target encodings as input , fetches their embeddings , add seperate positional embeddings and pass source through Encoder and target, output of Encoder's last layer through Decoder. Within Transformer class , you can create multiple layers of encoder and decoder and stack them on top of each othe."
   ]
  },
  {
   "cell_type": "markdown",
   "metadata": {},
   "source": [
    "Remember, Embeddings are not part of Encoding or decoding. Also mask creating fuctions are methods of Transformer class."
   ]
  },
  {
   "cell_type": "code",
   "execution_count": null,
   "metadata": {
    "id": "fnOBIDJA437n"
   },
   "outputs": [],
   "source": [
    "class Transformer(nn.Module):\n",
    "\n",
    "    def __init__(self,batch_size,in_vocab_size,out_vocab_size,d_model,d_k,n_dk,device):\n",
    "        super(Transformer,self).__init__()\n",
    "        self.in_vocab_size = in_vocab_size     #input vocab size\n",
    "        self.out_vocab_size = out_vocab_size     #input vocab size\n",
    "        self.batch_size = batch_size\n",
    "        self.d_k = d_k\n",
    "        self.d_model = d_model\n",
    "        self.device = device\n",
    "        self.n_dk = n_dk\n",
    "\n",
    "        self.enc_embeddings = nn.Embedding(in_vocab_size,d_model)\n",
    "        self.dec_embeddings = nn.Embedding(out_vocab_size,d_model)\n",
    "        self.pe_embeddings_enc = nn.Embedding(100,d_model)\n",
    "        self.pe_embeddings_dec = nn.Embedding(100,d_model)\n",
    "\n",
    "        self.encoder1 = Encoder(batch_size,d_model,d_k,n_dk)\n",
    "        # self.encoder2 = Encoder(batch_size,d_model,d_k,n_dk)\n",
    "        # self.encoder3 = Encoder(batch_size,d_model,d_k,n_dk)\n",
    "        # self.encoder4 = Encoder(batch_size,d_model,d_k,n_dk)\n",
    "\n",
    "        self.decoder1 = Decoder(batch_size,d_model,d_k,n_dk)\n",
    "        # self.decoder2 = Decoder(batch_size,d_model,d_k,n_dk)\n",
    "        # self.decoder3 = Decoder(batch_size,d_model,d_k,n_dk)\n",
    "        # self.decoder4 = Decoder(batch_size,d_model,d_k,n_dk)\n",
    "\n",
    "        self.linear = nn.Linear(d_model,out_vocab_size)\n",
    "        self.softmax = nn.Softmax(dim=-1)\n",
    "\n",
    "    def make_src_mask(self, src):                                                       # src = [batch_size, src_len]\n",
    "        src_mask = (src != 1).unsqueeze(1).to(device)   # src_mask = [batch_size, 1, src_len]\n",
    "        return src_mask\n",
    "\n",
    "    def make_trg_mask(self, trg):                                                       # trg = [batch_size, trg_len]                  \n",
    "        trg_len = trg.shape[1] \n",
    "        pad_mask = (trg != 1).unsqueeze(1).to(device)   # pad_mask = [batch_size, 1, trg_len]\n",
    "        sub_mask = torch.tril(torch.ones((trg_len, trg_len), device = device)).bool()   # sub_mask = [trg_len, trg_len]\n",
    "        trg_mask = pad_mask & sub_mask                                                  # trg_mask = [batch_size, trg_len, trg_len]\n",
    "        return trg_mask\n",
    "\n",
    "    def forward(self,src,trg):\n",
    "        seq_len = src.shape[1]\n",
    "        batch_size = src.shape[0]\n",
    "        src_mask = self.make_src_mask(src)\n",
    "        enc = self.enc_embeddings(src)\n",
    "        PE1 = torch.arange(seq_len).unsqueeze(0).repeat(batch_size,1).to(device)\n",
    "        PE1 = self.pe_embeddings_enc(PE1)\n",
    "        enc = enc*(self.d_k**0.5) + PE1\n",
    "        enc = self.encoder1(enc,src_mask)\n",
    "        # enc = self.encoder2(enc,src_mask)\n",
    "        # enc = self.encoder3(enc,src_mask)\n",
    "        # enc = self.encoder4(enc,src_mask)\n",
    "\n",
    "        seq_len = trg.shape[1]\n",
    "        trg_mask = self.make_trg_mask(trg)\n",
    "        dec = self.dec_embeddings(trg)\n",
    "        PE2 = torch.arange(seq_len).unsqueeze(0).repeat(batch_size,1).to(device)\n",
    "        PE2 = self.pe_embeddings_dec(PE2)\n",
    "        dec = dec*(self.d_k**0.5) + PE2\n",
    "        dec = self.decoder1(dec,enc,trg_mask,src_mask)\n",
    "        # dec = self.decoder2(dec,enc,trg_mask,src_mask)\n",
    "        # dec = self.decoder3(dec,enc,trg_mask,src_mask)\n",
    "        # dec = self.decoder4(dec,enc,trg_mask,src_mask)\n",
    "        dec = self.linear(dec)\n",
    "        return (enc,dec)\n"
   ]
  },
  {
   "cell_type": "markdown",
   "metadata": {},
   "source": [
    "### Some hyperparameters "
   ]
  },
  {
   "cell_type": "code",
   "execution_count": null,
   "metadata": {
    "id": "5bwKVF01Q1nv"
   },
   "outputs": [],
   "source": [
    "d_model = 512   # embedding dimension\n",
    "d_k = 64\n",
    "n_dk = 4\n",
    "in_vocab_size = len(german.vocab)\n",
    "out_vocab_size = len(english.vocab)\n",
    "batch_size = 128\n",
    "device = 'cuda' if torch.cuda.is_available else 'cpu'\n",
    "learning_rate = 0.0004\n",
    "epochs = 13"
   ]
  },
  {
   "cell_type": "code",
   "execution_count": null,
   "metadata": {
    "colab": {
     "background_save": true
    },
    "id": "lxzZZZNAvs3m"
   },
   "outputs": [],
   "source": [
    "#d_model=512,d_k=64,n_dk=4,batch=128,lr=0.0004,epochs=5 gave the best results till now with single layer\n",
    "# ...................................................................................................................................................................................................................................\n",
    "# epoch train loss : 2.0330910236299826  ||  time : 15.214810371398926  ||  epoch validation loss : 2.014664277434349\n",
    "# ...................................................................................................................................................................................................................................\n",
    "# epoch train loss : 1.1160743593644467  ||  time : 15.319031000137329  ||  epoch validation loss : 1.5752189457416534\n",
    "# ...................................................................................................................................................................................................................................\n",
    "# epoch train loss : 0.82381343473947  ||  time : 15.492727041244507  ||  epoch validation loss : 1.4209523051977158\n",
    "# ...................................................................................................................................................................................................................................\n",
    "# epoch train loss : 0.645236498458795  ||  time : 15.51793885231018  ||  epoch validation loss : 1.3809292763471603\n",
    "# ...................................................................................................................................................................................................................................\n",
    "# epoch train loss : 0.5199730066738465  ||  time : 15.513466835021973  ||  epoch validation loss : 1.386391267180442\n",
    "#separated model"
   ]
  },
  {
   "cell_type": "code",
   "execution_count": null,
   "metadata": {
    "id": "vMzqH7XddqN2"
   },
   "outputs": [],
   "source": []
  },
  {
   "cell_type": "code",
   "execution_count": null,
   "metadata": {
    "id": "yT2gKnIxKZw-"
   },
   "outputs": [],
   "source": [
    "train_iterator, validation_iterator, test_iterator = BucketIterator.splits((train_data,validation_data,test_data),\n",
    "                                                                          batch_size=batch_size,device=device)"
   ]
  },
  {
   "cell_type": "code",
   "execution_count": null,
   "metadata": {
    "colab": {
     "base_uri": "https://localhost:8080/"
    },
    "id": "yt009GMjQ1rd",
    "outputId": "13ef7bea-324b-4d45-f962-c25367d1589b"
   },
   "outputs": [
    {
     "name": "stdout",
     "output_type": "stream",
     "text": [
      "The model has 13,846,533 trainable parameters\n"
     ]
    }
   ],
   "source": [
    "model = Transformer(batch_size,in_vocab_size,out_vocab_size,d_model,d_k,n_dk,device).to(device)\n",
    "optimizer = optim.Adam(model.parameters(),lr=learning_rate)\n",
    "criterion = nn.CrossEntropyLoss()\n",
    "\n",
    "def count_parameters(model):\n",
    "    return sum(p.numel() for p in model.parameters() if p.requires_grad)\n",
    "\n",
    "print(f'The model has {count_parameters(model):,} trainable parameters')"
   ]
  },
  {
   "cell_type": "code",
   "execution_count": null,
   "metadata": {
    "colab": {
     "base_uri": "https://localhost:8080/"
    },
    "id": "vZC-qwUSMm7j",
    "outputId": "004d2a2f-ab36-4daf-adab-3f0298b25b95"
   },
   "outputs": [
    {
     "data": {
      "text/plain": [
       "Transformer(\n",
       "  (enc_embeddings): Embedding(7855, 512)\n",
       "  (dec_embeddings): Embedding(5893, 512)\n",
       "  (pe_embeddings_enc): Embedding(100, 512)\n",
       "  (pe_embeddings_dec): Embedding(100, 512)\n",
       "  (encoder1): Encoder(\n",
       "    (dropout): Dropout(p=0.22, inplace=False)\n",
       "    (norm1): LayerNorm((512,), eps=1e-05, elementwise_affine=True)\n",
       "    (norm2): LayerNorm((512,), eps=1e-05, elementwise_affine=True)\n",
       "    (WQ1): Linear(in_features=512, out_features=64, bias=True)\n",
       "    (WK1): Linear(in_features=512, out_features=64, bias=True)\n",
       "    (WV1): Linear(in_features=512, out_features=64, bias=True)\n",
       "    (WQ2): Linear(in_features=512, out_features=64, bias=True)\n",
       "    (WK2): Linear(in_features=512, out_features=64, bias=True)\n",
       "    (WV2): Linear(in_features=512, out_features=64, bias=True)\n",
       "    (WQ3): Linear(in_features=512, out_features=64, bias=True)\n",
       "    (WK3): Linear(in_features=512, out_features=64, bias=True)\n",
       "    (WV3): Linear(in_features=512, out_features=64, bias=True)\n",
       "    (WQ4): Linear(in_features=512, out_features=64, bias=True)\n",
       "    (WK4): Linear(in_features=512, out_features=64, bias=True)\n",
       "    (WV4): Linear(in_features=512, out_features=64, bias=True)\n",
       "    (W0): Linear(in_features=256, out_features=512, bias=True)\n",
       "    (softmax): Softmax(dim=-1)\n",
       "    (ff_enc1): Linear(in_features=512, out_features=1024, bias=True)\n",
       "    (ff_enc2): Linear(in_features=1024, out_features=512, bias=True)\n",
       "    (relu): ReLU()\n",
       "  )\n",
       "  (decoder1): Decoder(\n",
       "    (norm1): LayerNorm((512,), eps=1e-05, elementwise_affine=True)\n",
       "    (norm2): LayerNorm((512,), eps=1e-05, elementwise_affine=True)\n",
       "    (norm3): LayerNorm((512,), eps=1e-05, elementwise_affine=True)\n",
       "    (dropout): Dropout(p=0.22, inplace=False)\n",
       "    (WQ1): Linear(in_features=512, out_features=64, bias=True)\n",
       "    (WK1): Linear(in_features=512, out_features=64, bias=True)\n",
       "    (WV1): Linear(in_features=512, out_features=64, bias=True)\n",
       "    (WQ2): Linear(in_features=512, out_features=64, bias=True)\n",
       "    (WK2): Linear(in_features=512, out_features=64, bias=True)\n",
       "    (WV2): Linear(in_features=512, out_features=64, bias=True)\n",
       "    (WQ3): Linear(in_features=512, out_features=64, bias=True)\n",
       "    (WK3): Linear(in_features=512, out_features=64, bias=True)\n",
       "    (WV3): Linear(in_features=512, out_features=64, bias=True)\n",
       "    (WQ4): Linear(in_features=512, out_features=64, bias=True)\n",
       "    (WK4): Linear(in_features=512, out_features=64, bias=True)\n",
       "    (WV4): Linear(in_features=512, out_features=64, bias=True)\n",
       "    (W0): Linear(in_features=256, out_features=512, bias=True)\n",
       "    (EDWQ1): Linear(in_features=512, out_features=64, bias=True)\n",
       "    (EDWK1): Linear(in_features=512, out_features=64, bias=True)\n",
       "    (EDWV1): Linear(in_features=512, out_features=64, bias=True)\n",
       "    (EDWQ2): Linear(in_features=512, out_features=64, bias=True)\n",
       "    (EDWK2): Linear(in_features=512, out_features=64, bias=True)\n",
       "    (EDWV2): Linear(in_features=512, out_features=64, bias=True)\n",
       "    (EDWQ3): Linear(in_features=512, out_features=64, bias=True)\n",
       "    (EDWK3): Linear(in_features=512, out_features=64, bias=True)\n",
       "    (EDWV3): Linear(in_features=512, out_features=64, bias=True)\n",
       "    (EDWQ4): Linear(in_features=512, out_features=64, bias=True)\n",
       "    (EDWK4): Linear(in_features=512, out_features=64, bias=True)\n",
       "    (EDWV4): Linear(in_features=512, out_features=64, bias=True)\n",
       "    (EDW0): Linear(in_features=256, out_features=512, bias=True)\n",
       "    (softmax): Softmax(dim=-1)\n",
       "    (ff_dec1): Linear(in_features=512, out_features=1024, bias=True)\n",
       "    (ff_dec2): Linear(in_features=1024, out_features=512, bias=True)\n",
       "    (relu): ReLU()\n",
       "  )\n",
       "  (linear): Linear(in_features=512, out_features=5893, bias=True)\n",
       "  (softmax): Softmax(dim=-1)\n",
       ")"
      ]
     },
     "execution_count": 109,
     "metadata": {
      "tags": []
     },
     "output_type": "execute_result"
    }
   ],
   "source": [
    "def initialize_weights(m):\n",
    "    if hasattr(m, 'weight') and m.weight.dim() > 1:\n",
    "        nn.init.xavier_uniform_(m.weight.data)\n",
    "\n",
    "model.apply(initialize_weights)"
   ]
  },
  {
   "cell_type": "markdown",
   "metadata": {},
   "source": [
    "## Training "
   ]
  },
  {
   "cell_type": "code",
   "execution_count": null,
   "metadata": {
    "colab": {
     "base_uri": "https://localhost:8080/",
     "height": 592
    },
    "id": "mwCOjAf1Q1w3",
    "outputId": "e8a2b01b-e0bb-4dd1-c0c1-fb0f4c86ce56",
    "scrolled": false
   },
   "outputs": [
    {
     "name": "stdout",
     "output_type": "stream",
     "text": [
      "...................................................................................................................................................................................................................................\n",
      "epoch train loss : 2.0330910236299826  ||  time : 15.214810371398926  ||  epoch validation loss : 2.014664277434349\n",
      "...................................................................................................................................................................................................................................\n",
      "epoch train loss : 1.1160743593644467  ||  time : 15.319031000137329  ||  epoch validation loss : 1.5752189457416534\n",
      "...................................................................................................................................................................................................................................\n",
      "epoch train loss : 0.82381343473947  ||  time : 15.492727041244507  ||  epoch validation loss : 1.4209523051977158\n",
      "...................................................................................................................................................................................................................................\n",
      "epoch train loss : 0.645236498458795  ||  time : 15.51793885231018  ||  epoch validation loss : 1.3809292763471603\n",
      "...................................................................................................................................................................................................................................\n",
      "epoch train loss : 0.5199730066738465  ||  time : 15.513466835021973  ||  epoch validation loss : 1.3863912671804428\n",
      "................................................................."
     ]
    },
    {
     "ename": "KeyboardInterrupt",
     "evalue": "ignored",
     "output_type": "error",
     "traceback": [
      "\u001b[0;31m---------------------------------------------------------------------------\u001b[0m",
      "\u001b[0;31mKeyboardInterrupt\u001b[0m                         Traceback (most recent call last)",
      "\u001b[0;32m<ipython-input-110-9e6677b4889c>\u001b[0m in \u001b[0;36m<module>\u001b[0;34m()\u001b[0m\n\u001b[1;32m     21\u001b[0m         \u001b[0mepoch_loss\u001b[0m\u001b[0;34m.\u001b[0m\u001b[0mappend\u001b[0m\u001b[0;34m(\u001b[0m\u001b[0mloss\u001b[0m\u001b[0;34m.\u001b[0m\u001b[0mitem\u001b[0m\u001b[0;34m(\u001b[0m\u001b[0;34m)\u001b[0m\u001b[0;34m)\u001b[0m\u001b[0;34m\u001b[0m\u001b[0;34m\u001b[0m\u001b[0m\n\u001b[1;32m     22\u001b[0m \u001b[0;34m\u001b[0m\u001b[0m\n\u001b[0;32m---> 23\u001b[0;31m         \u001b[0mloss\u001b[0m\u001b[0;34m.\u001b[0m\u001b[0mbackward\u001b[0m\u001b[0;34m(\u001b[0m\u001b[0;34m)\u001b[0m\u001b[0;34m\u001b[0m\u001b[0;34m\u001b[0m\u001b[0m\n\u001b[0m\u001b[1;32m     24\u001b[0m         \u001b[0moptimizer\u001b[0m\u001b[0;34m.\u001b[0m\u001b[0mstep\u001b[0m\u001b[0;34m(\u001b[0m\u001b[0;34m)\u001b[0m\u001b[0;34m\u001b[0m\u001b[0;34m\u001b[0m\u001b[0m\n\u001b[1;32m     25\u001b[0m         \u001b[0mt22\u001b[0m \u001b[0;34m=\u001b[0m \u001b[0mtime\u001b[0m\u001b[0;34m.\u001b[0m\u001b[0mtime\u001b[0m\u001b[0;34m(\u001b[0m\u001b[0;34m)\u001b[0m\u001b[0;34m\u001b[0m\u001b[0;34m\u001b[0m\u001b[0m\n",
      "\u001b[0;32m/usr/local/lib/python3.7/dist-packages/torch/tensor.py\u001b[0m in \u001b[0;36mbackward\u001b[0;34m(self, gradient, retain_graph, create_graph, inputs)\u001b[0m\n\u001b[1;32m    243\u001b[0m                 \u001b[0mcreate_graph\u001b[0m\u001b[0;34m=\u001b[0m\u001b[0mcreate_graph\u001b[0m\u001b[0;34m,\u001b[0m\u001b[0;34m\u001b[0m\u001b[0;34m\u001b[0m\u001b[0m\n\u001b[1;32m    244\u001b[0m                 inputs=inputs)\n\u001b[0;32m--> 245\u001b[0;31m         \u001b[0mtorch\u001b[0m\u001b[0;34m.\u001b[0m\u001b[0mautograd\u001b[0m\u001b[0;34m.\u001b[0m\u001b[0mbackward\u001b[0m\u001b[0;34m(\u001b[0m\u001b[0mself\u001b[0m\u001b[0;34m,\u001b[0m \u001b[0mgradient\u001b[0m\u001b[0;34m,\u001b[0m \u001b[0mretain_graph\u001b[0m\u001b[0;34m,\u001b[0m \u001b[0mcreate_graph\u001b[0m\u001b[0;34m,\u001b[0m \u001b[0minputs\u001b[0m\u001b[0;34m=\u001b[0m\u001b[0minputs\u001b[0m\u001b[0;34m)\u001b[0m\u001b[0;34m\u001b[0m\u001b[0;34m\u001b[0m\u001b[0m\n\u001b[0m\u001b[1;32m    246\u001b[0m \u001b[0;34m\u001b[0m\u001b[0m\n\u001b[1;32m    247\u001b[0m     \u001b[0;32mdef\u001b[0m \u001b[0mregister_hook\u001b[0m\u001b[0;34m(\u001b[0m\u001b[0mself\u001b[0m\u001b[0;34m,\u001b[0m \u001b[0mhook\u001b[0m\u001b[0;34m)\u001b[0m\u001b[0;34m:\u001b[0m\u001b[0;34m\u001b[0m\u001b[0;34m\u001b[0m\u001b[0m\n",
      "\u001b[0;32m/usr/local/lib/python3.7/dist-packages/torch/autograd/__init__.py\u001b[0m in \u001b[0;36mbackward\u001b[0;34m(tensors, grad_tensors, retain_graph, create_graph, grad_variables, inputs)\u001b[0m\n\u001b[1;32m    145\u001b[0m     Variable._execution_engine.run_backward(\n\u001b[1;32m    146\u001b[0m         \u001b[0mtensors\u001b[0m\u001b[0;34m,\u001b[0m \u001b[0mgrad_tensors_\u001b[0m\u001b[0;34m,\u001b[0m \u001b[0mretain_graph\u001b[0m\u001b[0;34m,\u001b[0m \u001b[0mcreate_graph\u001b[0m\u001b[0;34m,\u001b[0m \u001b[0minputs\u001b[0m\u001b[0;34m,\u001b[0m\u001b[0;34m\u001b[0m\u001b[0;34m\u001b[0m\u001b[0m\n\u001b[0;32m--> 147\u001b[0;31m         allow_unreachable=True, accumulate_grad=True)  # allow_unreachable flag\n\u001b[0m\u001b[1;32m    148\u001b[0m \u001b[0;34m\u001b[0m\u001b[0m\n\u001b[1;32m    149\u001b[0m \u001b[0;34m\u001b[0m\u001b[0m\n",
      "\u001b[0;31mKeyboardInterrupt\u001b[0m: "
     ]
    }
   ],
   "source": [
    "train_loss_lst = []\n",
    "validation_loss_lst = []\n",
    "for epoch in range(epochs):\n",
    "    epoch_loss = []\n",
    "    t1 = time.time()\n",
    "    for batch in train_iterator:\n",
    "        t11 = time.time()\n",
    "\n",
    "        source = batch.src\n",
    "        target = batch.trg   #target = batch x seqlen\n",
    "        \n",
    "        model.zero_grad()\n",
    "        optimizer.zero_grad()\n",
    "\n",
    "        _,out = model(source,target[:,:-1])\n",
    "\n",
    "        out = out.view(-1,out_vocab_size)\n",
    "        target = target[:,1:].reshape(-1)\n",
    "\n",
    "        loss = criterion(out,target)\n",
    "        epoch_loss.append(loss.item())\n",
    "\n",
    "        loss.backward()\n",
    "        optimizer.step()\n",
    "        t22 = time.time()\n",
    "        print(\".\",end=\"\")\n",
    "    train_loss_lst += epoch_loss\n",
    "    t2 = time.time()\n",
    "    validation_lst = validation_loss(model,validation_iterator)\n",
    "    validation_loss_lst += validation_lst\n",
    "\n",
    "    print()\n",
    "    print(\"epoch train loss : {}  ||  time : {}  ||  epoch validation loss : {}\".format(np.mean(epoch_loss),t2-t1,np.mean(validation_lst)))"
   ]
  },
  {
   "cell_type": "code",
   "execution_count": null,
   "metadata": {
    "id": "9p8n4T-KSYRI"
   },
   "outputs": [],
   "source": [
    "torch.save(model.state_dict(),'Transformer_sep1.pth')"
   ]
  },
  {
   "cell_type": "code",
   "execution_count": null,
   "metadata": {
    "id": "OWbqda1YS3DW"
   },
   "outputs": [],
   "source": []
  },
  {
   "cell_type": "markdown",
   "metadata": {
    "id": "lEzHJC2DS3-J"
   },
   "source": [
    "d_model = 256   # embedding dimension\n",
    "d_k = 64\n",
    "n_dk = 6\n",
    "in_vocab_size = len(german.vocab)\n",
    "out_vocab_size = len(english.vocab)\n",
    "batch_size = 128\n",
    "device = 'cuda' if torch.cuda.is_available else 'cpu'\n",
    "learning_rate = 0.0005\n",
    "epochs = 13"
   ]
  },
  {
   "cell_type": "markdown",
   "metadata": {},
   "source": [
    "#### If dont want to train, you can load it from here also "
   ]
  },
  {
   "cell_type": "code",
   "execution_count": null,
   "metadata": {
    "colab": {
     "base_uri": "https://localhost:8080/"
    },
    "id": "y9Ff5rhjSZje",
    "outputId": "0b9ee13b-3ae5-41ce-9e95-e18993ec5325"
   },
   "outputs": [
    {
     "data": {
      "text/plain": [
       "<All keys matched successfully>"
      ]
     },
     "execution_count": 89,
     "metadata": {
      "tags": []
     },
     "output_type": "execute_result"
    }
   ],
   "source": [
    "model.load_state_dict(torch.load('Transformer_sep1.pth'))"
   ]
  },
  {
   "cell_type": "code",
   "execution_count": null,
   "metadata": {
    "colab": {
     "base_uri": "https://localhost:8080/",
     "height": 282
    },
    "id": "Iea_bx_iQ109",
    "outputId": "965d78b5-ec82-4309-bc07-0043703f4ff7"
   },
   "outputs": [
    {
     "data": {
      "text/plain": [
       "<matplotlib.legend.Legend at 0x7f15746fe490>"
      ]
     },
     "execution_count": 111,
     "metadata": {
      "tags": []
     },
     "output_type": "execute_result"
    },
    {
     "data": {
      "image/png": "[encoded data removed]",
      "text/plain": [
       "<Figure size 432x288 with 1 Axes>"
      ]
     },
     "metadata": {
      "tags": []
     },
     "output_type": "display_data"
    }
   ],
   "source": [
    "\n",
    "\n",
    "plt.plot(train_loss_lst)\n",
    "plt.legend(['train'])"
   ]
  },
  {
   "cell_type": "code",
   "execution_count": null,
   "metadata": {
    "colab": {
     "base_uri": "https://localhost:8080/",
     "height": 282
    },
    "id": "rzH46qyumq6P",
    "outputId": "61a652d8-cc1f-4673-f226-be8f05edc506"
   },
   "outputs": [
    {
     "data": {
      "text/plain": [
       "<matplotlib.legend.Legend at 0x7f1574598950>"
      ]
     },
     "execution_count": 112,
     "metadata": {
      "tags": []
     },
     "output_type": "execute_result"
    },
    {
     "data": {
      "image/png": "[encoded data removed]",
      "text/plain": [
       "<Figure size 432x288 with 1 Axes>"
      ]
     },
     "metadata": {
      "tags": []
     },
     "output_type": "display_data"
    }
   ],
   "source": [
    "plt.plot(validation_loss_lst)\n",
    "plt.legend(['valid'])"
   ]
  },
  {
   "cell_type": "markdown",
   "metadata": {},
   "source": [
    "### Testing over some random sentences "
   ]
  },
  {
   "cell_type": "code",
   "execution_count": 170,
   "metadata": {
    "colab": {
     "base_uri": "https://localhost:8080/"
    },
    "id": "04jj9FnHmrBu",
    "outputId": "96172d27-9e84-41ad-ade2-cf2a4994c220"
   },
   "outputs": [
    {
     "name": "stdout",
     "output_type": "stream",
     "text": [
      "tensor([  2,   5,  13, 287,  23,   7,  15, 110,  14, 340,  34,  21,   5, 104,\n",
      "          4,   3])\n",
      "['ein', 'mann', 'lehnt', 'sich', 'in', 'der', 'nähe', 'einer', 'belebten', 'straße', 'an', 'ein', 'gebäude', '.']\n"
     ]
    }
   ],
   "source": [
    "#sentence = 'ich habe kein interesse am spielen .' # 'i dont have intrest in playing'\n",
    "#sentence = 'ich bin heute glücklich .'  # 'i am happy today'\n",
    "#sentence = 'eine frau mochte dieses gebäude .' # 'a woman liked that building'\n",
    "#sentence = 'eines tages werde ich reich sein .'  # 'one day i will be rich'\n",
    "sentence = 'ein mann lehnt sich in der nähe einer belebten straße an ein gebäude .'  # 'a man leans against a building near a busy street .'\n",
    "#sentence = 'wer bin ich .'   # 'who am i'\n",
    "#sentence = 'ein läufer <unk> sich für ein rennen aus dem <unk> .'  #runner leaving the starting blocks of a race .\n",
    "sentence = sentence.split()\n",
    "inputs = torch.zeros([len(sentence)+2],dtype=torch.long)\n",
    "inputs[0] = 2\n",
    "inputs[-1]  = 3\n",
    "#a[1] = 1180\n",
    "for i in range(0,len(sentence)):\n",
    "\n",
    "    inputs[i+1] = german.vocab.stoi[sentence[i]]\n",
    "    \n",
    "print(inputs)\n",
    "print(sentence)"
   ]
  },
  {
   "cell_type": "code",
   "execution_count": 171,
   "metadata": {
    "colab": {
     "base_uri": "https://localhost:8080/"
    },
    "id": "rXSGesid7LkO",
    "outputId": "123cfbbc-db78-4705-8478-7876c887c0e0"
   },
   "outputs": [
    {
     "name": "stdout",
     "output_type": "stream",
     "text": [
      " a man leaning against a building near a busy street .\n"
     ]
    }
   ],
   "source": [
    "translation = ''\n",
    "trg = []\n",
    "word = '<sos>'\n",
    "word_index = 2\n",
    "count=0\n",
    "trg.append(word_index)\n",
    "src = inputs.reshape(1,-1).to(device)\n",
    "\n",
    "seq_len = src.shape[1]\n",
    "batch_size = src.shape[0]\n",
    "src_mask = model.make_src_mask(src)\n",
    "enc = model.enc_embeddings(src)\n",
    "PE1 = torch.arange(seq_len).unsqueeze(0).repeat(batch_size,1).to(device)\n",
    "PE1 = model.pe_embeddings_enc(PE1)\n",
    "enc = enc*(d_k**0.5) + PE1\n",
    "enc = model.encoder1(enc,src_mask)\n",
    "\n",
    "while (word!='<eos>' and count<=50):\n",
    "    seq_len = count+1\n",
    "    trg_mask = model.make_trg_mask(torch.tensor(trg).reshape(1,-1)).to(device)\n",
    "    dec = model.dec_embeddings(torch.tensor(trg).reshape(1,-1).to(device))    \n",
    "    PE2 = torch.arange(seq_len).unsqueeze(0).repeat(batch_size,1).to(device)\n",
    "    PE2 = model.pe_embeddings_dec(PE2)\n",
    "    dec = dec*(d_k**0.5) + PE2\n",
    "    dec = model.decoder1(dec,enc,trg_mask,src_mask)\n",
    "    dec = model.linear(dec)\n",
    "\n",
    "    word_index = torch.argmax(dec[0,-1,:]).item()\n",
    "    word = english.vocab.itos[word_index]\n",
    "    if (word!='<eos>'):\n",
    "        translation = translation + \" \" + word\n",
    "        trg.append(word_index)\n",
    "        count +=1\n",
    "print(translation)"
   ]
  },
  {
   "cell_type": "markdown",
   "metadata": {
    "id": "u9c4JURTFdw7"
   },
   "source": [
    "## BLEU score"
   ]
  },
  {
   "cell_type": "code",
   "execution_count": null,
   "metadata": {
    "id": "Eg42EhcHEbHE"
   },
   "outputs": [],
   "source": [
    "out = model(inputs.reshape(1,-1).to(device),torch.tensor([[word_index]]).to(device))\n",
    "out = model.softmax(out)\n",
    "word_index = torch.argmax(out).item()\n",
    "word = english.vocab.itos[word_index]"
   ]
  },
  {
   "cell_type": "code",
   "execution_count": null,
   "metadata": {
    "colab": {
     "base_uri": "https://localhost:8080/",
     "height": 35
    },
    "id": "Q9VrI90sFNSN",
    "outputId": "b4706bea-cff3-49e2-8029-3dfa6ebdcf81"
   },
   "outputs": [],
   "source": []
  },
  {
   "cell_type": "code",
   "execution_count": null,
   "metadata": {
    "id": "7O2M8M01Fs4R"
   },
   "outputs": [],
   "source": [
    "def encodings(src,trg):\n",
    "    src_enc = torch.zeros([len(src)+2],dtype=torch.long)\n",
    "    trg_enc = torch.zeros([len(trg)+2],dtype=torch.long)\n",
    "    src_enc[0] = 2\n",
    "    src_enc[-1] = 3\n",
    "    trg_enc[0] = 2\n",
    "    trg_enc[-1] = 3\n",
    "    for i in range(len(src)):\n",
    "        src_enc[i+1] = german.vocab.stoi[src[i]]\n",
    "    for i in range(len(trg)):\n",
    "        trg_enc[i+1] = english.vocab.stoi[trg[i]]\n",
    "    return(src_enc,trg_enc)"
   ]
  },
  {
   "cell_type": "code",
   "execution_count": null,
   "metadata": {
    "id": "PpC45IP_Fs-g"
   },
   "outputs": [],
   "source": [
    "from torchtext.data.metrics import bleu_score"
   ]
  },
  {
   "cell_type": "code",
   "execution_count": 158,
   "metadata": {
    "colab": {
     "base_uri": "https://localhost:8080/"
    },
    "id": "AnxvwA-vFtDC",
    "outputId": "c3e3ce4d-ad2d-40fd-b220-94a81f2d58ab"
   },
   "outputs": [
    {
     "name": "stderr",
     "output_type": "stream",
     "text": [
      "/usr/local/lib/python3.7/dist-packages/ipykernel_launcher.py:8: UserWarning: To copy construct from a tensor, it is recommended to use sourceTensor.clone().detach() or sourceTensor.clone().detach().requires_grad_(True), rather than torch.tensor(sourceTensor).\n",
      "  \n"
     ]
    }
   ],
   "source": [
    "predicted_target = []\n",
    "target = []\n",
    "for n,i in enumerate(test_data):\n",
    "    src = vars(test_data[n])['src']\n",
    "    t = vars(test_data[n])['trg']\n",
    "\n",
    "    src_enc,trg_enc = encodings(src,t)\n",
    "    inputs = torch.tensor(src_enc)\n",
    "\n",
    "\n",
    "    translation = []\n",
    "    trg = []\n",
    "    word = '<sos>'\n",
    "    word_index = 2\n",
    "    count=0\n",
    "    trg.append(word_index)\n",
    "    src = inputs.reshape(1,-1).to(device)\n",
    "\n",
    "\n",
    "    seq_len = src.shape[1]\n",
    "    batch_size = src.shape[0]\n",
    "    src_mask = model.make_src_mask(src)\n",
    "    enc = model.enc_embeddings(src)\n",
    "    PE1 = torch.arange(seq_len).unsqueeze(0).repeat(batch_size,1).to(device)\n",
    "    PE1 = model.pe_embeddings_enc(PE1)\n",
    "    enc = enc*(d_k**0.5) + PE1\n",
    "    enc = model.encoder1(enc,src_mask)\n",
    "    # enc = model.encoder2(enc,src_mask)\n",
    "    # enc = model.encoder3(enc,src_mask)\n",
    "    # enc = model.encoder4(enc,src_mask)\n",
    "\n",
    "    while (word!='<eos>' and count<=50):\n",
    "        seq_len = count+1\n",
    "        trg_mask = model.make_trg_mask(torch.tensor(trg).reshape(1,-1)).to(device)\n",
    "        dec = model.dec_embeddings(torch.tensor(trg).reshape(1,-1).to(device))    \n",
    "        PE2 = torch.arange(seq_len).unsqueeze(0).repeat(batch_size,1).to(device)\n",
    "        PE2 = model.pe_embeddings_dec(PE2)\n",
    "        dec = dec*(d_k**0.5) + PE2\n",
    "        dec = model.decoder1(dec,enc,trg_mask,src_mask)\n",
    "        # dec = model.decoder2(dec,enc,trg_mask,src_mask)\n",
    "        # dec = model.decoder3(dec,enc,trg_mask,src_mask)\n",
    "        # dec = model.decoder4(dec,enc,trg_mask,src_mask)\n",
    "        dec = model.linear(dec)\n",
    "\n",
    "        word_index = torch.argmax(dec[0,-1,:]).item()\n",
    "        word = english.vocab.itos[word_index]\n",
    "        if (word!='<eos>'):\n",
    "            translation.append(word)\n",
    "            trg.append(word_index)\n",
    "            count +=1\n",
    "\n",
    "    target.append([t])\n",
    "    predicted_target.append(translation)\n"
   ]
  },
  {
   "cell_type": "code",
   "execution_count": 159,
   "metadata": {
    "colab": {
     "base_uri": "https://localhost:8080/"
    },
    "id": "HLms8wG_FtGx",
    "outputId": "169b9ccd-0217-4697-cfac-edf595e2bbbb"
   },
   "outputs": [
    {
     "name": "stdout",
     "output_type": "stream",
     "text": [
      "BLEU score on Testing Data: 32.82\n"
     ]
    }
   ],
   "source": [
    "bscore = bleu_score(predicted_target, target)\n",
    "print(f\"BLEU score on Testing Data: {bscore*100:.2f}\")"
   ]
  },
  {
   "cell_type": "markdown",
   "metadata": {},
   "source": [
    "BLEU score of 32.82 was achieved over test data"
   ]
  },
  {
   "cell_type": "markdown",
   "metadata": {},
   "source": [
    "### Some sentences and predicted translations "
   ]
  },
  {
   "cell_type": "code",
   "execution_count": 160,
   "metadata": {
    "colab": {
     "base_uri": "https://localhost:8080/"
    },
    "id": "kr6bdMRbSvJ_",
    "outputId": "7007b76f-8942-4409-878a-0aa0180dae2f"
   },
   "outputs": [
    {
     "name": "stdout",
     "output_type": "stream",
     "text": [
      "['a', 'man', 'in', 'an', 'orange', 'hat', ',', 'orange', 'and', 'white', '<unk>', '.']\n",
      "[['a', 'man', 'in', 'an', 'orange', 'hat', 'starring', 'at', 'something', '.']]\n",
      "\n",
      "['a', 'boston', '<unk>', 'terrier', 'runs', 'over', 'grass', 'in', 'front', 'of', 'a', 'white', 'fence', '.']\n",
      "[['a', 'boston', 'terrier', 'is', 'running', 'on', 'lush', 'green', 'grass', 'in', 'front', 'of', 'a', 'white', 'fence', '.']]\n",
      "\n",
      "['a', 'girl', 'in', 'a', 'karate', 'uniform', 'is', 'doing', 'a', 'trick', '.']\n",
      "[['a', 'girl', 'in', 'karate', 'uniform', 'breaking', 'a', 'stick', 'with', 'a', 'front', 'kick', '.']]\n",
      "\n",
      "['five', 'people', 'in', 'winter', 'jackets', 'with', 'helmets', 'standing', 'in', 'the', 'snow', 'with', 'helmets', 'in', 'the', 'background', '.']\n",
      "[['five', 'people', 'wearing', 'winter', 'jackets', 'and', 'helmets', 'stand', 'in', 'the', 'snow', ',', 'with', 'snowmobiles', 'in', 'the', 'background', '.']]\n",
      "\n",
      "['people', 'fixing', 'the', 'roof', 'of', 'a', 'house', '.']\n",
      "[['people', 'are', 'fixing', 'the', 'roof', 'of', 'a', 'house', '.']]\n",
      "\n",
      "['a', 'man', 'in', 'a', 'bright', 'yellow', 'and', 'a', 'group', 'of', 'men', 'in', 'a', 'dark', 'dress', 'are', 'standing', 'around', 'a', '<unk>', '.']\n",
      "[['a', 'man', 'in', 'light', 'colored', 'clothing', 'photographs', 'a', 'group', 'of', 'men', 'wearing', 'dark', 'suits', 'and', 'hats', 'standing', 'around', 'a', 'woman', 'dressed', 'in', 'a', 'strapless', 'gown', '.']]\n",
      "\n",
      "['a', 'group', 'of', 'people', 'standing', 'in', 'front', 'of', 'art', 'supplies', '.']\n",
      "[['a', 'group', 'of', 'people', 'standing', 'in', 'front', 'of', 'an', 'igloo', '.']]\n",
      "\n",
      "['a', 'boy', 'in', 'a', 'red', 'uniform', 'tries', 'to', 'catch', 'the', 'base', 'while', 'the', 'base', 'while', 'the', 'blue', 'uniform', 'is', 'trying', 'to', 'catch', 'him', '.']\n",
      "[['a', 'boy', 'in', 'a', 'red', 'uniform', 'is', 'attempting', 'to', 'avoid', 'getting', 'out', 'at', 'home', 'plate', ',', 'while', 'the', 'catcher', 'in', 'the', 'blue', 'uniform', 'is', 'attempting', 'to', 'catch', 'him', '.']]\n",
      "\n",
      "['a', 'guy', 'working', 'on', 'a', 'building', '.']\n",
      "[['a', 'guy', 'works', 'on', 'a', 'building', '.']]\n",
      "\n",
      "['a', 'man', 'in', 'a', 'vest', 'is', 'sitting', 'on', 'a', 'chair', 'holding', 'a', '<unk>', '.']\n",
      "[['a', 'man', 'in', 'a', 'vest', 'is', 'sitting', 'in', 'a', 'chair', 'and', 'holding', 'magazines', '.']]\n",
      "\n"
     ]
    }
   ],
   "source": [
    "for i in range(10):\n",
    "  print(predicted_target[i])\n",
    "  print(target[i])\n",
    "  print()"
   ]
  },
  {
   "cell_type": "code",
   "execution_count": 172,
   "metadata": {
    "colab": {
     "base_uri": "https://localhost:8080/"
    },
    "id": "DRUqWAM8F8Zy",
    "outputId": "f1cb78da-c6b6-4666-b950-e44f15c092f1"
   },
   "outputs": [
    {
     "name": "stdout",
     "output_type": "stream",
     "text": [
      "['people', 'standing', 'in', 'front', 'of', 'a', 'building', '.']\n",
      "[['people', 'standing', 'outside', 'of', 'a', 'building', '.']]\n",
      "\n",
      "['a', 'teenage', 'girl', 'playing', 'a', 'trumpet', 'in', 'the', 'field', '.']\n",
      "[['a', 'teenager', 'plays', 'her', 'trumpet', 'on', 'the', 'field', 'at', 'a', 'game', '.']]\n",
      "\n",
      "['a', 'woman', 'is', 'doing', 'a', 'flip', 'on', 'the', 'beach', '.']\n",
      "[['a', 'woman', 'does', 'a', 'somersault', 'on', 'a', 'trampoline', 'on', 'the', 'beach', '.']]\n",
      "\n",
      "['a', 'man', 'stands', 'by', 'some', 'stairs', 'in', 'a', 'bar', '.']\n",
      "[['a', 'man', 'is', 'standing', 'by', 'a', 'group', 'of', 'video', 'games', 'in', 'a', 'bar', '.']]\n",
      "\n",
      "['a', 'woman', 'uses', 'a', 'drill', 'while', 'a', 'man', 'photographs', 'them', '.']\n",
      "[['a', 'woman', 'uses', 'a', 'drill', 'while', 'another', 'man', 'takes', 'her', 'picture', '.']]\n",
      "\n",
      "['a', 'woman', 'in', 'a', 'pink', 'sweater', 'is', 'cleaning', 'a', 'green', 'apron', 'and', 'cleaning', 'a', 'table', '.']\n",
      "[['a', 'woman', 'in', 'a', 'pink', 'sweater', 'and', 'an', 'apron', ',', 'cleaning', 'a', 'table', 'with', 'a', 'sponge', '.']]\n",
      "\n",
      "['a', 'man', 'is', 'cutting', 'some', 'trees', '.']\n",
      "[['a', 'man', 'cutting', 'branches', 'of', 'trees', '.']]\n",
      "\n",
      "['a', 'group', 'of', 'asian', 'boys', 'waiting', 'at', 'the', 'grill', 'that', 'is', 'stopped', '.']\n",
      "[['group', 'of', 'asian', 'boys', 'wait', 'for', 'meat', 'to', 'cook', 'over', 'barbecue', '.']]\n",
      "\n",
      "['women', 'wearing', 'traditional', 'clothing', ',', 'are', 'playing', 'the', 'native', 'american', 'flag', '.']\n",
      "[['women', ',', 'wearing', 'traditional', 'clothing', ',', 'are', 'reenacting', 'native', 'life', '.']]\n",
      "\n",
      "['a', 'man', 'pushes', 'some', 'head', 'to', 'hit', 'a', 'man', 'and', 'face', 'down', 'from', 'behind', 'him', '.']\n",
      "[['one', 'man', 'holds', 'another', 'man', \"'s\", 'head', 'down', 'and', 'prepares', 'to', 'punch', 'him', 'in', 'the', 'face', '.']]\n",
      "\n",
      "['six', 'people', 'riding', 'bikes', 'through', 'a', 'trail', '.']\n",
      "[['six', 'people', 'ride', 'mountain', 'bikes', 'through', 'a', 'jungle', 'environment', '.']]\n",
      "\n",
      "['2', 'blond', 'girl', 'sitting', 'on', 'a', 'busy', 'area', 'in', 'a', 'busy', 'area', '.']\n",
      "[['2', 'blond', 'girls', 'are', 'sitting', 'on', 'a', 'ledge', 'in', 'a', 'crowded', 'plaza', '.']]\n",
      "\n",
      "['a', 'child', 'splashing', 'in', 'the', 'water', '.']\n",
      "[['a', 'child', 'is', 'splashing', 'in', 'the', 'water']]\n",
      "\n",
      "['three', 'people', 'sitting', 'at', 'a', 'picnic', 'table', 'in', 'front', 'of', 'a', 'building', '.']\n",
      "[['three', 'people', 'sit', 'at', 'a', 'picnic', 'table', 'outside', 'of', 'a', 'building', 'painted', 'like', 'a', 'union', 'jack', '.']]\n",
      "\n",
      "['3', 'boys', 'are', 'standing', 'in', 'swim', 'trunks', 'on', 'a', 'pier', '.']\n",
      "[['3', 'boys', 'are', 'standing', 'on', 'a', 'pier', 'in', 'their', 'bathing', 'suits', '.']]\n",
      "\n",
      "['a', '<unk>', 'hands', 'a', 'woman', 'at', 'a', 'market', 'that', 'is', 'checking', 'out', 'ice', 'cream', 'as', 'she', 'looks', 'at', 'fish', '.']\n",
      "[['an', 'employee', 'is', 'handing', 'a', 'woman', 'a', 'bag', 'while', 'she', 'is', 'browsing', 'through', 'fish', 'on', 'ice', 'at', 'a', 'street', 'market', '.']]\n",
      "\n",
      "['a', 'beautiful', 'woman', 'is', 'playing', 'a', 'harp', '.']\n",
      "[['a', 'pretty', 'woman', 'plays', 'a', 'harpsichord', '.']]\n",
      "\n",
      "['a', 'building', 'looks', 'at', 'the', 'camera', 'in', 'front', 'of', 'a', 'fence', 'behind', 'him', '.']\n",
      "[['outside', 'a', 'building', ',', 'a', 'uniformed', 'security', 'guard', 'looks', 'at', 'the', 'camera', 'from', 'behind', 'a', 'fence', '.']]\n",
      "\n",
      "['the', 'young', 'lady', 'is', 'looking', 'at', 'the', 'pizza', '.']\n",
      "[['the', 'young', 'lady', 'is', 'looking', 'at', 'the', 'pizza', '.']]\n",
      "\n",
      "['a', 'shirtless', 'man', 'is', 'standing', 'on', 'and', 'shorts', ',', 'and', 'a', 'couple', 'of', 'rocks', 'and', 'fishing', '.']\n",
      "[['a', 'shirtless', 'man', 'in', 'shorts', 'is', 'fishing', 'while', 'standing', 'on', 'some', 'rocks', '.']]\n",
      "\n"
     ]
    }
   ],
   "source": [
    "for i in range(20,40):\n",
    "    print(predicted_target[i])\n",
    "    print(target[i])\n",
    "    print()"
   ]
  },
  {
   "cell_type": "code",
   "execution_count": 161,
   "metadata": {
    "id": "2zNvCfnmmrMY"
   },
   "outputs": [],
   "source": []
  }
 ],
 "metadata": {
  "accelerator": "GPU",
  "colab": {
   "collapsed_sections": [],
   "name": "seperated of trainable PE Transformers_(1) (1).ipynb",
   "provenance": []
  },
  "kernelspec": {
   "display_name": "Python 3",
   "language": "python",
   "name": "python3"
  },
  "language_info": {
   "codemirror_mode": {
    "name": "ipython",
    "version": 3
   },
   "file_extension": ".py",
   "mimetype": "text/x-python",
   "name": "python",
   "nbconvert_exporter": "python",
   "pygments_lexer": "ipython3",
   "version": "3.8.5"
  }
 },
 "nbformat": 4,
 "nbformat_minor": 1
}
