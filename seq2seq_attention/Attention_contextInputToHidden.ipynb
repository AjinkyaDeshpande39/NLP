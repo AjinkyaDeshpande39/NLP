{
  "nbformat": 4,
  "nbformat_minor": 0,
  "metadata": {
    "kernelspec": {
      "display_name": "Python 3",
      "language": "python",
      "name": "python3"
    },
    "language_info": {
      "codemirror_mode": {
        "name": "ipython",
        "version": 3
      },
      "file_extension": ".py",
      "mimetype": "text/x-python",
      "name": "python",
      "nbconvert_exporter": "python",
      "pygments_lexer": "ipython3",
      "version": "3.8.5"
    },
    "colab": {
      "name": "Attention_contextInputToHidden.ipynb",
      "provenance": [],
      "collapsed_sections": []
    },
    "accelerator": "GPU"
  },
  "cells": [
    {
      "cell_type": "code",
      "metadata": {
        "id": "9QIvmVS9GDvd"
      },
      "source": [
        "import torch"
      ],
      "execution_count": 1,
      "outputs": []
    },
    {
      "cell_type": "code",
      "metadata": {
        "colab": {
          "base_uri": "https://localhost:8080/"
        },
        "id": "qTPzC3uG6eRZ",
        "outputId": "b9b564db-094a-41e3-d283-f08302e8a54c"
      },
      "source": [
        "!pip install torchtext==0.6.0"
      ],
      "execution_count": 2,
      "outputs": [
        {
          "output_type": "stream",
          "text": [
            "Collecting torchtext==0.6.0\n",
            "\u001b[?25l  Downloading https://files.pythonhosted.org/packages/f2/17/e7c588245aece7aa93f360894179374830daf60d7ed0bbb59332de3b3b61/torchtext-0.6.0-py3-none-any.whl (64kB)\n",
            "\r\u001b[K     |█████                           | 10kB 24.2MB/s eta 0:00:01\r\u001b[K     |██████████▏                     | 20kB 15.6MB/s eta 0:00:01\r\u001b[K     |███████████████▎                | 30kB 11.9MB/s eta 0:00:01\r\u001b[K     |████████████████████▍           | 40kB 11.9MB/s eta 0:00:01\r\u001b[K     |█████████████████████████▌      | 51kB 7.6MB/s eta 0:00:01\r\u001b[K     |██████████████████████████████▋ | 61kB 7.1MB/s eta 0:00:01\r\u001b[K     |████████████████████████████████| 71kB 5.2MB/s \n",
            "\u001b[?25hRequirement already satisfied: numpy in /usr/local/lib/python3.6/dist-packages (from torchtext==0.6.0) (1.19.5)\n",
            "Requirement already satisfied: six in /usr/local/lib/python3.6/dist-packages (from torchtext==0.6.0) (1.15.0)\n",
            "Requirement already satisfied: torch in /usr/local/lib/python3.6/dist-packages (from torchtext==0.6.0) (1.7.0+cu101)\n",
            "Requirement already satisfied: requests in /usr/local/lib/python3.6/dist-packages (from torchtext==0.6.0) (2.23.0)\n",
            "Collecting sentencepiece\n",
            "\u001b[?25l  Downloading https://files.pythonhosted.org/packages/14/67/e42bd1181472c95c8cda79305df848264f2a7f62740995a46945d9797b67/sentencepiece-0.1.95-cp36-cp36m-manylinux2014_x86_64.whl (1.2MB)\n",
            "\u001b[K     |████████████████████████████████| 1.2MB 11.3MB/s \n",
            "\u001b[?25hRequirement already satisfied: tqdm in /usr/local/lib/python3.6/dist-packages (from torchtext==0.6.0) (4.41.1)\n",
            "Requirement already satisfied: future in /usr/local/lib/python3.6/dist-packages (from torch->torchtext==0.6.0) (0.16.0)\n",
            "Requirement already satisfied: dataclasses in /usr/local/lib/python3.6/dist-packages (from torch->torchtext==0.6.0) (0.8)\n",
            "Requirement already satisfied: typing-extensions in /usr/local/lib/python3.6/dist-packages (from torch->torchtext==0.6.0) (3.7.4.3)\n",
            "Requirement already satisfied: chardet<4,>=3.0.2 in /usr/local/lib/python3.6/dist-packages (from requests->torchtext==0.6.0) (3.0.4)\n",
            "Requirement already satisfied: certifi>=2017.4.17 in /usr/local/lib/python3.6/dist-packages (from requests->torchtext==0.6.0) (2020.12.5)\n",
            "Requirement already satisfied: urllib3!=1.25.0,!=1.25.1,<1.26,>=1.21.1 in /usr/local/lib/python3.6/dist-packages (from requests->torchtext==0.6.0) (1.24.3)\n",
            "Requirement already satisfied: idna<3,>=2.5 in /usr/local/lib/python3.6/dist-packages (from requests->torchtext==0.6.0) (2.10)\n",
            "Installing collected packages: sentencepiece, torchtext\n",
            "  Found existing installation: torchtext 0.3.1\n",
            "    Uninstalling torchtext-0.3.1:\n",
            "      Successfully uninstalled torchtext-0.3.1\n",
            "Successfully installed sentencepiece-0.1.95 torchtext-0.6.0\n"
          ],
          "name": "stdout"
        }
      ]
    },
    {
      "cell_type": "code",
      "metadata": {
        "id": "Msro2_mlGDvj"
      },
      "source": [
        "a = torch.ones([10,64,128])\n",
        "b = torch.ones([64,128])\n"
      ],
      "execution_count": null,
      "outputs": []
    },
    {
      "cell_type": "code",
      "metadata": {
        "colab": {
          "base_uri": "https://localhost:8080/"
        },
        "id": "qfFUc5uKGDvj",
        "outputId": "8bbeb457-d8fa-49f6-e134-caf5ee2b565d"
      },
      "source": [
        "a.shape"
      ],
      "execution_count": null,
      "outputs": [
        {
          "output_type": "execute_result",
          "data": {
            "text/plain": [
              "torch.Size([10, 64, 128])"
            ]
          },
          "metadata": {
            "tags": []
          },
          "execution_count": 3
        }
      ]
    },
    {
      "cell_type": "code",
      "metadata": {
        "colab": {
          "base_uri": "https://localhost:8080/"
        },
        "id": "S4Bw3wRTGDvk",
        "outputId": "f3568410-69b1-42df-d491-766846a2d0fc"
      },
      "source": [
        "b.shape"
      ],
      "execution_count": null,
      "outputs": [
        {
          "output_type": "execute_result",
          "data": {
            "text/plain": [
              "torch.Size([64, 128])"
            ]
          },
          "metadata": {
            "tags": []
          },
          "execution_count": 4
        }
      ]
    },
    {
      "cell_type": "code",
      "metadata": {
        "colab": {
          "base_uri": "https://localhost:8080/"
        },
        "id": "soj2ydICGDvl",
        "outputId": "d37e7c15-6edc-4064-e17c-0c66f122cd8f"
      },
      "source": [
        "a = torch.zeros([2,3])\n",
        "b = torch.zeros([2,3])\n",
        "len(torch.nonzero(a))\n",
        "\n"
      ],
      "execution_count": null,
      "outputs": [
        {
          "output_type": "execute_result",
          "data": {
            "text/plain": [
              "0"
            ]
          },
          "metadata": {
            "tags": []
          },
          "execution_count": 81
        }
      ]
    },
    {
      "cell_type": "code",
      "metadata": {
        "id": "Y6tlr_2HGDvl",
        "outputId": "9ea2f20c-fc60-4711-d595-1ef57e9bcaea"
      },
      "source": [
        "c"
      ],
      "execution_count": null,
      "outputs": [
        {
          "output_type": "execute_result",
          "data": {
            "text/plain": [
              "tensor([[1., 1., 1., 1., 1., 0., 0., 0., 0., 0., 0., 0., 0.],\n",
              "        [1., 1., 1., 1., 1., 0., 0., 0., 0., 0., 0., 0., 0.]])"
            ]
          },
          "metadata": {
            "tags": []
          },
          "execution_count": 23
        }
      ]
    },
    {
      "cell_type": "code",
      "metadata": {
        "id": "9_TTJXziGDvl",
        "outputId": "5a94d39d-87dd-4106-d0b3-27c9735c43ed"
      },
      "source": [
        "c.shape"
      ],
      "execution_count": null,
      "outputs": [
        {
          "output_type": "execute_result",
          "data": {
            "text/plain": [
              "torch.Size([10, 64, 128])"
            ]
          },
          "metadata": {
            "tags": []
          },
          "execution_count": 6
        }
      ]
    },
    {
      "cell_type": "code",
      "metadata": {
        "id": "2VFcEkWzGDvm"
      },
      "source": [
        "d = torch.zeros([10,64,1])"
      ],
      "execution_count": null,
      "outputs": []
    },
    {
      "cell_type": "code",
      "metadata": {
        "scrolled": true,
        "id": "9Osr0ax2GDvm",
        "outputId": "466228d7-82f4-4fad-843e-f99802a09716"
      },
      "source": [
        "torch.cat((a,c),dim=-1).shape"
      ],
      "execution_count": null,
      "outputs": [
        {
          "output_type": "execute_result",
          "data": {
            "text/plain": [
              "torch.Size([10, 64, 256])"
            ]
          },
          "metadata": {
            "tags": []
          },
          "execution_count": 8
        }
      ]
    },
    {
      "cell_type": "code",
      "metadata": {
        "id": "SJzXu8cQGDvm"
      },
      "source": [
        "e=a*d"
      ],
      "execution_count": null,
      "outputs": []
    },
    {
      "cell_type": "code",
      "metadata": {
        "scrolled": true,
        "id": "oOkMhh7ZGDvm",
        "outputId": "b2e98db2-b63a-4226-8188-e8668dbecbce"
      },
      "source": [
        "e.shape"
      ],
      "execution_count": null,
      "outputs": [
        {
          "output_type": "execute_result",
          "data": {
            "text/plain": [
              "torch.Size([10, 64, 128])"
            ]
          },
          "metadata": {
            "tags": []
          },
          "execution_count": 10
        }
      ]
    },
    {
      "cell_type": "code",
      "metadata": {
        "id": "4nGAExg-GDvn"
      },
      "source": [
        "import spacy"
      ],
      "execution_count": null,
      "outputs": []
    },
    {
      "cell_type": "code",
      "metadata": {
        "id": "xh3Ppqw6GDvn"
      },
      "source": [
        "from torchtext.datasets import Multi30k\n",
        "from torchtext.data import Field,BucketIterator"
      ],
      "execution_count": null,
      "outputs": []
    },
    {
      "cell_type": "code",
      "metadata": {
        "colab": {
          "base_uri": "https://localhost:8080/"
        },
        "id": "H7M9zYkAGXwe",
        "outputId": "c47532a6-c942-424b-9d9d-ff56f8822c58"
      },
      "source": [
        "!python -m spacy download en\r\n",
        "!python -m spacy download de"
      ],
      "execution_count": null,
      "outputs": [
        {
          "output_type": "stream",
          "text": [
            "Requirement already satisfied: en_core_web_sm==2.2.5 from https://github.com/explosion/spacy-models/releases/download/en_core_web_sm-2.2.5/en_core_web_sm-2.2.5.tar.gz#egg=en_core_web_sm==2.2.5 in /usr/local/lib/python3.6/dist-packages (2.2.5)\n",
            "Requirement already satisfied: spacy>=2.2.2 in /usr/local/lib/python3.6/dist-packages (from en_core_web_sm==2.2.5) (2.2.4)\n",
            "Requirement already satisfied: numpy>=1.15.0 in /usr/local/lib/python3.6/dist-packages (from spacy>=2.2.2->en_core_web_sm==2.2.5) (1.19.5)\n",
            "Requirement already satisfied: srsly<1.1.0,>=1.0.2 in /usr/local/lib/python3.6/dist-packages (from spacy>=2.2.2->en_core_web_sm==2.2.5) (1.0.5)\n",
            "Requirement already satisfied: tqdm<5.0.0,>=4.38.0 in /usr/local/lib/python3.6/dist-packages (from spacy>=2.2.2->en_core_web_sm==2.2.5) (4.41.1)\n",
            "Requirement already satisfied: murmurhash<1.1.0,>=0.28.0 in /usr/local/lib/python3.6/dist-packages (from spacy>=2.2.2->en_core_web_sm==2.2.5) (1.0.5)\n",
            "Requirement already satisfied: wasabi<1.1.0,>=0.4.0 in /usr/local/lib/python3.6/dist-packages (from spacy>=2.2.2->en_core_web_sm==2.2.5) (0.8.2)\n",
            "Requirement already satisfied: requests<3.0.0,>=2.13.0 in /usr/local/lib/python3.6/dist-packages (from spacy>=2.2.2->en_core_web_sm==2.2.5) (2.23.0)\n",
            "Requirement already satisfied: blis<0.5.0,>=0.4.0 in /usr/local/lib/python3.6/dist-packages (from spacy>=2.2.2->en_core_web_sm==2.2.5) (0.4.1)\n",
            "Requirement already satisfied: preshed<3.1.0,>=3.0.2 in /usr/local/lib/python3.6/dist-packages (from spacy>=2.2.2->en_core_web_sm==2.2.5) (3.0.5)\n",
            "Requirement already satisfied: setuptools in /usr/local/lib/python3.6/dist-packages (from spacy>=2.2.2->en_core_web_sm==2.2.5) (53.0.0)\n",
            "Requirement already satisfied: catalogue<1.1.0,>=0.0.7 in /usr/local/lib/python3.6/dist-packages (from spacy>=2.2.2->en_core_web_sm==2.2.5) (1.0.0)\n",
            "Requirement already satisfied: plac<1.2.0,>=0.9.6 in /usr/local/lib/python3.6/dist-packages (from spacy>=2.2.2->en_core_web_sm==2.2.5) (1.1.3)\n",
            "Requirement already satisfied: thinc==7.4.0 in /usr/local/lib/python3.6/dist-packages (from spacy>=2.2.2->en_core_web_sm==2.2.5) (7.4.0)\n",
            "Requirement already satisfied: cymem<2.1.0,>=2.0.2 in /usr/local/lib/python3.6/dist-packages (from spacy>=2.2.2->en_core_web_sm==2.2.5) (2.0.5)\n",
            "Requirement already satisfied: idna<3,>=2.5 in /usr/local/lib/python3.6/dist-packages (from requests<3.0.0,>=2.13.0->spacy>=2.2.2->en_core_web_sm==2.2.5) (2.10)\n",
            "Requirement already satisfied: chardet<4,>=3.0.2 in /usr/local/lib/python3.6/dist-packages (from requests<3.0.0,>=2.13.0->spacy>=2.2.2->en_core_web_sm==2.2.5) (3.0.4)\n",
            "Requirement already satisfied: urllib3!=1.25.0,!=1.25.1,<1.26,>=1.21.1 in /usr/local/lib/python3.6/dist-packages (from requests<3.0.0,>=2.13.0->spacy>=2.2.2->en_core_web_sm==2.2.5) (1.24.3)\n",
            "Requirement already satisfied: certifi>=2017.4.17 in /usr/local/lib/python3.6/dist-packages (from requests<3.0.0,>=2.13.0->spacy>=2.2.2->en_core_web_sm==2.2.5) (2020.12.5)\n",
            "Requirement already satisfied: importlib-metadata>=0.20; python_version < \"3.8\" in /usr/local/lib/python3.6/dist-packages (from catalogue<1.1.0,>=0.0.7->spacy>=2.2.2->en_core_web_sm==2.2.5) (3.4.0)\n",
            "Requirement already satisfied: zipp>=0.5 in /usr/local/lib/python3.6/dist-packages (from importlib-metadata>=0.20; python_version < \"3.8\"->catalogue<1.1.0,>=0.0.7->spacy>=2.2.2->en_core_web_sm==2.2.5) (3.4.0)\n",
            "Requirement already satisfied: typing-extensions>=3.6.4; python_version < \"3.8\" in /usr/local/lib/python3.6/dist-packages (from importlib-metadata>=0.20; python_version < \"3.8\"->catalogue<1.1.0,>=0.0.7->spacy>=2.2.2->en_core_web_sm==2.2.5) (3.7.4.3)\n",
            "\u001b[38;5;2m✔ Download and installation successful\u001b[0m\n",
            "You can now load the model via spacy.load('en_core_web_sm')\n",
            "\u001b[38;5;2m✔ Linking successful\u001b[0m\n",
            "/usr/local/lib/python3.6/dist-packages/en_core_web_sm -->\n",
            "/usr/local/lib/python3.6/dist-packages/spacy/data/en\n",
            "You can now load the model via spacy.load('en')\n",
            "Collecting de_core_news_sm==2.2.5\n",
            "\u001b[?25l  Downloading https://github.com/explosion/spacy-models/releases/download/de_core_news_sm-2.2.5/de_core_news_sm-2.2.5.tar.gz (14.9MB)\n",
            "\u001b[K     |████████████████████████████████| 14.9MB 12.4MB/s \n",
            "\u001b[?25hRequirement already satisfied: spacy>=2.2.2 in /usr/local/lib/python3.6/dist-packages (from de_core_news_sm==2.2.5) (2.2.4)\n",
            "Requirement already satisfied: tqdm<5.0.0,>=4.38.0 in /usr/local/lib/python3.6/dist-packages (from spacy>=2.2.2->de_core_news_sm==2.2.5) (4.41.1)\n",
            "Requirement already satisfied: setuptools in /usr/local/lib/python3.6/dist-packages (from spacy>=2.2.2->de_core_news_sm==2.2.5) (53.0.0)\n",
            "Requirement already satisfied: preshed<3.1.0,>=3.0.2 in /usr/local/lib/python3.6/dist-packages (from spacy>=2.2.2->de_core_news_sm==2.2.5) (3.0.5)\n",
            "Requirement already satisfied: srsly<1.1.0,>=1.0.2 in /usr/local/lib/python3.6/dist-packages (from spacy>=2.2.2->de_core_news_sm==2.2.5) (1.0.5)\n",
            "Requirement already satisfied: numpy>=1.15.0 in /usr/local/lib/python3.6/dist-packages (from spacy>=2.2.2->de_core_news_sm==2.2.5) (1.19.5)\n",
            "Requirement already satisfied: thinc==7.4.0 in /usr/local/lib/python3.6/dist-packages (from spacy>=2.2.2->de_core_news_sm==2.2.5) (7.4.0)\n",
            "Requirement already satisfied: wasabi<1.1.0,>=0.4.0 in /usr/local/lib/python3.6/dist-packages (from spacy>=2.2.2->de_core_news_sm==2.2.5) (0.8.2)\n",
            "Requirement already satisfied: blis<0.5.0,>=0.4.0 in /usr/local/lib/python3.6/dist-packages (from spacy>=2.2.2->de_core_news_sm==2.2.5) (0.4.1)\n",
            "Requirement already satisfied: catalogue<1.1.0,>=0.0.7 in /usr/local/lib/python3.6/dist-packages (from spacy>=2.2.2->de_core_news_sm==2.2.5) (1.0.0)\n",
            "Requirement already satisfied: murmurhash<1.1.0,>=0.28.0 in /usr/local/lib/python3.6/dist-packages (from spacy>=2.2.2->de_core_news_sm==2.2.5) (1.0.5)\n",
            "Requirement already satisfied: cymem<2.1.0,>=2.0.2 in /usr/local/lib/python3.6/dist-packages (from spacy>=2.2.2->de_core_news_sm==2.2.5) (2.0.5)\n",
            "Requirement already satisfied: plac<1.2.0,>=0.9.6 in /usr/local/lib/python3.6/dist-packages (from spacy>=2.2.2->de_core_news_sm==2.2.5) (1.1.3)\n",
            "Requirement already satisfied: requests<3.0.0,>=2.13.0 in /usr/local/lib/python3.6/dist-packages (from spacy>=2.2.2->de_core_news_sm==2.2.5) (2.23.0)\n",
            "Requirement already satisfied: importlib-metadata>=0.20; python_version < \"3.8\" in /usr/local/lib/python3.6/dist-packages (from catalogue<1.1.0,>=0.0.7->spacy>=2.2.2->de_core_news_sm==2.2.5) (3.4.0)\n",
            "Requirement already satisfied: certifi>=2017.4.17 in /usr/local/lib/python3.6/dist-packages (from requests<3.0.0,>=2.13.0->spacy>=2.2.2->de_core_news_sm==2.2.5) (2020.12.5)\n",
            "Requirement already satisfied: chardet<4,>=3.0.2 in /usr/local/lib/python3.6/dist-packages (from requests<3.0.0,>=2.13.0->spacy>=2.2.2->de_core_news_sm==2.2.5) (3.0.4)\n",
            "Requirement already satisfied: urllib3!=1.25.0,!=1.25.1,<1.26,>=1.21.1 in /usr/local/lib/python3.6/dist-packages (from requests<3.0.0,>=2.13.0->spacy>=2.2.2->de_core_news_sm==2.2.5) (1.24.3)\n",
            "Requirement already satisfied: idna<3,>=2.5 in /usr/local/lib/python3.6/dist-packages (from requests<3.0.0,>=2.13.0->spacy>=2.2.2->de_core_news_sm==2.2.5) (2.10)\n",
            "Requirement already satisfied: zipp>=0.5 in /usr/local/lib/python3.6/dist-packages (from importlib-metadata>=0.20; python_version < \"3.8\"->catalogue<1.1.0,>=0.0.7->spacy>=2.2.2->de_core_news_sm==2.2.5) (3.4.0)\n",
            "Requirement already satisfied: typing-extensions>=3.6.4; python_version < \"3.8\" in /usr/local/lib/python3.6/dist-packages (from importlib-metadata>=0.20; python_version < \"3.8\"->catalogue<1.1.0,>=0.0.7->spacy>=2.2.2->de_core_news_sm==2.2.5) (3.7.4.3)\n",
            "Building wheels for collected packages: de-core-news-sm\n",
            "  Building wheel for de-core-news-sm (setup.py) ... \u001b[?25l\u001b[?25hdone\n",
            "  Created wheel for de-core-news-sm: filename=de_core_news_sm-2.2.5-cp36-none-any.whl size=14907057 sha256=31f23ab007949a7ad98217b6ac697f9b7327dbf0e026fea9c16e3db6cfa6990d\n",
            "  Stored in directory: /tmp/pip-ephem-wheel-cache-9oymjsjt/wheels/ba/3f/ed/d4aa8e45e7191b7f32db4bfad565e7da1edbf05c916ca7a1ca\n",
            "Successfully built de-core-news-sm\n",
            "Installing collected packages: de-core-news-sm\n",
            "Successfully installed de-core-news-sm-2.2.5\n",
            "\u001b[38;5;2m✔ Download and installation successful\u001b[0m\n",
            "You can now load the model via spacy.load('de_core_news_sm')\n",
            "\u001b[38;5;2m✔ Linking successful\u001b[0m\n",
            "/usr/local/lib/python3.6/dist-packages/de_core_news_sm -->\n",
            "/usr/local/lib/python3.6/dist-packages/spacy/data/de\n",
            "You can now load the model via spacy.load('de')\n"
          ],
          "name": "stdout"
        }
      ]
    },
    {
      "cell_type": "code",
      "metadata": {
        "id": "C3GooBEeGDvn"
      },
      "source": [
        "spacy_eng = spacy.load('en')\n",
        "spacy_ger = spacy.load('de')"
      ],
      "execution_count": null,
      "outputs": []
    },
    {
      "cell_type": "code",
      "metadata": {
        "id": "lqtgGryTGDvn"
      },
      "source": [
        "def tokenize_eng(text):\n",
        "    return([tok.text for tok in spacy_eng.tokenizer(text)])"
      ],
      "execution_count": null,
      "outputs": []
    },
    {
      "cell_type": "code",
      "metadata": {
        "id": "McBY3kmoGDvn"
      },
      "source": [
        "def tokenize_ger(text):\n",
        "    return([tok.text for tok in spacy_ger.tokenizer(text)])"
      ],
      "execution_count": null,
      "outputs": []
    },
    {
      "cell_type": "code",
      "metadata": {
        "id": "WfjGQ5KnGDvo"
      },
      "source": [
        "english = Field(sequential=True, use_vocab=True, tokenize=tokenize_eng, lower=True,init_token='<sos>',eos_token='<eos>')\n",
        "german = Field(sequential=True, use_vocab=True, tokenize=tokenize_ger, lower=True,init_token='<sos>',eos_token='<eos>')"
      ],
      "execution_count": null,
      "outputs": []
    },
    {
      "cell_type": "code",
      "metadata": {
        "colab": {
          "base_uri": "https://localhost:8080/"
        },
        "id": "XuDwkSRIGDvo",
        "outputId": "9c3af964-2abd-4c8a-b5ec-2d7277dc6f0a"
      },
      "source": [
        "train_data, validation_data, test_data = Multi30k.splits(exts=('.de','.en'),fields=(german,english))"
      ],
      "execution_count": null,
      "outputs": [
        {
          "output_type": "stream",
          "text": [
            "downloading training.tar.gz\n"
          ],
          "name": "stdout"
        },
        {
          "output_type": "stream",
          "text": [
            "training.tar.gz: 100%|██████████| 1.21M/1.21M [00:01<00:00, 1.11MB/s]\n"
          ],
          "name": "stderr"
        },
        {
          "output_type": "stream",
          "text": [
            "downloading validation.tar.gz\n"
          ],
          "name": "stdout"
        },
        {
          "output_type": "stream",
          "text": [
            "validation.tar.gz: 100%|██████████| 46.3k/46.3k [00:00<00:00, 276kB/s]\n"
          ],
          "name": "stderr"
        },
        {
          "output_type": "stream",
          "text": [
            "downloading mmt_task1_test2016.tar.gz\n"
          ],
          "name": "stdout"
        },
        {
          "output_type": "stream",
          "text": [
            "mmt_task1_test2016.tar.gz: 100%|██████████| 66.2k/66.2k [00:00<00:00, 267kB/s]\n"
          ],
          "name": "stderr"
        }
      ]
    },
    {
      "cell_type": "code",
      "metadata": {
        "id": "w39dp5zpGDvo"
      },
      "source": [
        "english.build_vocab(train_data,max_size=10000,min_freq=2)\n",
        "german.build_vocab(train_data,max_size=10000,min_freq=2)"
      ],
      "execution_count": null,
      "outputs": []
    },
    {
      "cell_type": "code",
      "metadata": {
        "colab": {
          "base_uri": "https://localhost:8080/"
        },
        "id": "uhPnpe9SGDvo",
        "outputId": "cb8444fb-9908-491c-a8bf-57c421cdd26c"
      },
      "source": [
        "english.vocab.stoi['<eos>']"
      ],
      "execution_count": null,
      "outputs": [
        {
          "output_type": "execute_result",
          "data": {
            "text/plain": [
              "3"
            ]
          },
          "metadata": {
            "tags": []
          },
          "execution_count": 11
        }
      ]
    },
    {
      "cell_type": "code",
      "metadata": {
        "colab": {
          "base_uri": "https://localhost:8080/",
          "height": 35
        },
        "id": "lwPrlB5bGDvp",
        "outputId": "b9824229-d55b-4882-bc9f-ad5f2365cbb6"
      },
      "source": [
        "english.vocab.itos[5]"
      ],
      "execution_count": null,
      "outputs": [
        {
          "output_type": "execute_result",
          "data": {
            "application/vnd.google.colaboratory.intrinsic+json": {
              "type": "string"
            },
            "text/plain": [
              "'.'"
            ]
          },
          "metadata": {
            "tags": []
          },
          "execution_count": 12
        }
      ]
    },
    {
      "cell_type": "code",
      "metadata": {
        "colab": {
          "base_uri": "https://localhost:8080/"
        },
        "id": "fUv5GBx0GDvp",
        "outputId": "24feaf85-2b33-4bf3-bd18-df47b12a168b"
      },
      "source": [
        "print(len(english.vocab))\n",
        "print(len(german.vocab))"
      ],
      "execution_count": null,
      "outputs": [
        {
          "output_type": "stream",
          "text": [
            "5893\n",
            "7855\n"
          ],
          "name": "stdout"
        }
      ]
    },
    {
      "cell_type": "code",
      "metadata": {
        "id": "oJL6Rwk7GDvp"
      },
      "source": [
        "import torch\n",
        "import torch.nn as nn\n",
        "import torch.nn.functional as f\n",
        "import torch.optim as optim\n",
        "import numpy as np\n",
        "import matplotlib.pyplot as plt\n",
        "import time"
      ],
      "execution_count": null,
      "outputs": []
    },
    {
      "cell_type": "code",
      "metadata": {
        "id": "QLoRlYaCGDvp"
      },
      "source": [
        "class Encoder(nn.Module):\n",
        "    def __init__(self,vocab_size,embedding,hidden_size,num_layers):\n",
        "        super(Encoder,self).__init__()\n",
        "        self.embedding_size = embedding\n",
        "        self.hidden_size = hidden_size\n",
        "        self.num_layers = num_layers\n",
        "        self.vocab_size = vocab_size\n",
        "        self.embedding = nn.Embedding(vocab_size,embedding)\n",
        "        self.lstm = nn.LSTM(embedding,hidden_size,num_layers=num_layers)\n",
        "        \n",
        "    def forward(self,x,hidden,cell):\n",
        "                                                     # x : seqlen, batch\n",
        "        x = self.embedding(x)                   # x : seqlen, batch, embedding   # input lstm : seqlen, batch, input_size\n",
        "        x,(hidden,cell) = self.lstm(x,(hidden,cell))     # outputlstm : seq_len, batch, num_directions * hidden_size\n",
        "        return(x,(hidden,cell))\n",
        "        \n",
        "    def initHidden(self,batch_size):\n",
        "        return(torch.zeros([self.num_layers,batch_size,self.hidden_size]))  #hidden : num_layers * num_directions, batch, hidden_size"
      ],
      "execution_count": null,
      "outputs": []
    },
    {
      "cell_type": "code",
      "metadata": {
        "id": "8cMoDfK0GDvq"
      },
      "source": [
        "class Decoder(nn.Module):\n",
        "    def __init__(self,vocab_size,embedding,hidden_size,num_layers):\n",
        "        super(Decoder,self).__init__()\n",
        "        self.vocab_size = vocab_size\n",
        "        self.embedding_size = embedding\n",
        "        self.hidden_size = hidden_size\n",
        "        self.num_layers = num_layers\n",
        "        self.embedding = nn.Embedding(vocab_size,embedding)\n",
        "        self.lstm = nn.LSTM(embedding,hidden_size,num_layers=num_layers)\n",
        "        self.fc = nn.Linear(self.hidden_size+self.embedding_size,self.embedding_size)\n",
        "        \n",
        "    def forward(self,x,c,hidden,cell):\n",
        "        batch_size = x.shape[0]\n",
        "        x = self.embedding(x)\n",
        "        if(len(torch.nonzero(c)!=0)):\n",
        "            x = torch.cat((x,c.view(batch_size,-1)),dim=-1)\n",
        "            x = self.fc(x)\n",
        "        x = x.view(1,batch_size,self.embedding_size)\n",
        "        x,(hidden,cell) = self.lstm(x,(hidden,cell))\n",
        "        return(x,(hidden,cell))\n",
        "        \n",
        "    def initHidden(self,batch_size):\n",
        "        return(torch.zeros([self.num_layers,batch_size,self.hidden_size]))"
      ],
      "execution_count": null,
      "outputs": []
    },
    {
      "cell_type": "code",
      "metadata": {
        "id": "YtG9bWljGDvq"
      },
      "source": [
        "class Translate(nn.Module):\n",
        "    def __init__(self,encoder,decoder,hidden_size,output_size):\n",
        "        super(Translate,self).__init__()\n",
        "        self.encoder = encoder\n",
        "        self.decoder = decoder\n",
        "        self.hidden_size = hidden_size\n",
        "        self.output_size = output_size\n",
        "        self.softmax = nn.Softmax(dim=0)\n",
        "        self.dropout = nn.Dropout(0.25)\n",
        "        self.fc = nn.Linear(2*hidden_size,output_size)\n",
        "        self.tanh = nn.Tanh()\n",
        "        self.relu = nn.ReLU()\n",
        "        \n",
        "    \n",
        "    def forward(self,source,target):\n",
        "        batch_size = source.shape[-1]\n",
        "        hidden = self.encoder.initHidden(batch_size).to(device)\n",
        "        cell = self.encoder.initHidden(batch_size).to(device)\n",
        "        enc_hidden,(hidden,cell) = self.encoder(source,hidden,cell)   # # outputlstm : enc_seq_len, batch, hidden_size  \n",
        "        \n",
        "        dec_seq_len = target.shape[0]-1\n",
        "        enc_seq_len = source.shape[0]\n",
        "        out = torch.zeros([dec_seq_len,batch_size,self.output_size]).to(device)\n",
        "\n",
        "        #hidden = hidden.view(num_layers,batch_size,-1)\n",
        "        #cell = cell.view(num_layers,batch_size,-1)\n",
        "        c = torch.zeros([batch_size,self.hidden_size]).to(device)\n",
        "        #Attention procedure. dot product based\n",
        "        for i in range(dec_seq_len):\n",
        "    \n",
        "            dec_hidden,(hidden,cell) = self.decoder(target[i,:],c,hidden,cell) \n",
        "            h = dec_hidden[0]              # batch, hidden\n",
        "            a = torch.sum(torch.mul(enc_hidden,h),axis=-1)  #a = enc_seq_len, batch\n",
        "\n",
        "            a = self.softmax(a)\n",
        "            c = torch.sum(torch.mul(enc_hidden,a.view(enc_seq_len,batch_size,1)),axis=0)   #c = batch, hidden\n",
        "            c = self.tanh(c)\n",
        "\n",
        "            o = self.fc(torch.cat((c,h),dim=-1))\n",
        "            out[i,:,:] = o\n",
        "        \n",
        "        return(out)"
      ],
      "execution_count": null,
      "outputs": []
    },
    {
      "cell_type": "code",
      "metadata": {
        "id": "sU8qW_nMGDvr"
      },
      "source": [
        "english_vocab_size = len(english.vocab)\n",
        "german_vocab_size = len(german.vocab)\n",
        "embedding = 80\n",
        "output_size = english_vocab_size\n",
        "hidden_size = 256\n",
        "num_layers = 2\n",
        "batch_size = 128\n",
        "learning_rate = 0.01\n",
        "epochs = 6\n",
        "device='cuda'"
      ],
      "execution_count": null,
      "outputs": []
    },
    {
      "cell_type": "code",
      "metadata": {
        "id": "mbXqSpLaGDvr"
      },
      "source": [
        "train_iterator, validation_iterator, test_iterator = BucketIterator.splits((train_data,validation_data,test_data),\n",
        "                                                                          batch_size=batch_size,device=device)"
      ],
      "execution_count": null,
      "outputs": []
    },
    {
      "cell_type": "code",
      "metadata": {
        "id": "aSxe0zikGDvr"
      },
      "source": [
        "encoder = Encoder(german_vocab_size,embedding,hidden_size,num_layers)\n",
        "decoder = Decoder(english_vocab_size,embedding,hidden_size,num_layers)\n",
        "model = Translate(encoder,decoder,hidden_size,output_size).to(device)\n",
        "optimizer = optim.Adam(model.parameters(),lr=learning_rate)\n",
        "criterion = nn.CrossEntropyLoss()"
      ],
      "execution_count": null,
      "outputs": []
    },
    {
      "cell_type": "code",
      "metadata": {
        "colab": {
          "base_uri": "https://localhost:8080/"
        },
        "id": "LSR_CYk-GDvr",
        "outputId": "2f824b4c-4256-4274-9b50-05aacf8b435e"
      },
      "source": [
        "def count_parameters(model):\n",
        "    return sum(p.numel() for p in model.parameters() if p.requires_grad)\n",
        "\n",
        "print(f'The model has {count_parameters(model):,} trainable parameters')"
      ],
      "execution_count": null,
      "outputs": [
        {
          "output_type": "stream",
          "text": [
            "The model has 5,894,805 trainable parameters\n"
          ],
          "name": "stdout"
        }
      ]
    },
    {
      "cell_type": "code",
      "metadata": {
        "scrolled": true,
        "colab": {
          "base_uri": "https://localhost:8080/",
          "height": 387
        },
        "id": "d94t3WKiGDvs",
        "outputId": "d9ce3d85-df6f-4f89-c540-b71fa91695c2"
      },
      "source": [
        "loss_lst = []\n",
        "for epoch in range(epochs):\n",
        "    epoch_loss = []\n",
        "    t1 = time.time()\n",
        "    for batch in train_iterator:\n",
        "        t11 = time.time()\n",
        "        batch_loss = []\n",
        "        source = batch.src\n",
        "        target = batch.trg   #target = encseq_len, batch\n",
        "        #print(target.shape)\n",
        "        batch_size = source.shape[-1]\n",
        "        out = model(source,target)   # out = dec_seq_len, batch, output_size    \n",
        "        #print(out.shape)\n",
        "        #print(target.shape)    \n",
        "        model.zero_grad()\n",
        "        optimizer.zero_grad()\n",
        "            \n",
        "        out = out.view(-1,output_size)\n",
        "        target = target[1:,:].view(-1)\n",
        "        #print(out.shape)\n",
        "        #print(target.shape)  \n",
        "        loss = criterion(out,target)\n",
        "        batch_loss.append(loss.item())\n",
        "            \n",
        "        loss.backward()\n",
        "        optimizer.step()\n",
        "        epoch_loss += batch_loss\n",
        "        t22 = time.time()\n",
        "        #print(\"batch loss : {}  ||  time : {}\".format(np.mean(batch_loss),t22-t11))\n",
        "        print(\".\",end=\"\")\n",
        "    loss_lst += epoch_loss\n",
        "    t2 = time.time()\n",
        "    print()\n",
        "    print(\"mean epoch loss : {}  ||  time : {}\".format(np.mean(epoch_loss),t2-t1))"
      ],
      "execution_count": null,
      "outputs": [
        {
          "output_type": "stream",
          "text": [
            "........................."
          ],
          "name": "stdout"
        },
        {
          "output_type": "error",
          "ename": "KeyboardInterrupt",
          "evalue": "ignored",
          "traceback": [
            "\u001b[0;31m---------------------------------------------------------------------------\u001b[0m",
            "\u001b[0;31mKeyboardInterrupt\u001b[0m                         Traceback (most recent call last)",
            "\u001b[0;32m<ipython-input-404-66f91bd80de7>\u001b[0m in \u001b[0;36m<module>\u001b[0;34m()\u001b[0m\n\u001b[1;32m     23\u001b[0m         \u001b[0mbatch_loss\u001b[0m\u001b[0;34m.\u001b[0m\u001b[0mappend\u001b[0m\u001b[0;34m(\u001b[0m\u001b[0mloss\u001b[0m\u001b[0;34m.\u001b[0m\u001b[0mitem\u001b[0m\u001b[0;34m(\u001b[0m\u001b[0;34m)\u001b[0m\u001b[0;34m)\u001b[0m\u001b[0;34m\u001b[0m\u001b[0;34m\u001b[0m\u001b[0m\n\u001b[1;32m     24\u001b[0m \u001b[0;34m\u001b[0m\u001b[0m\n\u001b[0;32m---> 25\u001b[0;31m         \u001b[0mloss\u001b[0m\u001b[0;34m.\u001b[0m\u001b[0mbackward\u001b[0m\u001b[0;34m(\u001b[0m\u001b[0;34m)\u001b[0m\u001b[0;34m\u001b[0m\u001b[0;34m\u001b[0m\u001b[0m\n\u001b[0m\u001b[1;32m     26\u001b[0m         \u001b[0moptimizer\u001b[0m\u001b[0;34m.\u001b[0m\u001b[0mstep\u001b[0m\u001b[0;34m(\u001b[0m\u001b[0;34m)\u001b[0m\u001b[0;34m\u001b[0m\u001b[0;34m\u001b[0m\u001b[0m\n\u001b[1;32m     27\u001b[0m         \u001b[0mepoch_loss\u001b[0m \u001b[0;34m+=\u001b[0m \u001b[0mbatch_loss\u001b[0m\u001b[0;34m\u001b[0m\u001b[0;34m\u001b[0m\u001b[0m\n",
            "\u001b[0;32m/usr/local/lib/python3.6/dist-packages/torch/tensor.py\u001b[0m in \u001b[0;36mbackward\u001b[0;34m(self, gradient, retain_graph, create_graph)\u001b[0m\n\u001b[1;32m    219\u001b[0m                 \u001b[0mretain_graph\u001b[0m\u001b[0;34m=\u001b[0m\u001b[0mretain_graph\u001b[0m\u001b[0;34m,\u001b[0m\u001b[0;34m\u001b[0m\u001b[0;34m\u001b[0m\u001b[0m\n\u001b[1;32m    220\u001b[0m                 create_graph=create_graph)\n\u001b[0;32m--> 221\u001b[0;31m         \u001b[0mtorch\u001b[0m\u001b[0;34m.\u001b[0m\u001b[0mautograd\u001b[0m\u001b[0;34m.\u001b[0m\u001b[0mbackward\u001b[0m\u001b[0;34m(\u001b[0m\u001b[0mself\u001b[0m\u001b[0;34m,\u001b[0m \u001b[0mgradient\u001b[0m\u001b[0;34m,\u001b[0m \u001b[0mretain_graph\u001b[0m\u001b[0;34m,\u001b[0m \u001b[0mcreate_graph\u001b[0m\u001b[0;34m)\u001b[0m\u001b[0;34m\u001b[0m\u001b[0;34m\u001b[0m\u001b[0m\n\u001b[0m\u001b[1;32m    222\u001b[0m \u001b[0;34m\u001b[0m\u001b[0m\n\u001b[1;32m    223\u001b[0m     \u001b[0;32mdef\u001b[0m \u001b[0mregister_hook\u001b[0m\u001b[0;34m(\u001b[0m\u001b[0mself\u001b[0m\u001b[0;34m,\u001b[0m \u001b[0mhook\u001b[0m\u001b[0;34m)\u001b[0m\u001b[0;34m:\u001b[0m\u001b[0;34m\u001b[0m\u001b[0;34m\u001b[0m\u001b[0m\n",
            "\u001b[0;32m/usr/local/lib/python3.6/dist-packages/torch/autograd/__init__.py\u001b[0m in \u001b[0;36mbackward\u001b[0;34m(tensors, grad_tensors, retain_graph, create_graph, grad_variables)\u001b[0m\n\u001b[1;32m    130\u001b[0m     Variable._execution_engine.run_backward(\n\u001b[1;32m    131\u001b[0m         \u001b[0mtensors\u001b[0m\u001b[0;34m,\u001b[0m \u001b[0mgrad_tensors_\u001b[0m\u001b[0;34m,\u001b[0m \u001b[0mretain_graph\u001b[0m\u001b[0;34m,\u001b[0m \u001b[0mcreate_graph\u001b[0m\u001b[0;34m,\u001b[0m\u001b[0;34m\u001b[0m\u001b[0;34m\u001b[0m\u001b[0m\n\u001b[0;32m--> 132\u001b[0;31m         allow_unreachable=True)  # allow_unreachable flag\n\u001b[0m\u001b[1;32m    133\u001b[0m \u001b[0;34m\u001b[0m\u001b[0m\n\u001b[1;32m    134\u001b[0m \u001b[0;34m\u001b[0m\u001b[0m\n",
            "\u001b[0;31mKeyboardInterrupt\u001b[0m: "
          ]
        }
      ]
    },
    {
      "cell_type": "code",
      "metadata": {
        "colab": {
          "base_uri": "https://localhost:8080/",
          "height": 284
        },
        "id": "gDf53BwNGDvs",
        "outputId": "ba548875-d69c-4a4e-bab4-99cb08ec80fc"
      },
      "source": [
        "plt.plot(loss_lst)"
      ],
      "execution_count": null,
      "outputs": [
        {
          "output_type": "execute_result",
          "data": {
            "text/plain": [
              "[<matplotlib.lines.Line2D at 0x7f88ae3e4128>]"
            ]
          },
          "metadata": {
            "tags": []
          },
          "execution_count": 394
        },
        {
          "output_type": "display_data",
          "data": {
            "image/png": "[encoded data removed]",
            "text/plain": [
              "<Figure size 432x288 with 1 Axes>"
            ]
          },
          "metadata": {
            "tags": [],
            "needs_background": "light"
          }
        }
      ]
    },
    {
      "cell_type": "code",
      "metadata": {
        "id": "y3mJnV9eGDvt"
      },
      "source": [
        "torch.save(model.state_dict(),'Attention_contextToHidden_bidirectional.pth') "
      ],
      "execution_count": null,
      "outputs": []
    },
    {
      "cell_type": "code",
      "metadata": {
        "id": "UFtrwSwXGDvt"
      },
      "source": [
        ""
      ],
      "execution_count": null,
      "outputs": []
    },
    {
      "cell_type": "code",
      "metadata": {
        "colab": {
          "base_uri": "https://localhost:8080/"
        },
        "id": "lK2LpHA0GDvt",
        "outputId": "9fd462de-510d-4c33-ee3e-37fa5a04ef5d"
      },
      "source": [
        "#sentence = 'ich habe kein interesse am spielen .' # 'i dont have intrest in playing'\n",
        "#sentence = 'ich bin heute glücklich .'  # 'i am happy today'\n",
        "sentence = 'eine frau mochte dieses gebäude .' # 'a woman liked that building'\n",
        "#sentence = 'eines tages werde ich reich sein .'  # 'one day i will be rich'\n",
        "#sentence = 'ein mann lehnt sich in der nähe einer belebten straße an ein gebäude .'  # 'a man leans against a building near a busy street .'\n",
        "#sentence = 'wer bin ich .'   # 'who am i'\n",
        "#sentence = 'ein läufer <unk> sich für ein rennen aus dem <unk> .'  #runner leaving the starting blocks of a race .\n",
        "sentence = sentence.split()\n",
        "inputs = torch.zeros([len(sentence)+2],dtype=torch.long)\n",
        "inputs[0] = 2\n",
        "inputs[-1]  = 3\n",
        "#a[1] = 1180\n",
        "for i in range(0,len(sentence)):\n",
        "    inputs[i+1] = german.vocab.stoi[sentence[i]]\n",
        "    \n",
        "print(inputs)\n",
        "print(sentence)"
      ],
      "execution_count": null,
      "outputs": [
        {
          "output_type": "stream",
          "text": [
            "tensor([  2,   8,  16,   0, 948, 104,   4,   3])\n",
            "['eine', 'frau', 'mochte', 'dieses', 'gebäude', '.']\n"
          ],
          "name": "stdout"
        }
      ]
    },
    {
      "cell_type": "code",
      "metadata": {
        "scrolled": true,
        "colab": {
          "base_uri": "https://localhost:8080/"
        },
        "id": "oAIzo0JYGDvt",
        "outputId": "1613db93-c5cf-4414-f7d6-f6f102539990"
      },
      "source": [
        "translation = ''\n",
        "\n",
        "word = '<sos>'\n",
        "word_index = 2\n",
        "enc_seq_len = inputs.shape[0]\n",
        "dec_seq_len = 1\n",
        "batch_size = 1\n",
        "hidden = encoder.initHidden(1)\n",
        "cell = encoder.initHidden(1)\n",
        "enc_hidden,(hidden,cell) = encoder(inputs.view(-1,1).to(device),hidden.to(device),cell.to(device))\n",
        "hidden = torch.cat((hidden[:encoder.num_layers],hidden[encoder.num_layers:]),dim=-1)\n",
        "cell = torch.cat((cell[:encoder.num_layers],cell[encoder.num_layers:]),dim=-1)\n",
        "c = torch.zeros([1,2*hidden_size]).to(device)\n",
        "\n",
        "while(word!='<eos>'):\n",
        "    dec_hidden,(hidden,cell) = decoder(torch.tensor([word_index]).to(device),c,hidden,cell)\n",
        "    h = dec_hidden[0]              # batch, hidden\n",
        "    a = torch.sum(torch.mul(enc_hidden,h),axis=-1)\n",
        "    a = model.softmax(a)\n",
        "    c = torch.sum(torch.mul(enc_hidden,a.view(enc_seq_len,batch_size,1)),axis=0)\n",
        "    c = model.tanh(c)\n",
        "    o = model.fc(torch.cat((c.view(1,-1),h),dim=-1))\n",
        "    word_index = torch.argmax(o).item()\n",
        "    \n",
        "    word = english.vocab.itos[word_index]\n",
        "    if(word!='<eos>'):\n",
        "        translation = translation + \" \" + word\n",
        "print(translation)"
      ],
      "execution_count": null,
      "outputs": [
        {
          "output_type": "stream",
          "text": [
            " a woman is walking briskly to the building .\n"
          ],
          "name": "stdout"
        }
      ]
    },
    {
      "cell_type": "code",
      "metadata": {
        "id": "SomZAe7HGDvu",
        "outputId": "9d6a8498-5c1e-4782-c137-2a8995c0cc64"
      },
      "source": [
        ""
      ],
      "execution_count": null,
      "outputs": [
        {
          "output_type": "execute_result",
          "data": {
            "text/plain": [
              "'gather gather gather gather gather gather gather gather gather gather gather gather gather gather gather gather gather gather gather gather gather gather gather gather gather gather gather gather gather gather gather gather gather gather gather gather gather gather gather gather gather gather gather gather gather gather gather gather gather gather gather gather gather gather gather gather gather gather gather gather gather gather gather gather gather gather gather gather gather gather gather gather gather gather gather gather gather gather gather gather gather gather gather gather gather gather gather gather gather gather gather gather gather gather gather gather gather gather gather gather gather gather gather gather gather gather gather gather gather gather gather gather gather gather gather gather gather gather gather gather gather gather gather gather gather gather gather gather gather gather gather gather gather gather gather gather gather gather gather gather gather gather gather gather gather gather gather gather gather gather gather gather gather gather gather gather gather gather gather gather gather gather gather gather gather gather gather gather gather gather gather gather gather gather gather gather gather gather gather gather gather gather gather gather gather gather gather gather gather gather gather gather gather gather gather gather gather gather gather gather gather gather gather gather gather gather gather gather gather gather gather gather gather gather gather gather gather gather gather gather gather gather gather gather gather gather gather gather gather gather gather gather gather gather gather gather gather gather gather gather gather gather gather gather gather gather gather gather gather gather gather gather gather gather gather gather gather gather gather gather gather gather gather gather gather gather gather gather gather gather gather gather gather gather gather gather gather gather gather gather gather gather gather gather gather gather gather gather gather gather gather gather gather gather gather gather gather gather gather gather gather gather gather gather gather gather gather gather gather gather gather gather gather gather gather gather gather gather gather gather gather gather gather gather gather gather gather gather gather gather gather gather gather gather gather gather gather gather gather gather gather gather gather gather gather gather gather gather gather gather gather gather gather gather gather gather gather gather gather gather gather gather gather gather gather gather gather gather gather gather gather gather gather gather gather gather gather gather gather gather gather gather gather gather gather gather gather gather gather gather gather gather gather gather gather gather gather gather gather gather gather gather gather gather gather gather gather gather gather gather gather gather gather gather gather gather gather gather gather gather gather gather gather gather gather gather gather gather gather gather gather gather gather gather gather gather gather gather gather gather gather gather gather gather gather gather gather gather gather gather gather gather gather gather gather gather gather gather gather gather gather gather gather gather gather gather gather gather gather gather gather gather gather gather gather gather gather gather gather gather gather gather gather gather gather gather gather gather gather gather gather gather gather gather gather gather gather gather gather gather gather gather gather gather gather gather gather gather gather gather gather gather gather gather gather gather gather gather gather gather gather gather gather gather gather gather gather gather gather gather gather gather gather gather gather gather gather gather gather gather gather gather gather gather gather gather gather gather '"
            ]
          },
          "metadata": {
            "tags": []
          },
          "execution_count": 116
        }
      ]
    },
    {
      "cell_type": "code",
      "metadata": {
        "id": "L2xWPdG2GDvu",
        "outputId": "ec2f3f6f-3741-43a3-8da7-6b55f2998cf2"
      },
      "source": [
        "torch.tensor([2,3]).view(2,1).shape"
      ],
      "execution_count": null,
      "outputs": [
        {
          "output_type": "execute_result",
          "data": {
            "text/plain": [
              "torch.Size([2, 1])"
            ]
          },
          "metadata": {
            "tags": []
          },
          "execution_count": 107
        }
      ]
    },
    {
      "cell_type": "code",
      "metadata": {
        "id": "nMFAJNEJGDvv"
      },
      "source": [
        ""
      ],
      "execution_count": null,
      "outputs": []
    }
  ]
}