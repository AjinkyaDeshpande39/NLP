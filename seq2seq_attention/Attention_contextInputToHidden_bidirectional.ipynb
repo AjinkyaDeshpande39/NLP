{
 "cells": [
  {
   "cell_type": "markdown",
   "metadata": {},
   "source": [
    "# Seq2seq with attention "
   ]
  },
  {
   "cell_type": "markdown",
   "metadata": {},
   "source": [
    "### Loading libraries and dataset "
   ]
  },
  {
   "cell_type": "code",
   "execution_count": 1,
   "metadata": {
    "id": "9QIvmVS9GDvd"
   },
   "outputs": [],
   "source": [
    "import torch"
   ]
  },
  {
   "cell_type": "code",
   "execution_count": 508,
   "metadata": {
    "colab": {
     "base_uri": "https://localhost:8080/"
    },
    "id": "qTPzC3uG6eRZ",
    "outputId": "c44710e2-bf42-407c-ed5a-8d7c532ab133"
   },
   "outputs": [
    {
     "name": "stdout",
     "output_type": "stream",
     "text": [
      "Requirement already satisfied: torchtext==0.6.0 in /usr/local/lib/python3.6/dist-packages (0.6.0)\n",
      "Requirement already satisfied: torch in /usr/local/lib/python3.6/dist-packages (from torchtext==0.6.0) (1.7.0+cu101)\n",
      "Requirement already satisfied: six in /usr/local/lib/python3.6/dist-packages (from torchtext==0.6.0) (1.15.0)\n",
      "Requirement already satisfied: requests in /usr/local/lib/python3.6/dist-packages (from torchtext==0.6.0) (2.23.0)\n",
      "Requirement already satisfied: tqdm in /usr/local/lib/python3.6/dist-packages (from torchtext==0.6.0) (4.41.1)\n",
      "Requirement already satisfied: numpy in /usr/local/lib/python3.6/dist-packages (from torchtext==0.6.0) (1.19.5)\n",
      "Requirement already satisfied: sentencepiece in /usr/local/lib/python3.6/dist-packages (from torchtext==0.6.0) (0.1.95)\n",
      "Requirement already satisfied: future in /usr/local/lib/python3.6/dist-packages (from torch->torchtext==0.6.0) (0.16.0)\n",
      "Requirement already satisfied: typing-extensions in /usr/local/lib/python3.6/dist-packages (from torch->torchtext==0.6.0) (3.7.4.3)\n",
      "Requirement already satisfied: dataclasses in /usr/local/lib/python3.6/dist-packages (from torch->torchtext==0.6.0) (0.8)\n",
      "Requirement already satisfied: chardet<4,>=3.0.2 in /usr/local/lib/python3.6/dist-packages (from requests->torchtext==0.6.0) (3.0.4)\n",
      "Requirement already satisfied: idna<3,>=2.5 in /usr/local/lib/python3.6/dist-packages (from requests->torchtext==0.6.0) (2.10)\n",
      "Requirement already satisfied: urllib3!=1.25.0,!=1.25.1,<1.26,>=1.21.1 in /usr/local/lib/python3.6/dist-packages (from requests->torchtext==0.6.0) (1.24.3)\n",
      "Requirement already satisfied: certifi>=2017.4.17 in /usr/local/lib/python3.6/dist-packages (from requests->torchtext==0.6.0) (2020.12.5)\n"
     ]
    }
   ],
   "source": [
    "!pip install torchtext==0.6.0"
   ]
  },
  {
   "cell_type": "code",
   "execution_count": null,
   "metadata": {
    "id": "Msro2_mlGDvj"
   },
   "outputs": [],
   "source": [
    "\n"
   ]
  },
  {
   "cell_type": "code",
   "execution_count": 3,
   "metadata": {
    "id": "4nGAExg-GDvn"
   },
   "outputs": [],
   "source": [
    "import spacy"
   ]
  },
  {
   "cell_type": "code",
   "execution_count": 4,
   "metadata": {
    "id": "xh3Ppqw6GDvn"
   },
   "outputs": [],
   "source": [
    "from torchtext.datasets import Multi30k\n",
    "from torchtext.data import Field,BucketIterator"
   ]
  },
  {
   "cell_type": "code",
   "execution_count": 342,
   "metadata": {
    "colab": {
     "base_uri": "https://localhost:8080/"
    },
    "id": "H7M9zYkAGXwe",
    "outputId": "dbcabf11-1c50-492c-fdaf-bc5f287cfd26"
   },
   "outputs": [
    {
     "name": "stdout",
     "output_type": "stream",
     "text": [
      "Requirement already satisfied: en_core_web_sm==2.2.5 from https://github.com/explosion/spacy-models/releases/download/en_core_web_sm-2.2.5/en_core_web_sm-2.2.5.tar.gz#egg=en_core_web_sm==2.2.5 in /usr/local/lib/python3.6/dist-packages (2.2.5)\n",
      "Requirement already satisfied: spacy>=2.2.2 in /usr/local/lib/python3.6/dist-packages (from en_core_web_sm==2.2.5) (2.2.4)\n",
      "Requirement already satisfied: srsly<1.1.0,>=1.0.2 in /usr/local/lib/python3.6/dist-packages (from spacy>=2.2.2->en_core_web_sm==2.2.5) (1.0.5)\n",
      "Requirement already satisfied: setuptools in /usr/local/lib/python3.6/dist-packages (from spacy>=2.2.2->en_core_web_sm==2.2.5) (53.0.0)\n",
      "Requirement already satisfied: numpy>=1.15.0 in /usr/local/lib/python3.6/dist-packages (from spacy>=2.2.2->en_core_web_sm==2.2.5) (1.19.5)\n",
      "Requirement already satisfied: cymem<2.1.0,>=2.0.2 in /usr/local/lib/python3.6/dist-packages (from spacy>=2.2.2->en_core_web_sm==2.2.5) (2.0.5)\n",
      "Requirement already satisfied: thinc==7.4.0 in /usr/local/lib/python3.6/dist-packages (from spacy>=2.2.2->en_core_web_sm==2.2.5) (7.4.0)\n",
      "Requirement already satisfied: plac<1.2.0,>=0.9.6 in /usr/local/lib/python3.6/dist-packages (from spacy>=2.2.2->en_core_web_sm==2.2.5) (1.1.3)\n",
      "Requirement already satisfied: preshed<3.1.0,>=3.0.2 in /usr/local/lib/python3.6/dist-packages (from spacy>=2.2.2->en_core_web_sm==2.2.5) (3.0.5)\n",
      "Requirement already satisfied: blis<0.5.0,>=0.4.0 in /usr/local/lib/python3.6/dist-packages (from spacy>=2.2.2->en_core_web_sm==2.2.5) (0.4.1)\n",
      "Requirement already satisfied: requests<3.0.0,>=2.13.0 in /usr/local/lib/python3.6/dist-packages (from spacy>=2.2.2->en_core_web_sm==2.2.5) (2.23.0)\n",
      "Requirement already satisfied: murmurhash<1.1.0,>=0.28.0 in /usr/local/lib/python3.6/dist-packages (from spacy>=2.2.2->en_core_web_sm==2.2.5) (1.0.5)\n",
      "Requirement already satisfied: wasabi<1.1.0,>=0.4.0 in /usr/local/lib/python3.6/dist-packages (from spacy>=2.2.2->en_core_web_sm==2.2.5) (0.8.2)\n",
      "Requirement already satisfied: catalogue<1.1.0,>=0.0.7 in /usr/local/lib/python3.6/dist-packages (from spacy>=2.2.2->en_core_web_sm==2.2.5) (1.0.0)\n",
      "Requirement already satisfied: tqdm<5.0.0,>=4.38.0 in /usr/local/lib/python3.6/dist-packages (from spacy>=2.2.2->en_core_web_sm==2.2.5) (4.41.1)\n",
      "Requirement already satisfied: certifi>=2017.4.17 in /usr/local/lib/python3.6/dist-packages (from requests<3.0.0,>=2.13.0->spacy>=2.2.2->en_core_web_sm==2.2.5) (2020.12.5)\n",
      "Requirement already satisfied: chardet<4,>=3.0.2 in /usr/local/lib/python3.6/dist-packages (from requests<3.0.0,>=2.13.0->spacy>=2.2.2->en_core_web_sm==2.2.5) (3.0.4)\n",
      "Requirement already satisfied: idna<3,>=2.5 in /usr/local/lib/python3.6/dist-packages (from requests<3.0.0,>=2.13.0->spacy>=2.2.2->en_core_web_sm==2.2.5) (2.10)\n",
      "Requirement already satisfied: urllib3!=1.25.0,!=1.25.1,<1.26,>=1.21.1 in /usr/local/lib/python3.6/dist-packages (from requests<3.0.0,>=2.13.0->spacy>=2.2.2->en_core_web_sm==2.2.5) (1.24.3)\n",
      "Requirement already satisfied: importlib-metadata>=0.20; python_version < \"3.8\" in /usr/local/lib/python3.6/dist-packages (from catalogue<1.1.0,>=0.0.7->spacy>=2.2.2->en_core_web_sm==2.2.5) (3.4.0)\n",
      "Requirement already satisfied: typing-extensions>=3.6.4; python_version < \"3.8\" in /usr/local/lib/python3.6/dist-packages (from importlib-metadata>=0.20; python_version < \"3.8\"->catalogue<1.1.0,>=0.0.7->spacy>=2.2.2->en_core_web_sm==2.2.5) (3.7.4.3)\n",
      "Requirement already satisfied: zipp>=0.5 in /usr/local/lib/python3.6/dist-packages (from importlib-metadata>=0.20; python_version < \"3.8\"->catalogue<1.1.0,>=0.0.7->spacy>=2.2.2->en_core_web_sm==2.2.5) (3.4.0)\n",
      "\u001b[38;5;2m✔ Download and installation successful\u001b[0m\n",
      "You can now load the model via spacy.load('en_core_web_sm')\n",
      "\u001b[38;5;2m✔ Linking successful\u001b[0m\n",
      "/usr/local/lib/python3.6/dist-packages/en_core_web_sm -->\n",
      "/usr/local/lib/python3.6/dist-packages/spacy/data/en\n",
      "You can now load the model via spacy.load('en')\n",
      "Requirement already satisfied: de_core_news_sm==2.2.5 from https://github.com/explosion/spacy-models/releases/download/de_core_news_sm-2.2.5/de_core_news_sm-2.2.5.tar.gz#egg=de_core_news_sm==2.2.5 in /usr/local/lib/python3.6/dist-packages (2.2.5)\n",
      "Requirement already satisfied: spacy>=2.2.2 in /usr/local/lib/python3.6/dist-packages (from de_core_news_sm==2.2.5) (2.2.4)\n",
      "Requirement already satisfied: catalogue<1.1.0,>=0.0.7 in /usr/local/lib/python3.6/dist-packages (from spacy>=2.2.2->de_core_news_sm==2.2.5) (1.0.0)\n",
      "Requirement already satisfied: preshed<3.1.0,>=3.0.2 in /usr/local/lib/python3.6/dist-packages (from spacy>=2.2.2->de_core_news_sm==2.2.5) (3.0.5)\n",
      "Requirement already satisfied: plac<1.2.0,>=0.9.6 in /usr/local/lib/python3.6/dist-packages (from spacy>=2.2.2->de_core_news_sm==2.2.5) (1.1.3)\n",
      "Requirement already satisfied: wasabi<1.1.0,>=0.4.0 in /usr/local/lib/python3.6/dist-packages (from spacy>=2.2.2->de_core_news_sm==2.2.5) (0.8.2)\n",
      "Requirement already satisfied: tqdm<5.0.0,>=4.38.0 in /usr/local/lib/python3.6/dist-packages (from spacy>=2.2.2->de_core_news_sm==2.2.5) (4.41.1)\n",
      "Requirement already satisfied: srsly<1.1.0,>=1.0.2 in /usr/local/lib/python3.6/dist-packages (from spacy>=2.2.2->de_core_news_sm==2.2.5) (1.0.5)\n",
      "Requirement already satisfied: thinc==7.4.0 in /usr/local/lib/python3.6/dist-packages (from spacy>=2.2.2->de_core_news_sm==2.2.5) (7.4.0)\n",
      "Requirement already satisfied: setuptools in /usr/local/lib/python3.6/dist-packages (from spacy>=2.2.2->de_core_news_sm==2.2.5) (53.0.0)\n",
      "Requirement already satisfied: requests<3.0.0,>=2.13.0 in /usr/local/lib/python3.6/dist-packages (from spacy>=2.2.2->de_core_news_sm==2.2.5) (2.23.0)\n",
      "Requirement already satisfied: murmurhash<1.1.0,>=0.28.0 in /usr/local/lib/python3.6/dist-packages (from spacy>=2.2.2->de_core_news_sm==2.2.5) (1.0.5)\n",
      "Requirement already satisfied: blis<0.5.0,>=0.4.0 in /usr/local/lib/python3.6/dist-packages (from spacy>=2.2.2->de_core_news_sm==2.2.5) (0.4.1)\n",
      "Requirement already satisfied: cymem<2.1.0,>=2.0.2 in /usr/local/lib/python3.6/dist-packages (from spacy>=2.2.2->de_core_news_sm==2.2.5) (2.0.5)\n",
      "Requirement already satisfied: numpy>=1.15.0 in /usr/local/lib/python3.6/dist-packages (from spacy>=2.2.2->de_core_news_sm==2.2.5) (1.19.5)\n",
      "Requirement already satisfied: importlib-metadata>=0.20; python_version < \"3.8\" in /usr/local/lib/python3.6/dist-packages (from catalogue<1.1.0,>=0.0.7->spacy>=2.2.2->de_core_news_sm==2.2.5) (3.4.0)\n",
      "Requirement already satisfied: certifi>=2017.4.17 in /usr/local/lib/python3.6/dist-packages (from requests<3.0.0,>=2.13.0->spacy>=2.2.2->de_core_news_sm==2.2.5) (2020.12.5)\n",
      "Requirement already satisfied: chardet<4,>=3.0.2 in /usr/local/lib/python3.6/dist-packages (from requests<3.0.0,>=2.13.0->spacy>=2.2.2->de_core_news_sm==2.2.5) (3.0.4)\n",
      "Requirement already satisfied: idna<3,>=2.5 in /usr/local/lib/python3.6/dist-packages (from requests<3.0.0,>=2.13.0->spacy>=2.2.2->de_core_news_sm==2.2.5) (2.10)\n",
      "Requirement already satisfied: urllib3!=1.25.0,!=1.25.1,<1.26,>=1.21.1 in /usr/local/lib/python3.6/dist-packages (from requests<3.0.0,>=2.13.0->spacy>=2.2.2->de_core_news_sm==2.2.5) (1.24.3)\n",
      "Requirement already satisfied: typing-extensions>=3.6.4; python_version < \"3.8\" in /usr/local/lib/python3.6/dist-packages (from importlib-metadata>=0.20; python_version < \"3.8\"->catalogue<1.1.0,>=0.0.7->spacy>=2.2.2->de_core_news_sm==2.2.5) (3.7.4.3)\n",
      "Requirement already satisfied: zipp>=0.5 in /usr/local/lib/python3.6/dist-packages (from importlib-metadata>=0.20; python_version < \"3.8\"->catalogue<1.1.0,>=0.0.7->spacy>=2.2.2->de_core_news_sm==2.2.5) (3.4.0)\n",
      "\u001b[38;5;2m✔ Download and installation successful\u001b[0m\n",
      "You can now load the model via spacy.load('de_core_news_sm')\n",
      "\u001b[38;5;2m✔ Linking successful\u001b[0m\n",
      "/usr/local/lib/python3.6/dist-packages/de_core_news_sm -->\n",
      "/usr/local/lib/python3.6/dist-packages/spacy/data/de\n",
      "You can now load the model via spacy.load('de')\n"
     ]
    }
   ],
   "source": [
    "!python -m spacy download en\n",
    "!python -m spacy download de"
   ]
  },
  {
   "cell_type": "code",
   "execution_count": 5,
   "metadata": {
    "id": "C3GooBEeGDvn"
   },
   "outputs": [],
   "source": [
    "spacy_eng = spacy.load('en_core_web_sm')\n",
    "spacy_ger = spacy.load('de_core_news_sm')"
   ]
  },
  {
   "cell_type": "code",
   "execution_count": 6,
   "metadata": {
    "id": "lqtgGryTGDvn"
   },
   "outputs": [],
   "source": [
    "def tokenize_eng(text):\n",
    "    return([tok.text for tok in spacy_eng.tokenizer(text)])"
   ]
  },
  {
   "cell_type": "code",
   "execution_count": 7,
   "metadata": {
    "id": "McBY3kmoGDvn"
   },
   "outputs": [],
   "source": [
    "def tokenize_ger(text):\n",
    "    return([tok.text for tok in spacy_ger.tokenizer(text)])"
   ]
  },
  {
   "cell_type": "code",
   "execution_count": 8,
   "metadata": {
    "id": "WfjGQ5KnGDvo"
   },
   "outputs": [
    {
     "name": "stderr",
     "output_type": "stream",
     "text": [
      "C:\\ProgramData\\Anaconda3\\envs\\project2\\lib\\site-packages\\torchtext\\data\\field.py:150: UserWarning: Field class will be retired in the 0.8.0 release and moved to torchtext.legacy. Please see 0.7.0 release notes for further information.\n",
      "  warnings.warn('{} class will be retired in the 0.8.0 release and moved to torchtext.legacy. Please see 0.7.0 release notes for further information.'.format(self.__class__.__name__), UserWarning)\n"
     ]
    }
   ],
   "source": [
    "english = Field(sequential=True, use_vocab=True, tokenize=tokenize_eng, lower=True,init_token='<sos>',eos_token='<eos>')\n",
    "german = Field(sequential=True, use_vocab=True, tokenize=tokenize_ger, lower=True,init_token='<sos>',eos_token='<eos>')"
   ]
  },
  {
   "cell_type": "code",
   "execution_count": 9,
   "metadata": {
    "id": "XuDwkSRIGDvo"
   },
   "outputs": [
    {
     "name": "stderr",
     "output_type": "stream",
     "text": [
      "C:\\ProgramData\\Anaconda3\\envs\\project2\\lib\\site-packages\\torchtext\\data\\example.py:78: UserWarning: Example class will be retired in the 0.8.0 release and moved to torchtext.legacy. Please see 0.7.0 release notes for further information.\n",
      "  warnings.warn('Example class will be retired in the 0.8.0 release and moved to torchtext.legacy. Please see 0.7.0 release notes for further information.', UserWarning)\n"
     ]
    }
   ],
   "source": [
    "train_data, validation_data, test_data = Multi30k.splits(exts=('.de','.en'),fields=(german,english))"
   ]
  },
  {
   "cell_type": "code",
   "execution_count": null,
   "metadata": {},
   "outputs": [],
   "source": [
    "count = 0\n",
    "for i in train_data:\n",
    "    count+=1"
   ]
  },
  {
   "cell_type": "code",
   "execution_count": null,
   "metadata": {},
   "outputs": [],
   "source": [
    "count"
   ]
  },
  {
   "cell_type": "code",
   "execution_count": null,
   "metadata": {},
   "outputs": [],
   "source": [
    "count = 0\n",
    "for i in validation_data:\n",
    "    count+=1"
   ]
  },
  {
   "cell_type": "code",
   "execution_count": null,
   "metadata": {},
   "outputs": [],
   "source": [
    "count"
   ]
  },
  {
   "cell_type": "code",
   "execution_count": null,
   "metadata": {},
   "outputs": [],
   "source": [
    "count = 0\n",
    "for i in test_data:\n",
    "    count+=1"
   ]
  },
  {
   "cell_type": "code",
   "execution_count": 20,
   "metadata": {},
   "outputs": [
    {
     "data": {
      "text/plain": [
       "1000"
      ]
     },
     "execution_count": 20,
     "metadata": {},
     "output_type": "execute_result"
    }
   ],
   "source": [
    "count"
   ]
  },
  {
   "cell_type": "markdown",
   "metadata": {},
   "source": [
    "#### German to english translation is performed.  "
   ]
  },
  {
   "cell_type": "code",
   "execution_count": 10,
   "metadata": {
    "id": "w39dp5zpGDvo"
   },
   "outputs": [],
   "source": [
    "english.build_vocab(train_data,max_size=10000,min_freq=2)\n",
    "german.build_vocab(train_data,max_size=10000,min_freq=2)"
   ]
  },
  {
   "cell_type": "code",
   "execution_count": 11,
   "metadata": {
    "colab": {
     "base_uri": "https://localhost:8080/"
    },
    "id": "uhPnpe9SGDvo",
    "outputId": "d6794f64-0767-4390-ee3c-141ef9d219a3"
   },
   "outputs": [
    {
     "data": {
      "text/plain": [
       "3"
      ]
     },
     "execution_count": 11,
     "metadata": {},
     "output_type": "execute_result"
    }
   ],
   "source": [
    "english.vocab.stoi['<eos>']"
   ]
  },
  {
   "cell_type": "code",
   "execution_count": 12,
   "metadata": {
    "colab": {
     "base_uri": "https://localhost:8080/",
     "height": 35
    },
    "id": "lwPrlB5bGDvp",
    "outputId": "9e982dea-cc97-4bdb-99b3-fd79f416bb26"
   },
   "outputs": [
    {
     "data": {
      "text/plain": [
       "'.'"
      ]
     },
     "execution_count": 12,
     "metadata": {},
     "output_type": "execute_result"
    }
   ],
   "source": [
    "english.vocab.itos[5]"
   ]
  },
  {
   "cell_type": "code",
   "execution_count": 13,
   "metadata": {
    "colab": {
     "base_uri": "https://localhost:8080/"
    },
    "id": "fUv5GBx0GDvp",
    "outputId": "04b8ae86-2d48-4cc6-8756-fe10a134888b"
   },
   "outputs": [
    {
     "name": "stdout",
     "output_type": "stream",
     "text": [
      "5893\n",
      "7854\n"
     ]
    }
   ],
   "source": [
    "print(len(english.vocab))\n",
    "print(len(german.vocab))"
   ]
  },
  {
   "cell_type": "code",
   "execution_count": 14,
   "metadata": {
    "id": "oJL6Rwk7GDvp"
   },
   "outputs": [],
   "source": [
    "import torch\n",
    "import torch.nn as nn\n",
    "import torch.nn.functional as f\n",
    "import torch.optim as optim\n",
    "import numpy as np\n",
    "import matplotlib.pyplot as plt\n",
    "import time"
   ]
  },
  {
   "cell_type": "markdown",
   "metadata": {},
   "source": [
    "## Model building "
   ]
  },
  {
   "cell_type": "markdown",
   "metadata": {},
   "source": [
    "Encoder is built with LSTM layer and linear layer stacked over it. Linear layer is added so that model learns direct long term dependencies among words . It increases performance. Tanh gives better results over ReLU. Encoder basically encodes source sentence that is german here. This encoding will be used by decoder to translate"
   ]
  },
  {
   "cell_type": "code",
   "execution_count": 464,
   "metadata": {
    "id": "QLoRlYaCGDvp"
   },
   "outputs": [],
   "source": [
    "class Encoder(nn.Module):\n",
    "    def __init__(self,vocab_size,embedding,hidden_size,num_layers):\n",
    "        super(Encoder,self).__init__()\n",
    "        self.embedding_size = embedding\n",
    "        self.hidden_size = hidden_size\n",
    "        self.num_layers = num_layers\n",
    "        self.vocab_size = vocab_size\n",
    "        self.embedding = nn.Embedding(vocab_size,embedding)\n",
    "        self.lstm = nn.LSTM(embedding,hidden_size,num_layers=num_layers,bidirectional=True)\n",
    "        self.fc1 = nn.Linear(2*hidden_size,hidden_size)\n",
    "        self.fc2 = nn.Linear(hidden_size,hidden_size//2)\n",
    "        self.fc3 = nn.Linear(hidden_size,hidden_size//2)\n",
    "        self.tanh = nn.Tanh()\n",
    "        \n",
    "    def forward(self,x,hidden,cell):\n",
    "                                                     # x : seqlen, batch\n",
    "        x = self.embedding(x)                   # x : seqlen, batch, embedding   # input lstm : seqlen, batch, input_size\n",
    "        x,(hidden,cell) = self.lstm(x,(hidden,cell))     # outputlstm : seq_len, batch, num_directions * hidden_size\n",
    "        x = self.fc1(x)\n",
    "        hidden = self.fc2(hidden)\n",
    "        cell = self.fc3(cell)\n",
    "        x = self.tanh(x)\n",
    "        hidden = self.tanh(hidden)\n",
    "        cell = self.tanh(cell)\n",
    "        return(x,(hidden,cell))\n",
    "        \n",
    "    def initHidden(self,batch_size):\n",
    "        return(torch.zeros([self.num_layers*2,batch_size,self.hidden_size]))  #hidden : num_layers * num_directions, batch, hidden_size"
   ]
  },
  {
   "cell_type": "markdown",
   "metadata": {},
   "source": [
    "Decoder takes encodings of source sentence. Decoder builds relation between source and target sentences"
   ]
  },
  {
   "cell_type": "markdown",
   "metadata": {},
   "source": [
    "Decoder is consisting of just 2 layers of LSTM. If context vector ( from prrevious timestep) is provided , the it will be concatenated with current word vector and passed through linear layer to decrease the hidden dimension."
   ]
  },
  {
   "cell_type": "code",
   "execution_count": 465,
   "metadata": {
    "id": "8cMoDfK0GDvq"
   },
   "outputs": [],
   "source": [
    "class Decoder(nn.Module):\n",
    "    def __init__(self,vocab_size,embedding,hidden_size,num_layers):\n",
    "        super(Decoder,self).__init__()\n",
    "        self.vocab_size = vocab_size\n",
    "        self.embedding_size = embedding\n",
    "        self.hidden_size = hidden_size\n",
    "        self.num_layers = num_layers\n",
    "        self.embedding = nn.Embedding(vocab_size,embedding)\n",
    "        self.lstm = nn.LSTM(embedding,hidden_size,num_layers=num_layers)\n",
    "        self.fc = nn.Linear(2*self.hidden_size+self.embedding_size,self.embedding_size)\n",
    "        self.tanh = nn.Tanh()\n",
    "        \n",
    "    def forward(self,x,c,hidden,cell):\n",
    "        batch_size = x.shape[0]\n",
    "        x = self.embedding(x)\n",
    "        if(len(torch.nonzero(c)!=0)):\n",
    "            x = torch.cat((x,c),dim=-1)\n",
    "            x = self.fc(x)\n",
    "        x = x.view(1,batch_size,self.embedding_size)\n",
    "        x,(hidden,cell) = self.lstm(x,(hidden,cell))\n",
    "        return(x,(hidden,cell))\n",
    "        \n",
    "    def initHidden(self,batch_size):\n",
    "        return(torch.zeros([self.num_layers,batch_size,self.hidden_size]))"
   ]
  },
  {
   "cell_type": "markdown",
   "metadata": {},
   "source": [
    "The part of attention is written over here. Firstly source encodings and target encodings are obtained from Encoder and Decoder . Then , context vector is calculated over here. For first timestep , a zero vector as context vector will be passed to decoder that will be ignored in deoced block and wont be concatenated. After that for nth timestep , context vector of n-1th timestep is passed. This enhances performance of model"
   ]
  },
  {
   "cell_type": "code",
   "execution_count": 482,
   "metadata": {
    "id": "YtG9bWljGDvq"
   },
   "outputs": [],
   "source": [
    "class Translate(nn.Module):\n",
    "    def __init__(self,encoder,decoder,hidden_size,output_size):\n",
    "        super(Translate,self).__init__()\n",
    "        self.encoder = encoder\n",
    "        self.decoder = decoder\n",
    "        self.hidden_size = hidden_size\n",
    "        self.output_size = output_size\n",
    "        self.softmax = nn.Softmax(dim=0)\n",
    "        self.dropout = nn.Dropout(0.2)\n",
    "        self.fc = nn.Linear(2*hidden_size,output_size)\n",
    "        self.tanh = nn.Tanh()\n",
    "        \n",
    "    \n",
    "    def forward(self,source,target):\n",
    "        batch_size = source.shape[-1]\n",
    "        hidden = self.encoder.initHidden(batch_size).to(device)\n",
    "        cell = self.encoder.initHidden(batch_size).to(device)\n",
    "        enc_hidden,(hidden,cell) = self.encoder(source,hidden,cell)   # # outputlstm : enc_seq_len, batch, hidden_size  \n",
    "        \n",
    "        dec_seq_len = target.shape[0]-1\n",
    "        enc_seq_len = source.shape[0]\n",
    "        out = torch.zeros([dec_seq_len,batch_size,self.output_size]).to(device)\n",
    "\n",
    "        hidden = hidden.view(num_layers,batch_size,-1)\n",
    "        cell = cell.view(num_layers,batch_size,-1)\n",
    "        c = torch.zeros([batch_size,self.hidden_size*2]).to(device)\n",
    "        #Attention procedure. dot product based\n",
    "        for i in range(dec_seq_len):\n",
    "    \n",
    "            dec_hidden,(hidden,cell) = self.decoder(target[i,:],c,hidden,cell) \n",
    "            h = dec_hidden[0]              # batch, hidden\n",
    "            a = torch.sum(torch.mul(enc_hidden,h),axis=-1)  #a = enc_seq_len, batch\n",
    "\n",
    "            a = self.softmax(a)\n",
    "            c = torch.sum(torch.mul(enc_hidden,a.view(enc_seq_len,batch_size,1)),axis=0)   #c = batch, hidden\n",
    "            c = self.tanh(c)\n",
    "            c = torch.cat((c,h),dim=-1)\n",
    "            c = self.tanh(c)\n",
    "            o = self.fc(c)\n",
    "            out[i,:,:] = o\n",
    "        \n",
    "        return(out)"
   ]
  },
  {
   "cell_type": "markdown",
   "metadata": {},
   "source": [
    "### Some hyperparameters "
   ]
  },
  {
   "cell_type": "code",
   "execution_count": 483,
   "metadata": {
    "id": "sU8qW_nMGDvr"
   },
   "outputs": [],
   "source": [
    "english_vocab_size = len(english.vocab)\n",
    "german_vocab_size = len(german.vocab)\n",
    "embedding = 64 \n",
    "output_size = english_vocab_size\n",
    "hidden_size = 512\n",
    "num_layers = 2\n",
    "batch_size = 128\n",
    "learning_rate = 0.006\n",
    "epochs = 8\n",
    "device='cuda'"
   ]
  },
  {
   "cell_type": "code",
   "execution_count": 484,
   "metadata": {
    "id": "mbXqSpLaGDvr"
   },
   "outputs": [],
   "source": [
    "train_iterator, validation_iterator, test_iterator = BucketIterator.splits((train_data,validation_data,test_data),\n",
    "                                                                          batch_size=batch_size,device=device)"
   ]
  },
  {
   "cell_type": "code",
   "execution_count": 485,
   "metadata": {
    "id": "aSxe0zikGDvr"
   },
   "outputs": [],
   "source": [
    "encoder = Encoder(german_vocab_size,embedding,hidden_size,num_layers)\n",
    "decoder = Decoder(english_vocab_size,embedding,hidden_size,num_layers)\n",
    "model = Translate(encoder,decoder,hidden_size,output_size).to(device)\n",
    "optimizer = optim.Adam(model.parameters(),lr=learning_rate)\n",
    "criterion = nn.CrossEntropyLoss()"
   ]
  },
  {
   "cell_type": "code",
   "execution_count": 486,
   "metadata": {
    "colab": {
     "base_uri": "https://localhost:8080/"
    },
    "id": "LSR_CYk-GDvr",
    "outputId": "a633154e-39c9-4695-a7c2-e5485f86d981"
   },
   "outputs": [
    {
     "name": "stdout",
     "output_type": "stream",
     "text": [
      "The model has 19,729,477 trainable parameters\n"
     ]
    }
   ],
   "source": [
    "def count_parameters(model):\n",
    "    return sum(p.numel() for p in model.parameters() if p.requires_grad)\n",
    "\n",
    "print(f'The model has {count_parameters(model):,} trainable parameters')"
   ]
  },
  {
   "cell_type": "markdown",
   "metadata": {},
   "source": [
    "## Training "
   ]
  },
  {
   "cell_type": "code",
   "execution_count": 487,
   "metadata": {
    "id": "g_Vx92KxDWn3"
   },
   "outputs": [],
   "source": [
    "def validation_loss(model,validation_iterator):\n",
    "    epoch_loss = []\n",
    "    for batch in validation_iterator:\n",
    "        batch_loss = []\n",
    "        source = batch.src\n",
    "        target = batch.trg   #target = encseq_len, batch\n",
    "            #print(target.shape)\n",
    "        batch_size = source.shape[-1]\n",
    "        out = model(source,target)   # out = dec_seq_len, batch, output_size    \n",
    "            #print(out.shape)\n",
    "            #print(target.shape)    \n",
    "        model.zero_grad()\n",
    "        optimizer.zero_grad()\n",
    "                \n",
    "        out = out.view(-1,output_size)\n",
    "        target = target[1:,:].view(-1)\n",
    "            #print(out.shape)\n",
    "            #print(target.shape)  \n",
    "        loss = criterion(out,target)\n",
    "        batch_loss.append(loss.item())\n",
    "        epoch_loss += batch_loss\n",
    "    return(epoch_loss)"
   ]
  },
  {
   "cell_type": "code",
   "execution_count": 492,
   "metadata": {
    "colab": {
     "base_uri": "https://localhost:8080/"
    },
    "id": "d94t3WKiGDvs",
    "outputId": "7cdb257b-344b-46c4-cd01-c3da7e400f59",
    "scrolled": true
   },
   "outputs": [
    {
     "name": "stdout",
     "output_type": "stream",
     "text": [
      "...................................................................................................................................................................................................................................\n",
      "epoch train loss : 1.3754999396034275  ||  time : 53.28970956802368  ||  epoch validation loss : 2.508912146091461\n",
      "...................................................................................................................................................................................................................................\n",
      "epoch train loss : 1.2143858799850362  ||  time : 52.67214274406433  ||  epoch validation loss : 2.147726520895958\n",
      "...................................................................................................................................................................................................................................\n",
      "epoch train loss : 1.016815718050045  ||  time : 52.80886626243591  ||  epoch validation loss : 1.8909298181533813\n",
      "...................................................................................................................................................................................................................................\n",
      "epoch train loss : 0.8810833009854288  ||  time : 52.5118043422699  ||  epoch validation loss : 1.8069288283586502\n",
      "...................................................................................................................................................................................................................................\n",
      "epoch train loss : 0.7687210939529183  ||  time : 52.64971399307251  ||  epoch validation loss : 1.7852915972471237\n",
      "...................................................................................................................................................................................................................................\n",
      "epoch train loss : 0.6849407863511913  ||  time : 52.95388197898865  ||  epoch validation loss : 1.7317068874835968\n",
      "...................................................................................................................................................................................................................................\n",
      "epoch train loss : 0.6265479573069165  ||  time : 52.86342263221741  ||  epoch validation loss : 1.7169091701507568\n",
      "...................................................................................................................................................................................................................................\n",
      "epoch train loss : 0.5834039714893056  ||  time : 52.45785045623779  ||  epoch validation loss : 1.7530926764011383\n"
     ]
    }
   ],
   "source": [
    "#train_loss_lst = []\n",
    "#validation_loss_lst = []\n",
    "for epoch in range(epochs):\n",
    "    epoch_loss = []\n",
    "    t1 = time.time()\n",
    "    for batch in train_iterator:\n",
    "        t11 = time.time()\n",
    "        batch_loss = []\n",
    "        source = batch.src\n",
    "        target = batch.trg   #target = encseq_len, batch\n",
    "        #print(target.shape)\n",
    "        batch_size = source.shape[-1]\n",
    "        out = model(source,target)   # out = dec_seq_len, batch, output_size    \n",
    "        #print(out.shape)\n",
    "        #print(target.shape)    \n",
    "        model.zero_grad()\n",
    "        optimizer.zero_grad()\n",
    "            \n",
    "        out = out.view(-1,output_size)\n",
    "        target = target[1:,:].view(-1)\n",
    "        #print(out.shape)\n",
    "        #print(target.shape)  \n",
    "        loss = criterion(out,target)\n",
    "        batch_loss.append(loss.item())\n",
    "            \n",
    "        loss.backward()\n",
    "        optimizer.step()\n",
    "        epoch_loss += batch_loss\n",
    "        t22 = time.time()\n",
    "        #print(\"batch loss : {}  ||  time : {}\".format(np.mean(batch_loss),t22-t11))\n",
    "        print(\".\",end=\"\")\n",
    "    train_loss_lst += epoch_loss\n",
    "    t2 = time.time()\n",
    "    validation_lst = validation_loss(model,validation_iterator)\n",
    "    validation_loss_lst += validation_lst\n",
    "\n",
    "    print()\n",
    "    print(\"epoch train loss : {}  ||  time : {}  ||  epoch validation loss : {}\".format(np.mean(epoch_loss),t2-t1,np.mean(validation_lst)))"
   ]
  },
  {
   "cell_type": "code",
   "execution_count": 494,
   "metadata": {
    "colab": {
     "base_uri": "https://localhost:8080/",
     "height": 282
    },
    "id": "gDf53BwNGDvs",
    "outputId": "1eaec37d-3193-455a-c43b-1d4f586128c1"
   },
   "outputs": [
    {
     "data": {
      "text/plain": [
       "<matplotlib.legend.Legend at 0x7f5ac8a99438>"
      ]
     },
     "execution_count": 494,
     "metadata": {
      "tags": []
     },
     "output_type": "execute_result"
    },
    {
     "data": {
      "image/png": "[encoded data removed]",
      "text/plain": [
       "<Figure size 432x288 with 1 Axes>"
      ]
     },
     "metadata": {
      "needs_background": "light",
      "tags": []
     },
     "output_type": "display_data"
    }
   ],
   "source": [
    "plt.plot(train_loss_lst)\n",
    "plt.legend(['train'])"
   ]
  },
  {
   "cell_type": "code",
   "execution_count": 495,
   "metadata": {
    "colab": {
     "base_uri": "https://localhost:8080/",
     "height": 282
    },
    "id": "c5uoGZm1GIcW",
    "outputId": "5b290bc3-c440-44cf-9306-506277d88c3d"
   },
   "outputs": [
    {
     "data": {
      "text/plain": [
       "<matplotlib.legend.Legend at 0x7f5ac8a5d4e0>"
      ]
     },
     "execution_count": 495,
     "metadata": {
      "tags": []
     },
     "output_type": "execute_result"
    },
    {
     "data": {
      "image/png": "[encoded data removed]",
      "text/plain": [
       "<Figure size 432x288 with 1 Axes>"
      ]
     },
     "metadata": {
      "needs_background": "light",
      "tags": []
     },
     "output_type": "display_data"
    }
   ],
   "source": [
    "plt.plot(validation_loss_lst)\n",
    "plt.legend(['valid'])"
   ]
  },
  {
   "cell_type": "code",
   "execution_count": 502,
   "metadata": {
    "id": "y3mJnV9eGDvt"
   },
   "outputs": [],
   "source": [
    "torch.save(model.state_dict(),'Attention_contextToHidden_bidirectional.pth') "
   ]
  },
  {
   "cell_type": "markdown",
   "metadata": {
    "id": "UFtrwSwXGDvt"
   },
   "source": [
    "### Testing model over some random sentences "
   ]
  },
  {
   "cell_type": "code",
   "execution_count": 500,
   "metadata": {
    "colab": {
     "base_uri": "https://localhost:8080/"
    },
    "id": "lK2LpHA0GDvt",
    "outputId": "d84c104b-a76c-49b6-958c-8bb9ab953152"
   },
   "outputs": [
    {
     "name": "stdout",
     "output_type": "stream",
     "text": [
      "tensor([  2,   5,  13, 287,  23,   7,  15, 110,  14, 340,  34,  21,   5, 104,\n",
      "          4,   3])\n",
      "['ein', 'mann', 'lehnt', 'sich', 'in', 'der', 'nähe', 'einer', 'belebten', 'straße', 'an', 'ein', 'gebäude', '.']\n"
     ]
    }
   ],
   "source": [
    "#sentence = 'ich habe kein interesse am spielen .' # 'i dont have intrest in playing'\n",
    "#sentence = 'ich bin heute glücklich .'  # 'i am happy today'\n",
    "#sentence = 'eine frau mochte dieses gebäude .' # 'a woman liked that building'\n",
    "#sentence = 'eines tages werde ich reich sein .'  # 'one day i will be rich'\n",
    "sentence = 'ein mann lehnt sich in der nähe einer belebten straße an ein gebäude .'  # 'a man leans against a building near a busy street .'\n",
    "#sentence = 'wer bin ich .'   # 'who am i'\n",
    "#sentence = 'ein läufer <unk> sich für ein rennen aus dem <unk> .'  #runner leaving the starting blocks of a race .\n",
    "sentence = sentence.split()\n",
    "inputs = torch.zeros([len(sentence)+2],dtype=torch.long)\n",
    "inputs[0] = 2\n",
    "inputs[-1]  = 3\n",
    "#a[1] = 1180\n",
    "for i in range(0,len(sentence)):\n",
    "    inputs[i+1] = german.vocab.stoi[sentence[i]]\n",
    "    \n",
    "print(inputs)\n",
    "print(sentence)"
   ]
  },
  {
   "cell_type": "code",
   "execution_count": 501,
   "metadata": {
    "colab": {
     "base_uri": "https://localhost:8080/"
    },
    "id": "oAIzo0JYGDvt",
    "outputId": "c629da10-4b34-4bcf-9f76-04c5b756c988",
    "scrolled": true
   },
   "outputs": [
    {
     "name": "stdout",
     "output_type": "stream",
     "text": [
      " a man is standing by a building near a busy city street .\n"
     ]
    }
   ],
   "source": [
    "translation = ''\n",
    "\n",
    "word = '<sos>'\n",
    "word_index = 2\n",
    "enc_seq_len = inputs.shape[0]\n",
    "dec_seq_len = 1\n",
    "batch_size = 1\n",
    "hidden = encoder.initHidden(1)\n",
    "cell = encoder.initHidden(1)\n",
    "enc_hidden,(hidden,cell) = encoder(inputs.view(-1,1).to(device),hidden.to(device),cell.to(device))\n",
    "hidden = torch.cat((hidden[:encoder.num_layers],hidden[encoder.num_layers:]),dim=-1)\n",
    "cell = torch.cat((cell[:encoder.num_layers],cell[encoder.num_layers:]),dim=-1)\n",
    "c = torch.zeros([1,2*hidden_size]).to(device)\n",
    "\n",
    "while(word!='<eos>'):\n",
    "    dec_hidden,(hidden,cell) = decoder(torch.tensor([word_index]).to(device),c,hidden,cell)\n",
    "    h = dec_hidden[0]              # batch, hidden\n",
    "    a = torch.sum(torch.mul(enc_hidden,h),axis=-1)\n",
    "    a = model.softmax(a)\n",
    "    c = torch.sum(torch.mul(enc_hidden,a.view(enc_seq_len,batch_size,1)),axis=0)\n",
    "    c = model.tanh(c)\n",
    "    c = torch.cat((c,h),dim=-1)\n",
    "    c = model.tanh(c)\n",
    "    o = model.fc(c)\n",
    "    word_index = torch.argmax(o).item()\n",
    "    \n",
    "    word = english.vocab.itos[word_index]\n",
    "    if(word!='<eos>'):\n",
    "        translation = translation + \" \" + word\n",
    "print(translation)"
   ]
  },
  {
   "cell_type": "code",
   "execution_count": null,
   "metadata": {
    "colab": {
     "base_uri": "https://localhost:8080/",
     "height": 35
    },
    "id": "wYu7oEbrLSRm",
    "outputId": "bdd60263-0572-4d77-835f-e04ec1d9c987"
   },
   "outputs": [],
   "source": []
  },
  {
   "cell_type": "markdown",
   "metadata": {
    "id": "SomZAe7HGDvu"
   },
   "source": [
    "### Bleu score "
   ]
  },
  {
   "cell_type": "markdown",
   "metadata": {
    "id": "kyBBoMZ_Gytk"
   },
   "source": [
    "encodings function takes sentences and returns their encodings. This will be used to calculate Bleu score"
   ]
  },
  {
   "cell_type": "code",
   "execution_count": 276,
   "metadata": {
    "id": "L2xWPdG2GDvu"
   },
   "outputs": [],
   "source": [
    "def encodings(src,trg):\n",
    "    src_enc = torch.zeros([len(src)+2],dtype=torch.long)\n",
    "    trg_enc = torch.zeros([len(trg)+2],dtype=torch.long)\n",
    "    src_enc[0] = 2\n",
    "    src_enc[-1] = 3\n",
    "    trg_enc[0] = 2\n",
    "    trg_enc[-1] = 3\n",
    "    for i in range(len(src)):\n",
    "        src_enc[i+1] = german.vocab.stoi[src[i]]\n",
    "    for i in range(len(trg)):\n",
    "        trg_enc[i+1] = english.vocab.stoi[trg[i]]\n",
    "    return(src_enc,trg_enc)"
   ]
  },
  {
   "cell_type": "code",
   "execution_count": 509,
   "metadata": {
    "id": "nMFAJNEJGDvv"
   },
   "outputs": [],
   "source": [
    "from torchtext.data.metrics import bleu_score\n"
   ]
  },
  {
   "cell_type": "markdown",
   "metadata": {
    "id": "9h5SqgmMHLID"
   },
   "source": [
    "The following cell iterates through test set and passes source sentences to find their translations. Both actual and predicted translations are stored in corresponding lists. They are used further to calculate bleu score"
   ]
  },
  {
   "cell_type": "code",
   "execution_count": 503,
   "metadata": {
    "colab": {
     "base_uri": "https://localhost:8080/"
    },
    "id": "KaQzyXKNMILx",
    "outputId": "e5012037-75b7-497b-c729-6011e6911efb"
   },
   "outputs": [
    {
     "name": "stderr",
     "output_type": "stream",
     "text": [
      "/usr/local/lib/python3.6/dist-packages/ipykernel_launcher.py:9: UserWarning: To copy construct from a tensor, it is recommended to use sourceTensor.clone().detach() or sourceTensor.clone().detach().requires_grad_(True), rather than torch.tensor(sourceTensor).\n",
      "  if __name__ == '__main__':\n"
     ]
    }
   ],
   "source": [
    "predicted_target = []\n",
    "target = []\n",
    "for n,i in enumerate(test_data):\n",
    "    src = vars(train_data[n])['src']\n",
    "    trg = vars(train_data[n])['trg']\n",
    "\n",
    "    src_enc,trg_enc = encodings(src,trg)\n",
    "\n",
    "    inputs = torch.tensor(src_enc)\n",
    "\n",
    "    translation = []\n",
    "    count = 0\n",
    "\n",
    "    word = '<sos>'\n",
    "    word_index = 2\n",
    "    enc_seq_len = inputs.shape[0]\n",
    "    dec_seq_len = 1\n",
    "    batch_size = 1\n",
    "    hidden = encoder.initHidden(1)\n",
    "    cell = encoder.initHidden(1)\n",
    "    enc_hidden,(hidden,cell) = encoder(inputs.view(-1,1).to(device),hidden.to(device),cell.to(device))\n",
    "    hidden = torch.cat((hidden[:encoder.num_layers],hidden[encoder.num_layers:]),dim=-1)\n",
    "    cell = torch.cat((cell[:encoder.num_layers],cell[encoder.num_layers:]),dim=-1)\n",
    "    c = torch.zeros([1,2*hidden_size]).to(device)\n",
    "    \n",
    "    while(word!='<eos>' and count<50):\n",
    "        dec_hidden,(hidden,cell) = decoder(torch.tensor([word_index]).to(device),c,hidden,cell)\n",
    "        h = dec_hidden[0]              # batch, hidden\n",
    "        a = torch.sum(torch.mul(enc_hidden,h),axis=-1)\n",
    "        a = model.softmax(a)\n",
    "        c = torch.sum(torch.mul(enc_hidden,a.view(enc_seq_len,batch_size,1)),axis=0)\n",
    "        c = model.tanh(c)\n",
    "        c = torch.cat((c,h),dim=-1)\n",
    "        c = model.tanh(c)\n",
    "        o = model.fc(c)\n",
    "        word_index = torch.argmax(o).item()\n",
    "        \n",
    "        word = english.vocab.itos[word_index]\n",
    "        if(word!='<eos>'):\n",
    "            translation.append(word)\n",
    "            count+=1\n",
    "    target.append(trg)\n",
    "    predicted_target.append(translation)\n",
    "    \n",
    "\n",
    "        \n",
    "        "
   ]
  },
  {
   "cell_type": "code",
   "execution_count": 510,
   "metadata": {
    "id": "Diruc_Zxd2GQ"
   },
   "outputs": [],
   "source": [
    "bscore = bleu_score(predicted_target, target)"
   ]
  },
  {
   "cell_type": "code",
   "execution_count": null,
   "metadata": {
    "colab": {
     "base_uri": "https://localhost:8080/"
    },
    "id": "c031qGeaL0_j",
    "outputId": "4212ac75-c277-48f3-97f3-40325898cca2"
   },
   "outputs": [],
   "source": [
    "bscore"
   ]
  },
  {
   "cell_type": "markdown",
   "metadata": {},
   "source": [
    "Bleu score of 30.2 was obtained.\n",
    "Below are some test sentences and their predicted translation"
   ]
  },
  {
   "cell_type": "code",
   "execution_count": 507,
   "metadata": {
    "colab": {
     "base_uri": "https://localhost:8080/"
    },
    "id": "Ed1Mq_HKSDjn",
    "outputId": "aad774ad-6c8c-44ac-e794-4d103e5d85b2"
   },
   "outputs": [
    {
     "name": "stdout",
     "output_type": "stream",
     "text": [
      "['two', 'white', 'men', 'are', 'outside', 'near', 'some', 'sort', 'of', 'canopy', '.']\n",
      "['two', 'young', ',', 'white', 'males', 'are', 'outside', 'near', 'many', 'bushes', '.']\n",
      "\n",
      "['several', 'men', 'in', 'hard', 'hats', 'are', 'operating', 'a', '<unk>', 'sign', '.']\n",
      "['several', 'men', 'in', 'hard', 'hats', 'are', 'operating', 'a', 'giant', 'pulley', 'system', '.']\n",
      "\n",
      "['a', 'little', 'girl', 'is', 'climbing', 'a', 'snow', 'covered', 'fence', '.']\n",
      "['a', 'little', 'girl', 'climbing', 'into', 'a', 'wooden', 'playhouse', '.']\n",
      "\n",
      "['a', 'man', 'in', 'a', 'blue', 'shirt', 'is', 'standing', 'on', 'a', 'ladder', 'cleaning', 'a', 'window', '.']\n",
      "['a', 'man', 'in', 'a', 'blue', 'shirt', 'is', 'standing', 'on', 'a', 'ladder', 'cleaning', 'a', 'window', '.']\n",
      "\n",
      "['speaks', 'at', 'the', 'stove', 'preparing', 'food', '.']\n",
      "['two', 'men', 'are', 'at', 'the', 'stove', 'preparing', 'food', '.']\n",
      "\n",
      "['a', 'green', ',', 'green', ',', 'green', ',', 'and', 'the', 'other', 'man', 'looking', 'back', 'as', 'the', 'other', 'man', 'observes', 'his', 'shirt', '.']\n",
      "['a', 'man', 'in', 'green', 'holds', 'a', 'guitar', 'while', 'the', 'other', 'man', 'observes', 'his', 'shirt', '.']\n",
      "\n",
      "['a', 'couple', 'is', 'enjoying', 'a', 'tattoo', '.']\n",
      "['a', 'man', 'is', 'smiling', 'at', 'a', 'stuffed', 'lion']\n",
      "\n",
      "['as', 'girl', 'as', 'they', '<unk>', 'down', 'the', 'street', '.']\n",
      "['a', 'trendy', 'girl', 'talking', 'on', 'her', 'cellphone', 'while', 'gliding', 'slowly', 'down', 'the', 'street', '.']\n",
      "\n",
      "['a', 'woman', 'with', 'a', 'large', 'handbag', 'is', 'walking', 'past', 'a', 'gate', '.']\n",
      "['a', 'woman', 'with', 'a', 'large', 'purse', 'is', 'walking', 'by', 'a', 'gate', '.']\n",
      "\n",
      "['boys', 'dance', 'on', 'the', 'night', 'in', 'the', 'middle', 'of', 'the', 'night', '.']\n",
      "['boys', 'dancing', 'on', 'poles', 'in', 'the', 'middle', 'of', 'the', 'night', '.']\n",
      "\n"
     ]
    }
   ],
   "source": [
    "for i in range(10):\n",
    "  print(predicted_target[i])\n",
    "  print(target[i])\n",
    "  print()"
   ]
  },
  {
   "cell_type": "code",
   "execution_count": 225,
   "metadata": {
    "id": "ZipkN10gSEUg"
   },
   "outputs": [],
   "source": []
  },
  {
   "cell_type": "code",
   "execution_count": 227,
   "metadata": {
    "id": "-fqEYFqtSIjB"
   },
   "outputs": [],
   "source": []
  },
  {
   "cell_type": "code",
   "execution_count": null,
   "metadata": {
    "id": "NDaalo_xSL2V"
   },
   "outputs": [],
   "source": []
  }
 ],
 "metadata": {
  "accelerator": "GPU",
  "colab": {
   "collapsed_sections": [],
   "name": "Attention_contextInputToHidden_bidirectional.ipynb",
   "provenance": []
  },
  "kernelspec": {
   "display_name": "Python 3",
   "language": "python",
   "name": "python3"
  },
  "language_info": {
   "codemirror_mode": {
    "name": "ipython",
    "version": 3
   },
   "file_extension": ".py",
   "mimetype": "text/x-python",
   "name": "python",
   "nbconvert_exporter": "python",
   "pygments_lexer": "ipython3",
   "version": "3.8.5"
  }
 },
 "nbformat": 4,
 "nbformat_minor": 1
}
